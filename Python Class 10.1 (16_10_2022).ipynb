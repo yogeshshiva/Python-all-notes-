{
 "cells": [
  {
   "cell_type": "markdown",
   "id": "990a65fa",
   "metadata": {},
   "source": [
    "# Pickle in Python: Object Serialization"
   ]
  },
  {
   "cell_type": "code",
   "execution_count": 1,
   "id": "52794547",
   "metadata": {},
   "outputs": [],
   "source": [
    "import pickle"
   ]
  },
  {
   "cell_type": "code",
   "execution_count": 2,
   "id": "ed443628",
   "metadata": {},
   "outputs": [],
   "source": [
    "flower_dict = {1: 'Rose', 2: \"Lily\", 3: 'Lotus', 4: \"tulip\"}"
   ]
  },
  {
   "cell_type": "code",
   "execution_count": 3,
   "id": "7b738358",
   "metadata": {},
   "outputs": [],
   "source": [
    "filename = 'flower'\n",
    "outfile = open(filename,'wb')"
   ]
  },
  {
   "cell_type": "code",
   "execution_count": 4,
   "id": "b67a3ff9",
   "metadata": {},
   "outputs": [],
   "source": [
    "# filename = 'flower'\n",
    "outfile = open('flower.obj','wb')"
   ]
  },
  {
   "cell_type": "code",
   "execution_count": 5,
   "id": "cdb286be",
   "metadata": {},
   "outputs": [],
   "source": [
    "# pickling the file\n",
    "# dump method serialize\n",
    "pickle.dump(flower_dict,outfile)\n",
    "outfile.close()"
   ]
  },
  {
   "cell_type": "code",
   "execution_count": 6,
   "id": "2ff0bfef",
   "metadata": {},
   "outputs": [],
   "source": [
    "# unpickle the file\n",
    "infile = open(filename,'rb')"
   ]
  },
  {
   "cell_type": "code",
   "execution_count": 7,
   "id": "9494d721",
   "metadata": {},
   "outputs": [],
   "source": [
    "# unpickle the file\n",
    "infile = open('flower.obj','rb')"
   ]
  },
  {
   "cell_type": "code",
   "execution_count": 8,
   "id": "30efe2ea",
   "metadata": {},
   "outputs": [],
   "source": [
    "# de-serialize\n",
    "# load method\n",
    "new_dict = pickle.load(infile)"
   ]
  },
  {
   "cell_type": "code",
   "execution_count": 9,
   "id": "39ca8df0",
   "metadata": {},
   "outputs": [],
   "source": [
    "infile.close()"
   ]
  },
  {
   "cell_type": "code",
   "execution_count": 10,
   "id": "18630b70",
   "metadata": {
    "scrolled": true
   },
   "outputs": [
    {
     "name": "stdout",
     "output_type": "stream",
     "text": [
      "{1: 'Rose', 2: 'Lily', 3: 'Lotus', 4: 'tulip'}\n"
     ]
    }
   ],
   "source": [
    "print(new_dict)"
   ]
  },
  {
   "cell_type": "code",
   "execution_count": 11,
   "id": "823f5078",
   "metadata": {},
   "outputs": [
    {
     "name": "stdout",
     "output_type": "stream",
     "text": [
      "True\n"
     ]
    }
   ],
   "source": [
    "print(new_dict == flower_dict)"
   ]
  },
  {
   "cell_type": "code",
   "execution_count": 12,
   "id": "b50f715c",
   "metadata": {
    "scrolled": true
   },
   "outputs": [
    {
     "name": "stdout",
     "output_type": "stream",
     "text": [
      "<class 'dict'>\n"
     ]
    }
   ],
   "source": [
    "print(type(new_dict))"
   ]
  },
  {
   "cell_type": "code",
   "execution_count": 13,
   "id": "f5d834f0",
   "metadata": {},
   "outputs": [],
   "source": [
    "import sqlite3"
   ]
  },
  {
   "cell_type": "markdown",
   "id": "2946b81f",
   "metadata": {},
   "source": [
    "working with database using SQL (Structured Query Language)\n",
    "\n",
    "1. Create a connection object.\n",
    "2. From the connection object, create a cursor object.\n",
    "3. Using the cursor object, call the execute method with create table query as the parameter."
   ]
  },
  {
   "cell_type": "markdown",
   "id": "d6820ffc",
   "metadata": {},
   "source": [
    "# Create Database"
   ]
  },
  {
   "cell_type": "code",
   "execution_count": 14,
   "id": "7492fbf9",
   "metadata": {},
   "outputs": [],
   "source": [
    "# student_database will be created in jupyter notebook home\n",
    "\n",
    "# first connection object\n",
    "db = sqlite3.connect('student_database.db')"
   ]
  },
  {
   "cell_type": "markdown",
   "id": "4ef6210f",
   "metadata": {},
   "source": [
    "Cursor\n",
    "A cursor is SQL is a temporary work area created in system memory when a SQL statement is executed.\n",
    "A SQL cursor is a set of rows together with a pointer that indentifies a current row.\n",
    "It is a database object to retrieve data from a result set one row at a time."
   ]
  },
  {
   "cell_type": "code",
   "execution_count": 17,
   "id": "0cd02354",
   "metadata": {},
   "outputs": [],
   "source": [
    "# create cursor object from connection\n",
    "\n",
    "cur = db.cursor()"
   ]
  },
  {
   "cell_type": "markdown",
   "id": "dc263679",
   "metadata": {},
   "source": [
    "# Create table in student_database"
   ]
  },
  {
   "cell_type": "markdown",
   "id": "9d516519",
   "metadata": {},
   "source": [
    "SQL data types--\n",
    "integer -- numeric values\n",
    "real -- character values\n",
    "text -- character values\n",
    "char(20) -- character values"
   ]
  },
  {
   "cell_type": "code",
   "execution_count": 18,
   "id": "ed5b3972",
   "metadata": {},
   "outputs": [
    {
     "data": {
      "text/plain": [
       "<sqlite3.Cursor at 0x1e1356b6dc0>"
      ]
     },
     "execution_count": 18,
     "metadata": {},
     "output_type": "execute_result"
    }
   ],
   "source": [
    "cur.execute(\"create table student (id int primary key, name text, marks int)\")"
   ]
  },
  {
   "cell_type": "markdown",
   "id": "0d4b18d0",
   "metadata": {},
   "source": [
    "# Insert data in student table"
   ]
  },
  {
   "cell_type": "code",
   "execution_count": 20,
   "id": "2f057016",
   "metadata": {},
   "outputs": [],
   "source": [
    "cur.execute(\"Insert into student(id,name,marks) values(1,'john',90)\")\n",
    "db.commit()"
   ]
  },
  {
   "cell_type": "code",
   "execution_count": 21,
   "id": "0ac847c7",
   "metadata": {
    "scrolled": true
   },
   "outputs": [
    {
     "name": "stdout",
     "output_type": "stream",
     "text": [
      "1 Record(s) inserted\n"
     ]
    }
   ],
   "source": [
    "print(cur.rowcount,'Record(s) inserted')"
   ]
  },
  {
   "cell_type": "code",
   "execution_count": 23,
   "id": "3a045f54",
   "metadata": {},
   "outputs": [
    {
     "data": {
      "text/plain": [
       "<sqlite3.Cursor at 0x1e1356b6dc0>"
      ]
     },
     "execution_count": 23,
     "metadata": {},
     "output_type": "execute_result"
    }
   ],
   "source": [
    "cur.execute(\"Insert into student(id,name,marks) values(2,'Teena',100)\")"
   ]
  },
  {
   "cell_type": "markdown",
   "id": "5c9c0f35",
   "metadata": {},
   "source": [
    "# SQLITE DBMS"
   ]
  },
  {
   "cell_type": "code",
   "execution_count": 3,
   "id": "74004367",
   "metadata": {},
   "outputs": [],
   "source": [
    "import sqlite3"
   ]
  },
  {
   "cell_type": "code",
   "execution_count": 4,
   "id": "d6473c01",
   "metadata": {},
   "outputs": [],
   "source": [
    "dbcon = sqlite3.connect('mystudent_database.db')"
   ]
  },
  {
   "cell_type": "code",
   "execution_count": 5,
   "id": "ff8c372e",
   "metadata": {},
   "outputs": [],
   "source": [
    "cur = dbcon.cursor()"
   ]
  },
  {
   "cell_type": "code",
   "execution_count": 6,
   "id": "9a23f83e",
   "metadata": {},
   "outputs": [
    {
     "data": {
      "text/plain": [
       "<sqlite3.Cursor at 0x23f05dafe30>"
      ]
     },
     "execution_count": 6,
     "metadata": {},
     "output_type": "execute_result"
    }
   ],
   "source": [
    "cur.execute(\"create table student (id int primary key,name test,marks int)\")"
   ]
  },
  {
   "cell_type": "code",
   "execution_count": 7,
   "id": "9858fcb0",
   "metadata": {},
   "outputs": [],
   "source": [
    "cur.execute(\"insert into student(id,name,marks) values(1, 'smith', 78)\")\n",
    "dbcon.commit()"
   ]
  },
  {
   "cell_type": "code",
   "execution_count": 8,
   "id": "d09470d8",
   "metadata": {},
   "outputs": [
    {
     "name": "stdout",
     "output_type": "stream",
     "text": [
      "(1, 'smith', 78)\n"
     ]
    }
   ],
   "source": [
    "results = cur.execute(\"select * from student\")\n",
    "\n",
    "for i in results:\n",
    "    print(i)"
   ]
  },
  {
   "cell_type": "code",
   "execution_count": 9,
   "id": "713d6991",
   "metadata": {},
   "outputs": [],
   "source": [
    "cur.execute(\"insert into student(id,name,marks) values(2,'john',75)\")\n",
    "dbcon.commit()"
   ]
  },
  {
   "cell_type": "code",
   "execution_count": 24,
   "id": "4d8fb786",
   "metadata": {
    "scrolled": true
   },
   "outputs": [
    {
     "ename": "NameError",
     "evalue": "name 'dbcon' is not defined",
     "output_type": "error",
     "traceback": [
      "\u001b[1;31m---------------------------------------------------------------------------\u001b[0m",
      "\u001b[1;31mNameError\u001b[0m                                 Traceback (most recent call last)",
      "Input \u001b[1;32mIn [24]\u001b[0m, in \u001b[0;36m<cell line: 2>\u001b[1;34m()\u001b[0m\n\u001b[0;32m      1\u001b[0m cur\u001b[38;5;241m.\u001b[39mexecute(\u001b[38;5;124m\"\u001b[39m\u001b[38;5;124minsert into student (id,name,marks) values(3,\u001b[39m\u001b[38;5;124m'\u001b[39m\u001b[38;5;124mjack\u001b[39m\u001b[38;5;124m'\u001b[39m\u001b[38;5;124m,90)\u001b[39m\u001b[38;5;124m\"\u001b[39m)\n\u001b[1;32m----> 2\u001b[0m \u001b[43mdbcon\u001b[49m\u001b[38;5;241m.\u001b[39mcommit()\n",
      "\u001b[1;31mNameError\u001b[0m: name 'dbcon' is not defined"
     ]
    }
   ],
   "source": [
    "cur.execute(\"insert into student (id,name,marks) values(3,'jack',90)\")   # only one time execute for one table\n",
    "dbcon.commit()"
   ]
  },
  {
   "cell_type": "code",
   "execution_count": 14,
   "id": "89d6a911",
   "metadata": {},
   "outputs": [],
   "source": [
    "dbcon.commit()"
   ]
  },
  {
   "cell_type": "code",
   "execution_count": 13,
   "id": "df04726f",
   "metadata": {},
   "outputs": [
    {
     "name": "stdout",
     "output_type": "stream",
     "text": [
      "(1, 'smith', 78)\n",
      "(2, 'john', 75)\n",
      "(3, 'jack', 90)\n"
     ]
    }
   ],
   "source": [
    "results = cur.execute(\"select * from student\")\n",
    "\n",
    "for i in results:\n",
    "    print(i)"
   ]
  },
  {
   "cell_type": "code",
   "execution_count": 18,
   "id": "ace691c9",
   "metadata": {},
   "outputs": [],
   "source": [
    "cur.execute(\"insert into student (id,name,marks) values(4, 'john', 82)\")\n",
    "\n",
    "dbcon.commit()"
   ]
  },
  {
   "cell_type": "code",
   "execution_count": 20,
   "id": "ceffcedf",
   "metadata": {},
   "outputs": [],
   "source": [
    "cur.execute(\"insert into student(id,name,marks) values(5, 'Lisa', 88)\")\n",
    "\n",
    "dbcon.commit()"
   ]
  },
  {
   "cell_type": "code",
   "execution_count": 23,
   "id": "92aefa30",
   "metadata": {},
   "outputs": [
    {
     "name": "stdout",
     "output_type": "stream",
     "text": [
      "(1, 'smith', 78)\n",
      "(2, 'john', 75)\n",
      "(3, 'jack', 90)\n",
      "(4, 'john', 82)\n",
      "(5, 'Lisa', 88)\n"
     ]
    }
   ],
   "source": [
    "results = cur.execute(\"select * from student\")\n",
    "\n",
    "for i in results:\n",
    "    print(i)"
   ]
  },
  {
   "cell_type": "code",
   "execution_count": 24,
   "id": "00ea3a95",
   "metadata": {},
   "outputs": [],
   "source": [
    "cur.execute(\"insert into student values(6, 'Harry', 83)\")\n",
    "\n",
    "dbcon.commit()"
   ]
  },
  {
   "cell_type": "code",
   "execution_count": 25,
   "id": "881007ac",
   "metadata": {},
   "outputs": [],
   "source": [
    "cur.execute(\"insert into student values(7, 'ABC', 76),(8, 'DEF',94)\")\n",
    "\n",
    "dbcon.commit()"
   ]
  },
  {
   "cell_type": "code",
   "execution_count": 26,
   "id": "78099509",
   "metadata": {},
   "outputs": [
    {
     "name": "stdout",
     "output_type": "stream",
     "text": [
      "(1, 'smith', 78)\n",
      "(2, 'john', 75)\n",
      "(3, 'jack', 90)\n",
      "(4, 'john', 82)\n",
      "(5, 'Lisa', 88)\n",
      "(6, 'Harry', 83)\n",
      "(7, 'ABC', 76)\n",
      "(8, 'DEF', 94)\n"
     ]
    }
   ],
   "source": [
    "results = cur.execute(\"select * from student\")\n",
    "\n",
    "for i in results:\n",
    "    print(i)"
   ]
  }
 ],
 "metadata": {
  "kernelspec": {
   "display_name": "Python 3 (ipykernel)",
   "language": "python",
   "name": "python3"
  },
  "language_info": {
   "codemirror_mode": {
    "name": "ipython",
    "version": 3
   },
   "file_extension": ".py",
   "mimetype": "text/x-python",
   "name": "python",
   "nbconvert_exporter": "python",
   "pygments_lexer": "ipython3",
   "version": "3.9.12"
  }
 },
 "nbformat": 4,
 "nbformat_minor": 5
}
