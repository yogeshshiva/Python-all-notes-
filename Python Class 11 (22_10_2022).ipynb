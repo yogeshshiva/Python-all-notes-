{
 "cells": [
  {
   "cell_type": "code",
   "execution_count": 2,
   "id": "138c8285",
   "metadata": {},
   "outputs": [],
   "source": [
    "import sqlite3"
   ]
  },
  {
   "cell_type": "code",
   "execution_count": 3,
   "id": "1e6a2adb",
   "metadata": {},
   "outputs": [],
   "source": [
    "con = sqlite3.connect('mystudent_database.db')"
   ]
  },
  {
   "cell_type": "code",
   "execution_count": 4,
   "id": "282a0c01",
   "metadata": {},
   "outputs": [],
   "source": [
    "cur = con.cursor()"
   ]
  },
  {
   "cell_type": "code",
   "execution_count": 5,
   "id": "6914a4e7",
   "metadata": {},
   "outputs": [
    {
     "name": "stdout",
     "output_type": "stream",
     "text": [
      "(1, 'smith', 78)\n",
      "(2, 'john', 75)\n",
      "(3, 'jack', 90)\n",
      "(4, 'john', 82)\n",
      "(5, 'Lisa', 88)\n",
      "(6, 'Harry', 83)\n",
      "(7, 'ABC', 76)\n",
      "(8, 'DEF', 94)\n"
     ]
    }
   ],
   "source": [
    "results = cur.execute('select * from student')\n",
    "\n",
    "for i in results:\n",
    "    print(i)"
   ]
  },
  {
   "cell_type": "code",
   "execution_count": 6,
   "id": "6d78fbea",
   "metadata": {},
   "outputs": [
    {
     "name": "stdout",
     "output_type": "stream",
     "text": [
      "(1,)\n",
      "(2,)\n",
      "(3,)\n",
      "(4,)\n",
      "(5,)\n",
      "(6,)\n",
      "(7,)\n",
      "(8,)\n"
     ]
    }
   ],
   "source": [
    "cur.execute('select id from student')     # replace * by id and only show output id\n",
    "\n",
    "for i in results:\n",
    "    print(i)"
   ]
  },
  {
   "cell_type": "code",
   "execution_count": 7,
   "id": "737ef630",
   "metadata": {},
   "outputs": [
    {
     "name": "stdout",
     "output_type": "stream",
     "text": [
      "('smith',)\n",
      "('john',)\n",
      "('jack',)\n",
      "('john',)\n",
      "('Lisa',)\n",
      "('Harry',)\n",
      "('ABC',)\n",
      "('DEF',)\n"
     ]
    }
   ],
   "source": [
    "cur.execute('select name from student')     # replace * by name and only show output name\n",
    "\n",
    "for i in results:\n",
    "    print(i)"
   ]
  },
  {
   "cell_type": "code",
   "execution_count": 8,
   "id": "ac13b037",
   "metadata": {},
   "outputs": [
    {
     "name": "stdout",
     "output_type": "stream",
     "text": [
      "(78,)\n",
      "(75,)\n",
      "(90,)\n",
      "(82,)\n",
      "(88,)\n",
      "(83,)\n",
      "(76,)\n",
      "(94,)\n"
     ]
    }
   ],
   "source": [
    "cur.execute('select marks from student')     # replace * by marks and only show output marks\n",
    "\n",
    "for i in results:\n",
    "    print(i)"
   ]
  },
  {
   "cell_type": "code",
   "execution_count": 9,
   "id": "121ddb0e",
   "metadata": {},
   "outputs": [
    {
     "name": "stdout",
     "output_type": "stream",
     "text": [
      "(1, 'smith')\n",
      "(2, 'john')\n",
      "(3, 'jack')\n",
      "(4, 'john')\n",
      "(5, 'Lisa')\n",
      "(6, 'Harry')\n",
      "(7, 'ABC')\n",
      "(8, 'DEF')\n"
     ]
    }
   ],
   "source": [
    "cur.execute('select id,name from student')     # replace * by id and name and only show output id and name\n",
    "\n",
    "for i in results:\n",
    "    print(i)"
   ]
  },
  {
   "cell_type": "code",
   "execution_count": 10,
   "id": "1e05b6ca",
   "metadata": {},
   "outputs": [
    {
     "name": "stdout",
     "output_type": "stream",
     "text": [
      "('smith', 78)\n",
      "('john', 75)\n",
      "('jack', 90)\n",
      "('john', 82)\n",
      "('Lisa', 88)\n",
      "('Harry', 83)\n",
      "('ABC', 76)\n",
      "('DEF', 94)\n"
     ]
    }
   ],
   "source": [
    "cur.execute('select name,marks from student')     \n",
    "\n",
    "for i in results:\n",
    "    print(i)"
   ]
  },
  {
   "cell_type": "code",
   "execution_count": 11,
   "id": "b3d08478",
   "metadata": {},
   "outputs": [
    {
     "name": "stdout",
     "output_type": "stream",
     "text": [
      "(1, 78)\n",
      "(2, 75)\n",
      "(3, 90)\n",
      "(4, 82)\n",
      "(5, 88)\n",
      "(6, 83)\n",
      "(7, 76)\n",
      "(8, 94)\n"
     ]
    }
   ],
   "source": [
    "cur.execute('select id,marks from student')     \n",
    "\n",
    "for i in results:\n",
    "    print(i)"
   ]
  },
  {
   "cell_type": "code",
   "execution_count": 12,
   "id": "39f2cd8d",
   "metadata": {},
   "outputs": [
    {
     "name": "stdout",
     "output_type": "stream",
     "text": [
      "(1, 'smith', 78)\n"
     ]
    }
   ],
   "source": [
    "cur.execute('select * from student where id=1')     \n",
    "\n",
    "for i in results:\n",
    "    print(i)"
   ]
  },
  {
   "cell_type": "code",
   "execution_count": 13,
   "id": "c330e9fb",
   "metadata": {},
   "outputs": [
    {
     "name": "stdout",
     "output_type": "stream",
     "text": [
      "(2, 'john', 75)\n"
     ]
    }
   ],
   "source": [
    "cur.execute('select * from student where id=2')     \n",
    "\n",
    "for i in results:\n",
    "    print(i)"
   ]
  },
  {
   "cell_type": "code",
   "execution_count": 14,
   "id": "045a8d94",
   "metadata": {},
   "outputs": [
    {
     "name": "stdout",
     "output_type": "stream",
     "text": [
      "(7, 'ABC', 76)\n"
     ]
    }
   ],
   "source": [
    "cur.execute('select * from student where id=7')     \n",
    "\n",
    "for i in results:\n",
    "    print(i)"
   ]
  },
  {
   "cell_type": "code",
   "execution_count": 15,
   "id": "2706d5ba",
   "metadata": {},
   "outputs": [
    {
     "name": "stdout",
     "output_type": "stream",
     "text": [
      "(5, 'Lisa', 88)\n"
     ]
    }
   ],
   "source": [
    "results = cur.execute('select * from student where name=\"Lisa\"')     \n",
    "\n",
    "for i in results:\n",
    "    print(i)"
   ]
  },
  {
   "cell_type": "code",
   "execution_count": 16,
   "id": "f955c4cb",
   "metadata": {},
   "outputs": [
    {
     "name": "stdout",
     "output_type": "stream",
     "text": [
      "(6, 'Harry', 83)\n"
     ]
    }
   ],
   "source": [
    "results = cur.execute('select * from student where name=\"Harry\"')     \n",
    "\n",
    "for i in results:\n",
    "    print(i)"
   ]
  },
  {
   "cell_type": "code",
   "execution_count": 17,
   "id": "c44ec9b5",
   "metadata": {},
   "outputs": [
    {
     "name": "stdout",
     "output_type": "stream",
     "text": [
      "(88,)\n"
     ]
    }
   ],
   "source": [
    "results = cur.execute('select marks from student where name=\"Lisa\"')     \n",
    "\n",
    "for i in results:\n",
    "    print(i)"
   ]
  },
  {
   "cell_type": "code",
   "execution_count": 18,
   "id": "271f72d4",
   "metadata": {},
   "outputs": [
    {
     "name": "stdout",
     "output_type": "stream",
     "text": [
      "(5,)\n"
     ]
    }
   ],
   "source": [
    "results = cur.execute('select id from student where name=\"Lisa\"')     \n",
    "\n",
    "for i in results:\n",
    "    print(i)"
   ]
  },
  {
   "cell_type": "code",
   "execution_count": 19,
   "id": "bfc05d38",
   "metadata": {},
   "outputs": [
    {
     "name": "stdout",
     "output_type": "stream",
     "text": [
      "(1, 'smith', 78)\n",
      "(2, 'john', 75)\n",
      "(3, 'jack', 90)\n",
      "(4, 'john', 82)\n",
      "(5, 'Lisa', 88)\n",
      "(6, 'Harry', 83)\n",
      "(7, 'ABC', 76)\n",
      "(8, 'DEF', 94)\n"
     ]
    }
   ],
   "source": [
    "results = cur.execute('select * from student')     \n",
    "\n",
    "for i in results:\n",
    "    print(i)"
   ]
  },
  {
   "cell_type": "code",
   "execution_count": 20,
   "id": "1e5cb2b4",
   "metadata": {},
   "outputs": [
    {
     "name": "stdout",
     "output_type": "stream",
     "text": [
      "(1, 'smith', 78)\n",
      "(2, 'john', 75)\n",
      "(3, 'jack', 90)\n"
     ]
    }
   ],
   "source": [
    "results = cur.execute('select * from student limit 3')     \n",
    "\n",
    "for i in results:\n",
    "    print(i)"
   ]
  },
  {
   "cell_type": "code",
   "execution_count": 21,
   "id": "a57558af",
   "metadata": {},
   "outputs": [
    {
     "name": "stdout",
     "output_type": "stream",
     "text": [
      "(1, 'smith', 78)\n",
      "(2, 'john', 75)\n",
      "(3, 'jack', 90)\n",
      "(4, 'john', 82)\n",
      "(5, 'Lisa', 88)\n"
     ]
    }
   ],
   "source": [
    "results = cur.execute('select * from student limit 5')     \n",
    "\n",
    "for i in results:\n",
    "    print(i)"
   ]
  },
  {
   "cell_type": "code",
   "execution_count": 22,
   "id": "106ddadb",
   "metadata": {},
   "outputs": [
    {
     "name": "stdout",
     "output_type": "stream",
     "text": [
      "(1, 'smith', 78)\n",
      "(2, 'john', 75)\n"
     ]
    }
   ],
   "source": [
    "results = cur.execute('select * from student where id in (1,2)')     \n",
    "\n",
    "for i in results:\n",
    "    print(i)"
   ]
  },
  {
   "cell_type": "code",
   "execution_count": 23,
   "id": "014a65d0",
   "metadata": {},
   "outputs": [
    {
     "name": "stdout",
     "output_type": "stream",
     "text": [
      "(1, 'smith', 78)\n",
      "(2, 'john', 75)\n",
      "(5, 'Lisa', 88)\n"
     ]
    }
   ],
   "source": [
    "results = cur.execute('select * from student where id in (1,2,5)')     \n",
    "\n",
    "for i in results:\n",
    "    print(i)"
   ]
  },
  {
   "cell_type": "code",
   "execution_count": 24,
   "id": "f4da96ea",
   "metadata": {},
   "outputs": [
    {
     "name": "stdout",
     "output_type": "stream",
     "text": [
      "(1, 'smith', 78)\n"
     ]
    }
   ],
   "source": [
    "results = cur.execute('select * from student where id = 1 and name = \"smith\"')     \n",
    "\n",
    "for i in results:\n",
    "    print(i)"
   ]
  },
  {
   "cell_type": "code",
   "execution_count": 25,
   "id": "125db4e7",
   "metadata": {},
   "outputs": [],
   "source": [
    "results = cur.execute('select * from student where id = 1 and name = \"john\"')     # here no output because john doesn't inside id 1 that why here no output.\n",
    "\n",
    "for i in results:\n",
    "    print(i)"
   ]
  },
  {
   "cell_type": "code",
   "execution_count": 26,
   "id": "efa8f009",
   "metadata": {},
   "outputs": [
    {
     "name": "stdout",
     "output_type": "stream",
     "text": [
      "(8, 'DEF', 94)\n"
     ]
    }
   ],
   "source": [
    "results = cur.execute('select * from student where id = 8 and name = \"DEF\"')\n",
    "\n",
    "for i in results:\n",
    "    print(i)"
   ]
  },
  {
   "cell_type": "code",
   "execution_count": 27,
   "id": "395871be",
   "metadata": {},
   "outputs": [],
   "source": [
    "results = cur.execute('select * from student where id = 15 and name = \"DEF\"')   # id 15 is wrong that's why doesn't show any data.\n",
    "\n",
    "for i in results:\n",
    "    print(i)"
   ]
  },
  {
   "cell_type": "code",
   "execution_count": 28,
   "id": "662fd72c",
   "metadata": {},
   "outputs": [
    {
     "name": "stdout",
     "output_type": "stream",
     "text": [
      "(1, 'smith', 78)\n",
      "(2, 'john', 75)\n",
      "(3, 'jack', 90)\n",
      "(4, 'john', 82)\n",
      "(5, 'Lisa', 88)\n",
      "(6, 'Harry', 83)\n",
      "(7, 'ABC', 76)\n",
      "(8, 'DEF', 94)\n"
     ]
    }
   ],
   "source": [
    "results = cur.execute('select * from student ')\n",
    "\n",
    "for i in results:\n",
    "    print(i)"
   ]
  },
  {
   "cell_type": "code",
   "execution_count": 29,
   "id": "dcc17427",
   "metadata": {},
   "outputs": [
    {
     "name": "stdout",
     "output_type": "stream",
     "text": [
      "(1, 'smith', 78)\n",
      "(6, 'Harry', 83)\n"
     ]
    }
   ],
   "source": [
    "results = cur.execute('select * from student where id = 1 or name = \"Harry\"')   # here two output is given because id 1 is correct and harry is also our list and we use here or operator.\n",
    "\n",
    "for i in results:\n",
    "    print(i)"
   ]
  },
  {
   "cell_type": "code",
   "execution_count": 30,
   "id": "b84cb0cc",
   "metadata": {},
   "outputs": [
    {
     "name": "stdout",
     "output_type": "stream",
     "text": [
      "(1, 'smith', 78)\n"
     ]
    }
   ],
   "source": [
    "results = cur.execute('select * from student where id = 1 or name = \"Adam\"')    # here only one output because adam is not our list \n",
    "\n",
    "for i in results:\n",
    "    print(i)"
   ]
  },
  {
   "cell_type": "code",
   "execution_count": 31,
   "id": "e74417b3",
   "metadata": {},
   "outputs": [
    {
     "name": "stdout",
     "output_type": "stream",
     "text": [
      "(6, 'Harry', 83)\n"
     ]
    }
   ],
   "source": [
    "results = cur.execute('select * from student where id = 20 or name = \"Harry\"')\n",
    "\n",
    "for i in results:\n",
    "    print(i)"
   ]
  },
  {
   "cell_type": "code",
   "execution_count": 32,
   "id": "930c7151",
   "metadata": {},
   "outputs": [
    {
     "name": "stdout",
     "output_type": "stream",
     "text": [
      "(6, 'Harry', 83)\n"
     ]
    }
   ],
   "source": [
    "results = cur.execute('select * from student where id = 20 or marks = 83')\n",
    "\n",
    "for i in results:\n",
    "    print(i)"
   ]
  },
  {
   "cell_type": "code",
   "execution_count": 33,
   "id": "2b27f50d",
   "metadata": {},
   "outputs": [
    {
     "name": "stdout",
     "output_type": "stream",
     "text": [
      "(1, 'smith', 78)\n",
      "(2, 'john', 75)\n",
      "(3, 'jack', 90)\n",
      "(4, 'john', 82)\n",
      "(5, 'Lisa', 88)\n",
      "(6, 'Harry', 83)\n",
      "(7, 'ABC', 76)\n",
      "(8, 'DEF', 94)\n"
     ]
    }
   ],
   "source": [
    "results = cur.execute('select * from student')\n",
    "\n",
    "for i in results:\n",
    "    print(i)"
   ]
  },
  {
   "cell_type": "code",
   "execution_count": 34,
   "id": "ee90b6e0",
   "metadata": {},
   "outputs": [],
   "source": [
    "results = cur.execute('select * from student where name is null')   # because name are filled that's why doesn't show any data in output.\n",
    "\n",
    "for i in results:\n",
    "    print(i)"
   ]
  },
  {
   "cell_type": "code",
   "execution_count": 35,
   "id": "8da211a2",
   "metadata": {},
   "outputs": [
    {
     "name": "stdout",
     "output_type": "stream",
     "text": [
      "(1, 'smith', 78)\n",
      "(2, 'john', 75)\n",
      "(3, 'jack', 90)\n",
      "(4, 'john', 82)\n",
      "(5, 'Lisa', 88)\n",
      "(6, 'Harry', 83)\n",
      "(7, 'ABC', 76)\n",
      "(8, 'DEF', 94)\n"
     ]
    }
   ],
   "source": [
    "results = cur.execute('select * from student where name is NOT null')   # because name are filled that's why doesn't show any data in output.\n",
    "\n",
    "for i in results:\n",
    "    print(i)"
   ]
  },
  {
   "cell_type": "code",
   "execution_count": 36,
   "id": "e1e7e32d",
   "metadata": {},
   "outputs": [
    {
     "name": "stdout",
     "output_type": "stream",
     "text": [
      "(3, 'jack', 90)\n",
      "(4, 'john', 82)\n",
      "(5, 'Lisa', 88)\n",
      "(6, 'Harry', 83)\n",
      "(8, 'DEF', 94)\n"
     ]
    }
   ],
   "source": [
    "results = cur.execute('select * from student where marks>80')\n",
    "\n",
    "for i in results:\n",
    "    print(i)"
   ]
  },
  {
   "cell_type": "code",
   "execution_count": 37,
   "id": "96b60346",
   "metadata": {},
   "outputs": [
    {
     "name": "stdout",
     "output_type": "stream",
     "text": [
      "(1, 'smith', 78)\n",
      "(2, 'john', 75)\n",
      "(7, 'ABC', 76)\n"
     ]
    }
   ],
   "source": [
    "results = cur.execute('select * from student where marks<80')\n",
    "\n",
    "for i in results:\n",
    "    print(i)"
   ]
  },
  {
   "cell_type": "code",
   "execution_count": 38,
   "id": "d4efdcb8",
   "metadata": {},
   "outputs": [
    {
     "name": "stdout",
     "output_type": "stream",
     "text": [
      "(8, 'DEF', 94)\n"
     ]
    }
   ],
   "source": [
    "results = cur.execute('select * from student where marks>90')\n",
    "\n",
    "for i in results:\n",
    "    print(i)"
   ]
  },
  {
   "cell_type": "code",
   "execution_count": 39,
   "id": "18800b7e",
   "metadata": {},
   "outputs": [
    {
     "name": "stdout",
     "output_type": "stream",
     "text": [
      "(1, 'smith', 78)\n",
      "(4, 'john', 82)\n",
      "(6, 'Harry', 83)\n",
      "(7, 'ABC', 76)\n"
     ]
    }
   ],
   "source": [
    "results = cur.execute('select * from student where marks>75 and marks<85')\n",
    "\n",
    "for i in results:\n",
    "    print(i)"
   ]
  },
  {
   "cell_type": "code",
   "execution_count": 40,
   "id": "e861149d",
   "metadata": {},
   "outputs": [
    {
     "name": "stdout",
     "output_type": "stream",
     "text": [
      "(1, 'smith', 78)\n",
      "(2, 'john', 75)\n",
      "(4, 'john', 82)\n",
      "(6, 'Harry', 83)\n",
      "(7, 'ABC', 76)\n"
     ]
    }
   ],
   "source": [
    "results = cur.execute('select * from student where marks between 75 and 85')    # here between is also work like operator.\n",
    "\n",
    "for i in results:\n",
    "    print(i)"
   ]
  },
  {
   "cell_type": "code",
   "execution_count": 41,
   "id": "4da0019b",
   "metadata": {},
   "outputs": [
    {
     "name": "stdout",
     "output_type": "stream",
     "text": [
      "(1, 'smith', 78)\n",
      "(2, 'john', 75)\n",
      "(3, 'jack', 90)\n",
      "(4, 'john', 82)\n"
     ]
    }
   ],
   "source": [
    "results = cur.execute('select * from student where id between 1 and 4 ')\n",
    "\n",
    "for i in results:\n",
    "    print(i)"
   ]
  },
  {
   "cell_type": "code",
   "execution_count": 42,
   "id": "73c4b05d",
   "metadata": {},
   "outputs": [
    {
     "name": "stdout",
     "output_type": "stream",
     "text": [
      "(7, 'ABC', 76)\n",
      "(8, 'DEF', 94)\n",
      "(6, 'Harry', 83)\n",
      "(5, 'Lisa', 88)\n",
      "(3, 'jack', 90)\n",
      "(2, 'john', 75)\n",
      "(4, 'john', 82)\n",
      "(1, 'smith', 78)\n"
     ]
    }
   ],
   "source": [
    "results = cur.execute('select * from student order by name asc')\n",
    "\n",
    "for i in results:\n",
    "    print(i)"
   ]
  },
  {
   "cell_type": "code",
   "execution_count": 43,
   "id": "803be9fa",
   "metadata": {},
   "outputs": [
    {
     "name": "stdout",
     "output_type": "stream",
     "text": [
      "(1, 'smith', 78)\n",
      "(2, 'john', 75)\n",
      "(4, 'john', 82)\n",
      "(3, 'jack', 90)\n",
      "(5, 'Lisa', 88)\n",
      "(6, 'Harry', 83)\n",
      "(8, 'DEF', 94)\n",
      "(7, 'ABC', 76)\n"
     ]
    }
   ],
   "source": [
    "results = cur.execute('select * from student order by name desc')\n",
    "\n",
    "for i in results:\n",
    "    print(i)"
   ]
  },
  {
   "cell_type": "code",
   "execution_count": 44,
   "id": "77fd20b2",
   "metadata": {},
   "outputs": [
    {
     "name": "stdout",
     "output_type": "stream",
     "text": [
      "(8, 'DEF', 94)\n",
      "(3, 'jack', 90)\n",
      "(5, 'Lisa', 88)\n",
      "(6, 'Harry', 83)\n",
      "(4, 'john', 82)\n",
      "(1, 'smith', 78)\n",
      "(7, 'ABC', 76)\n",
      "(2, 'john', 75)\n"
     ]
    }
   ],
   "source": [
    "results = cur.execute('select * from student order by marks desc')\n",
    "\n",
    "for i in results:\n",
    "    print(i)"
   ]
  },
  {
   "cell_type": "code",
   "execution_count": 45,
   "id": "990c8269",
   "metadata": {
    "scrolled": true
   },
   "outputs": [
    {
     "name": "stdout",
     "output_type": "stream",
     "text": [
      "(8, 'DEF', 94)\n",
      "(7, 'ABC', 76)\n",
      "(6, 'Harry', 83)\n",
      "(5, 'Lisa', 88)\n",
      "(4, 'john', 82)\n",
      "(3, 'jack', 90)\n",
      "(2, 'john', 75)\n",
      "(1, 'smith', 78)\n"
     ]
    }
   ],
   "source": [
    "results = cur.execute('select * from student order by id desc')\n",
    "\n",
    "for i in results:\n",
    "    print(i)"
   ]
  },
  {
   "cell_type": "code",
   "execution_count": 46,
   "id": "518e0d71",
   "metadata": {},
   "outputs": [
    {
     "data": {
      "text/plain": [
       "[(1, 'smith', 78),\n",
       " (2, 'john', 75),\n",
       " (3, 'jack', 90),\n",
       " (4, 'john', 82),\n",
       " (5, 'Lisa', 88),\n",
       " (6, 'Harry', 83),\n",
       " (7, 'ABC', 76),\n",
       " (8, 'DEF', 94)]"
      ]
     },
     "execution_count": 46,
     "metadata": {},
     "output_type": "execute_result"
    }
   ],
   "source": [
    "results = cur.execute('select * from student')\n",
    "\n",
    "results.fetchall()"
   ]
  },
  {
   "cell_type": "code",
   "execution_count": 47,
   "id": "b9376449",
   "metadata": {},
   "outputs": [
    {
     "data": {
      "text/plain": [
       "(1, 'smith', 78)"
      ]
     },
     "execution_count": 47,
     "metadata": {},
     "output_type": "execute_result"
    }
   ],
   "source": [
    "results = cur.execute('select * from student')\n",
    "\n",
    "results.fetchone()"
   ]
  },
  {
   "cell_type": "markdown",
   "id": "0274d818",
   "metadata": {},
   "source": [
    "# Aggregate functions "
   ]
  },
  {
   "cell_type": "code",
   "execution_count": 48,
   "id": "61eac575",
   "metadata": {},
   "outputs": [
    {
     "name": "stdout",
     "output_type": "stream",
     "text": [
      "(75,)\n"
     ]
    }
   ],
   "source": [
    "results = cur.execute('select min(marks) from student')\n",
    "\n",
    "for i in results:\n",
    "    print(i)"
   ]
  },
  {
   "cell_type": "code",
   "execution_count": 49,
   "id": "87780c68",
   "metadata": {},
   "outputs": [
    {
     "data": {
      "text/plain": [
       "(94,)"
      ]
     },
     "execution_count": 49,
     "metadata": {},
     "output_type": "execute_result"
    }
   ],
   "source": [
    "results = cur.execute('select max(marks) from student')\n",
    "\n",
    "results.fetchone()"
   ]
  },
  {
   "cell_type": "code",
   "execution_count": 50,
   "id": "dc681c8f",
   "metadata": {},
   "outputs": [
    {
     "data": {
      "text/plain": [
       "[(75,)]"
      ]
     },
     "execution_count": 50,
     "metadata": {},
     "output_type": "execute_result"
    }
   ],
   "source": [
    "results = cur.execute('select min(marks) from student')\n",
    "\n",
    "results.fetchall()"
   ]
  },
  {
   "cell_type": "code",
   "execution_count": 51,
   "id": "0ea28c20",
   "metadata": {},
   "outputs": [
    {
     "data": {
      "text/plain": [
       "[(94,)]"
      ]
     },
     "execution_count": 51,
     "metadata": {},
     "output_type": "execute_result"
    }
   ],
   "source": [
    "results = cur.execute('select max(marks) from student')\n",
    "\n",
    "results.fetchall()"
   ]
  },
  {
   "cell_type": "code",
   "execution_count": 52,
   "id": "baff600a",
   "metadata": {},
   "outputs": [
    {
     "name": "stdout",
     "output_type": "stream",
     "text": [
      "(83.25,)\n"
     ]
    }
   ],
   "source": [
    "results = cur.execute('select avg(marks) from student')\n",
    "\n",
    "for i in results:\n",
    "    print(i)"
   ]
  },
  {
   "cell_type": "code",
   "execution_count": 53,
   "id": "93be7696",
   "metadata": {},
   "outputs": [
    {
     "data": {
      "text/plain": [
       "(666,)"
      ]
     },
     "execution_count": 53,
     "metadata": {},
     "output_type": "execute_result"
    }
   ],
   "source": [
    "results = cur.execute('select sum(marks) from student')\n",
    "\n",
    "results.fetchone()"
   ]
  },
  {
   "cell_type": "code",
   "execution_count": 54,
   "id": "97754521",
   "metadata": {},
   "outputs": [
    {
     "data": {
      "text/plain": [
       "(8,)"
      ]
     },
     "execution_count": 54,
     "metadata": {},
     "output_type": "execute_result"
    }
   ],
   "source": [
    "results = cur.execute('select count(id) from student')\n",
    "\n",
    "results.fetchone()"
   ]
  },
  {
   "cell_type": "code",
   "execution_count": 55,
   "id": "307bdd9a",
   "metadata": {},
   "outputs": [
    {
     "name": "stdout",
     "output_type": "stream",
     "text": [
      "(3, 'jack', 90)\n",
      "(5, 'Lisa', 88)\n",
      "(6, 'Harry', 83)\n",
      "(7, 'ABC', 76)\n"
     ]
    }
   ],
   "source": [
    "results = cur.execute('select * from student where name LIKE \"%a%\"')   # how much a in data show that data\n",
    "\n",
    "for i in results:\n",
    "    print(i)"
   ]
  },
  {
   "cell_type": "code",
   "execution_count": 56,
   "id": "b084c476",
   "metadata": {},
   "outputs": [
    {
     "name": "stdout",
     "output_type": "stream",
     "text": [
      "(1, 'smith', 78)\n",
      "(5, 'Lisa', 88)\n"
     ]
    }
   ],
   "source": [
    "results = cur.execute('select * from student where name LIKE \"%s%\"')\n",
    "\n",
    "for i in results:\n",
    "    print(i)"
   ]
  },
  {
   "cell_type": "code",
   "execution_count": 57,
   "id": "b98a9d08",
   "metadata": {
    "scrolled": true
   },
   "outputs": [
    {
     "name": "stdout",
     "output_type": "stream",
     "text": [
      "(2, 'john', 75)\n",
      "(3, 'jack', 90)\n",
      "(4, 'john', 82)\n"
     ]
    }
   ],
   "source": [
    "results = cur.execute('select * from student where name LIKE \"%j%\"')\n",
    "\n",
    "for i in results:\n",
    "    print(i)"
   ]
  },
  {
   "cell_type": "code",
   "execution_count": 60,
   "id": "d84afa03",
   "metadata": {},
   "outputs": [
    {
     "name": "stdout",
     "output_type": "stream",
     "text": [
      "(6, 'Harry', 83)\n"
     ]
    }
   ],
   "source": [
    "results = cur.execute('select * from student where name LIKE \"%rr%\"')\n",
    "\n",
    "for i in results:\n",
    "    print(i)"
   ]
  },
  {
   "cell_type": "code",
   "execution_count": 63,
   "id": "d4d627a8",
   "metadata": {},
   "outputs": [
    {
     "name": "stdout",
     "output_type": "stream",
     "text": [
      "(5, 'Lisa', 88)\n"
     ]
    }
   ],
   "source": [
    "results = cur.execute('select * from student where name LIKE \"%is%\"')\n",
    "\n",
    "for i in results:\n",
    "    print(i)"
   ]
  },
  {
   "cell_type": "code",
   "execution_count": 64,
   "id": "dea435dd",
   "metadata": {},
   "outputs": [
    {
     "name": "stdout",
     "output_type": "stream",
     "text": [
      "(3, 'jack', 90)\n",
      "(6, 'Harry', 83)\n"
     ]
    }
   ],
   "source": [
    "results = cur.execute('select * from student where name LIKE \"_a%\"')  # here _ is the first character and second character is a it means first character is anything but second character is a.\n",
    "\n",
    "for i in results:\n",
    "    print(i)"
   ]
  },
  {
   "cell_type": "code",
   "execution_count": 65,
   "id": "884d2d8d",
   "metadata": {},
   "outputs": [
    {
     "name": "stdout",
     "output_type": "stream",
     "text": [
      "(3, 'jack', 90)\n",
      "(7, 'ABC', 76)\n"
     ]
    }
   ],
   "source": [
    "results = cur.execute('select * from student where name LIKE \"__c%\"') # here third character is c \n",
    "\n",
    "for i in results:\n",
    "    print(i)"
   ]
  },
  {
   "cell_type": "code",
   "execution_count": 66,
   "id": "abe82b59",
   "metadata": {},
   "outputs": [
    {
     "name": "stdout",
     "output_type": "stream",
     "text": [
      "(3, 'jack', 90)\n"
     ]
    }
   ],
   "source": [
    "results = cur.execute('select * from student where name LIKE \"_a__\"') # here second character is a \n",
    "\n",
    "for i in results:\n",
    "    print(i)"
   ]
  },
  {
   "cell_type": "code",
   "execution_count": 68,
   "id": "153a8f8f",
   "metadata": {},
   "outputs": [
    {
     "name": "stdout",
     "output_type": "stream",
     "text": [
      "(2, 'john', 75)\n",
      "(4, 'john', 82)\n"
     ]
    }
   ],
   "source": [
    "results = cur.execute('select * from student where name LIKE \"_o__\"') # here second character is o\n",
    "\n",
    "for i in results:\n",
    "    print(i)"
   ]
  },
  {
   "cell_type": "code",
   "execution_count": 69,
   "id": "1ab2517e",
   "metadata": {},
   "outputs": [
    {
     "name": "stdout",
     "output_type": "stream",
     "text": [
      "(2, 'john', 75)\n",
      "(3, 'jack', 90)\n",
      "(4, 'john', 82)\n"
     ]
    }
   ],
   "source": [
    "results = cur.execute('select * from student where name LIKE \"j___\"') # here first character is j\n",
    "\n",
    "for i in results:\n",
    "    print(i)"
   ]
  },
  {
   "cell_type": "code",
   "execution_count": 71,
   "id": "05f653be",
   "metadata": {},
   "outputs": [
    {
     "name": "stdout",
     "output_type": "stream",
     "text": [
      "(2, 'john', 75)\n",
      "(3, 'jack', 90)\n",
      "(4, 'john', 82)\n",
      "(5, 'Lisa', 88)\n"
     ]
    }
   ],
   "source": [
    "# display only 4 character\n",
    "results = cur.execute(\"select * from student where name like '____'\")\n",
    "\n",
    "for i in results:\n",
    "    print(i)"
   ]
  },
  {
   "cell_type": "code",
   "execution_count": 72,
   "id": "fac06d02",
   "metadata": {},
   "outputs": [
    {
     "name": "stdout",
     "output_type": "stream",
     "text": [
      "(1, 'smith', 78)\n",
      "(2, 'john', 75)\n",
      "(3, 'jack', 90)\n",
      "(4, 'john', 82)\n",
      "(5, 'Lisa', 88)\n",
      "(6, 'Harry', 83)\n",
      "(7, 'ABC', 76)\n",
      "(8, 'DEF', 94)\n"
     ]
    }
   ],
   "source": [
    "results = cur.execute(\"select * from student where marks NOT in (70)\")\n",
    "\n",
    "for i in results:\n",
    "    print(i)"
   ]
  },
  {
   "cell_type": "code",
   "execution_count": 73,
   "id": "b4870ee6",
   "metadata": {},
   "outputs": [
    {
     "name": "stdout",
     "output_type": "stream",
     "text": [
      "(1, 'smith', 78)\n",
      "(2, 'john', 75)\n",
      "(3, 'jack', 90)\n",
      "(4, 'john', 82)\n",
      "(5, 'Lisa', 88)\n",
      "(6, 'Harry', 83)\n",
      "(7, 'ABC', 76)\n",
      "(8, 'DEF', 94)\n"
     ]
    }
   ],
   "source": [
    "results = cur.execute(\"select * from student where name NOT in ('Kim')\")\n",
    "\n",
    "for i in results:\n",
    "    print(i)"
   ]
  },
  {
   "cell_type": "code",
   "execution_count": 74,
   "id": "e1614370",
   "metadata": {},
   "outputs": [
    {
     "name": "stdout",
     "output_type": "stream",
     "text": [
      "(2, 'john', 75)\n",
      "(3, 'jack', 90)\n",
      "(4, 'john', 82)\n",
      "(5, 'Lisa', 88)\n",
      "(6, 'Harry', 83)\n",
      "(7, 'ABC', 76)\n",
      "(8, 'DEF', 94)\n"
     ]
    }
   ],
   "source": [
    "results = cur.execute(\"select * from student where name NOT in ('smith')\")\n",
    "\n",
    "for i in results:\n",
    "    print(i)"
   ]
  },
  {
   "cell_type": "code",
   "execution_count": 75,
   "id": "0ade0f0e",
   "metadata": {},
   "outputs": [
    {
     "name": "stdout",
     "output_type": "stream",
     "text": [
      "(2, 'john', 75)\n",
      "(4, 'john', 82)\n"
     ]
    }
   ],
   "source": [
    "results = cur.execute(\"select * from student where name in ('john')\")\n",
    "\n",
    "for i in results:\n",
    "    print(i)"
   ]
  },
  {
   "cell_type": "code",
   "execution_count": 76,
   "id": "0180a34a",
   "metadata": {},
   "outputs": [
    {
     "name": "stdout",
     "output_type": "stream",
     "text": [
      "(1, 'smith', 78)\n",
      "(2, 'john', 75)\n",
      "(4, 'john', 82)\n"
     ]
    }
   ],
   "source": [
    "results = cur.execute(\"select * from student where name IN ('smith','john')\")\n",
    "\n",
    "for i in results:\n",
    "    print(i)"
   ]
  },
  {
   "cell_type": "code",
   "execution_count": 77,
   "id": "24e6a990",
   "metadata": {},
   "outputs": [
    {
     "name": "stdout",
     "output_type": "stream",
     "text": [
      "(1, 'smith', 78)\n",
      "(3, 'jack', 90)\n",
      "(5, 'Lisa', 88)\n",
      "(6, 'Harry', 83)\n",
      "(7, 'ABC', 76)\n",
      "(8, 'DEF', 94)\n"
     ]
    }
   ],
   "source": [
    "results = cur.execute(\"select * from student where name NOT in ('john')\")\n",
    "\n",
    "for i in results:\n",
    "    print(i)"
   ]
  },
  {
   "cell_type": "code",
   "execution_count": 78,
   "id": "b7b3e95c",
   "metadata": {},
   "outputs": [
    {
     "name": "stdout",
     "output_type": "stream",
     "text": [
      "(3, 'jack', 90)\n",
      "(5, 'Lisa', 88)\n",
      "(6, 'Harry', 83)\n"
     ]
    }
   ],
   "source": [
    "results = cur.execute(\"select * from student where marks in (90,88,83)\")  # only 90 is avaliable in our data\n",
    "\n",
    "for i in results:\n",
    "    print(i)"
   ]
  },
  {
   "cell_type": "code",
   "execution_count": 79,
   "id": "fb8fa52e",
   "metadata": {},
   "outputs": [],
   "source": [
    "cur.execute('update student set name = \"META\" where id = 4 ')\n",
    "con.commit()"
   ]
  },
  {
   "cell_type": "code",
   "execution_count": 80,
   "id": "3c80cf72",
   "metadata": {},
   "outputs": [
    {
     "data": {
      "text/plain": [
       "[(1, 'smith', 78),\n",
       " (2, 'john', 75),\n",
       " (3, 'jack', 90),\n",
       " (4, 'META', 82),\n",
       " (5, 'Lisa', 88),\n",
       " (6, 'Harry', 83),\n",
       " (7, 'ABC', 76),\n",
       " (8, 'DEF', 94)]"
      ]
     },
     "execution_count": 80,
     "metadata": {},
     "output_type": "execute_result"
    }
   ],
   "source": [
    "results = cur.execute('select * from student')\n",
    "\n",
    "results.fetchall()"
   ]
  },
  {
   "cell_type": "code",
   "execution_count": 92,
   "id": "c1cbb3da",
   "metadata": {},
   "outputs": [
    {
     "data": {
      "text/plain": [
       "<sqlite3.Cursor at 0x25a4fc09f10>"
      ]
     },
     "execution_count": 92,
     "metadata": {},
     "output_type": "execute_result"
    }
   ],
   "source": [
    "# update the record\n",
    "\n",
    "sql=\"update student set marks = 81 where id = 4\"\n",
    "cur.execute(sql)"
   ]
  },
  {
   "cell_type": "code",
   "execution_count": 93,
   "id": "498f52c9",
   "metadata": {},
   "outputs": [
    {
     "name": "stdout",
     "output_type": "stream",
     "text": [
      "(4, 'META', 81)\n"
     ]
    }
   ],
   "source": [
    "results = cur.execute('select * from student where id = 4')\n",
    "for row in results:\n",
    "    print(row)"
   ]
  },
  {
   "cell_type": "code",
   "execution_count": 94,
   "id": "056328e2",
   "metadata": {
    "scrolled": false
   },
   "outputs": [
    {
     "name": "stdout",
     "output_type": "stream",
     "text": [
      "(1, 'smith', 92)\n",
      "(2, 'john', 92)\n",
      "(3, 'jack', 90)\n",
      "(4, 'META', 81)\n",
      "(5, 'Lisa', 68)\n",
      "(6, 'Harry', 68)\n",
      "(7, 'ABC', 76)\n",
      "(8, 'DEF', 94)\n"
     ]
    }
   ],
   "source": [
    "results = cur.execute(\"select * from student\")\n",
    "for row in results:\n",
    "    print(row)"
   ]
  },
  {
   "cell_type": "code",
   "execution_count": 95,
   "id": "c71c50fc",
   "metadata": {},
   "outputs": [
    {
     "data": {
      "text/plain": [
       "<sqlite3.Cursor at 0x25a4fc09f10>"
      ]
     },
     "execution_count": 95,
     "metadata": {},
     "output_type": "execute_result"
    }
   ],
   "source": [
    "# multiple record update\n",
    "\n",
    "sql = \"update student set marks=92 where id in(1,2)\"\n",
    "cur.execute(sql)"
   ]
  },
  {
   "cell_type": "markdown",
   "id": "7e214757",
   "metadata": {},
   "source": [
    "results = cur.execute(\"select * from student\")for row in results:print(row)"
   ]
  },
  {
   "cell_type": "code",
   "execution_count": 91,
   "id": "42fbdea5",
   "metadata": {},
   "outputs": [
    {
     "name": "stdout",
     "output_type": "stream",
     "text": [
      "(1, 'smith', 92)\n",
      "(2, 'john', 92)\n",
      "(3, 'jack', 90)\n",
      "(4, 'META', 81)\n",
      "(5, 'Lisa', 68)\n",
      "(6, 'Harry', 68)\n",
      "(7, 'ABC', 76)\n",
      "(8, 'DEF', 94)\n"
     ]
    }
   ],
   "source": [
    "sql = \"UPDATE student SET marks = 68 where id IN (5,6)\"\n",
    "cur.execute(sql)\n",
    "# verify if its updated\n",
    "results = cur.execute(\"SELECT * from student\")\n",
    "for row in results:\n",
    "    print(row)"
   ]
  },
  {
   "cell_type": "markdown",
   "id": "bf4fb97c",
   "metadata": {},
   "source": [
    "# Delete any unwanted records"
   ]
  },
  {
   "cell_type": "code",
   "execution_count": 96,
   "id": "262c8b76",
   "metadata": {},
   "outputs": [
    {
     "data": {
      "text/plain": [
       "<sqlite3.Cursor at 0x25a4fc09f10>"
      ]
     },
     "execution_count": 96,
     "metadata": {},
     "output_type": "execute_result"
    }
   ],
   "source": [
    "sql = \"delete from student where id=6\"\n",
    "cur.execute(sql)"
   ]
  },
  {
   "cell_type": "code",
   "execution_count": 97,
   "id": "21a2ca46",
   "metadata": {},
   "outputs": [
    {
     "data": {
      "text/plain": [
       "[(1, 'smith', 92),\n",
       " (2, 'john', 92),\n",
       " (3, 'jack', 90),\n",
       " (4, 'META', 81),\n",
       " (5, 'Lisa', 68),\n",
       " (7, 'ABC', 76),\n",
       " (8, 'DEF', 94)]"
      ]
     },
     "execution_count": 97,
     "metadata": {},
     "output_type": "execute_result"
    }
   ],
   "source": [
    "results=cur.execute('select * from student')\n",
    "results.fetchall()"
   ]
  },
  {
   "cell_type": "code",
   "execution_count": 98,
   "id": "11b097cd",
   "metadata": {},
   "outputs": [
    {
     "data": {
      "text/plain": [
       "<sqlite3.Cursor at 0x25a4fcc8ce0>"
      ]
     },
     "execution_count": 98,
     "metadata": {},
     "output_type": "execute_result"
    }
   ],
   "source": [
    "cur.execute('delete from student where id = 8')\n",
    "con.execute(sql)"
   ]
  },
  {
   "cell_type": "code",
   "execution_count": 99,
   "id": "a045e697",
   "metadata": {},
   "outputs": [
    {
     "data": {
      "text/plain": [
       "[(1, 'smith', 92),\n",
       " (2, 'john', 92),\n",
       " (3, 'jack', 90),\n",
       " (4, 'META', 81),\n",
       " (5, 'Lisa', 68),\n",
       " (7, 'ABC', 76)]"
      ]
     },
     "execution_count": 99,
     "metadata": {},
     "output_type": "execute_result"
    }
   ],
   "source": [
    "results=cur.execute('select * from student')  # let us see here id 6 and id 8 are deleted\n",
    "results.fetchall()"
   ]
  },
  {
   "cell_type": "code",
   "execution_count": 100,
   "id": "92cf9eff",
   "metadata": {},
   "outputs": [],
   "source": [
    "cur.execute('drop table student')\n",
    "con.commit()"
   ]
  },
  {
   "cell_type": "code",
   "execution_count": 101,
   "id": "f8018c42",
   "metadata": {},
   "outputs": [
    {
     "ename": "OperationalError",
     "evalue": "no such table: student",
     "output_type": "error",
     "traceback": [
      "\u001b[1;31m---------------------------------------------------------------------------\u001b[0m",
      "\u001b[1;31mOperationalError\u001b[0m                          Traceback (most recent call last)",
      "Input \u001b[1;32mIn [101]\u001b[0m, in \u001b[0;36m<cell line: 1>\u001b[1;34m()\u001b[0m\n\u001b[1;32m----> 1\u001b[0m results \u001b[38;5;241m=\u001b[39m \u001b[43mcur\u001b[49m\u001b[38;5;241;43m.\u001b[39;49m\u001b[43mexecute\u001b[49m\u001b[43m(\u001b[49m\u001b[38;5;124;43m'\u001b[39;49m\u001b[38;5;124;43mselect * from student\u001b[39;49m\u001b[38;5;124;43m'\u001b[39;49m\u001b[43m)\u001b[49m\n\u001b[0;32m      3\u001b[0m results\u001b[38;5;241m.\u001b[39mfetchall()\n",
      "\u001b[1;31mOperationalError\u001b[0m: no such table: student"
     ]
    }
   ],
   "source": [
    "results = cur.execute('select * from student')  # here code is error because above cell we was use drop that's why now this code is error\n",
    "\n",
    "results.fetchall()"
   ]
  }
 ],
 "metadata": {
  "kernelspec": {
   "display_name": "Python 3 (ipykernel)",
   "language": "python",
   "name": "python3"
  },
  "language_info": {
   "codemirror_mode": {
    "name": "ipython",
    "version": 3
   },
   "file_extension": ".py",
   "mimetype": "text/x-python",
   "name": "python",
   "nbconvert_exporter": "python",
   "pygments_lexer": "ipython3",
   "version": "3.9.12"
  }
 },
 "nbformat": 4,
 "nbformat_minor": 5
}
