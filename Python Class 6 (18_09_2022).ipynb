{
 "cells": [
  {
   "cell_type": "markdown",
   "id": "6592d43f",
   "metadata": {},
   "source": [
    "# String Function In Python"
   ]
  },
  {
   "cell_type": "code",
   "execution_count": 2,
   "id": "be9b952e",
   "metadata": {},
   "outputs": [
    {
     "data": {
      "text/plain": [
       "'computer'"
      ]
     },
     "execution_count": 2,
     "metadata": {},
     "output_type": "execute_result"
    }
   ],
   "source": [
    "word1 = \"computer\"\n",
    "word1"
   ]
  },
  {
   "cell_type": "code",
   "execution_count": 3,
   "id": "a5890d25",
   "metadata": {},
   "outputs": [
    {
     "data": {
      "text/plain": [
       "'COMPUTER'"
      ]
     },
     "execution_count": 3,
     "metadata": {},
     "output_type": "execute_result"
    }
   ],
   "source": [
    "word1.upper()"
   ]
  },
  {
   "cell_type": "code",
   "execution_count": 4,
   "id": "780aac61",
   "metadata": {},
   "outputs": [
    {
     "data": {
      "text/plain": [
       "'LENOVO'"
      ]
     },
     "execution_count": 4,
     "metadata": {},
     "output_type": "execute_result"
    }
   ],
   "source": [
    "word2 = \"LENOVO\"\n",
    "word2"
   ]
  },
  {
   "cell_type": "code",
   "execution_count": 5,
   "id": "6b12f1c8",
   "metadata": {},
   "outputs": [
    {
     "data": {
      "text/plain": [
       "'lenovo'"
      ]
     },
     "execution_count": 5,
     "metadata": {},
     "output_type": "execute_result"
    }
   ],
   "source": [
    "word2.lower()"
   ]
  },
  {
   "cell_type": "code",
   "execution_count": 6,
   "id": "caf1edbe",
   "metadata": {},
   "outputs": [],
   "source": [
    "word3 = \"SamSung\""
   ]
  },
  {
   "cell_type": "code",
   "execution_count": 7,
   "id": "1aeda816",
   "metadata": {},
   "outputs": [
    {
     "data": {
      "text/plain": [
       "'sAMsUNG'"
      ]
     },
     "execution_count": 7,
     "metadata": {},
     "output_type": "execute_result"
    }
   ],
   "source": [
    "word3.swapcase()"
   ]
  },
  {
   "cell_type": "code",
   "execution_count": 8,
   "id": "bcd50004",
   "metadata": {},
   "outputs": [],
   "source": [
    "word4 = \"Delhi is capital of India.\""
   ]
  },
  {
   "cell_type": "code",
   "execution_count": 9,
   "id": "26a59d25",
   "metadata": {},
   "outputs": [
    {
     "data": {
      "text/plain": [
       "['Delhi', 'is', 'capital', 'of', 'India.']"
      ]
     },
     "execution_count": 9,
     "metadata": {},
     "output_type": "execute_result"
    }
   ],
   "source": [
    "word4.split()"
   ]
  },
  {
   "cell_type": "code",
   "execution_count": 11,
   "id": "518e0ebc",
   "metadata": {},
   "outputs": [
    {
     "data": {
      "text/plain": [
       "list"
      ]
     },
     "execution_count": 11,
     "metadata": {},
     "output_type": "execute_result"
    }
   ],
   "source": [
    "type(word4.split())"
   ]
  },
  {
   "cell_type": "code",
   "execution_count": 12,
   "id": "120233d4",
   "metadata": {},
   "outputs": [
    {
     "data": {
      "text/plain": [
       "str"
      ]
     },
     "execution_count": 12,
     "metadata": {},
     "output_type": "execute_result"
    }
   ],
   "source": [
    "type(word4)"
   ]
  },
  {
   "cell_type": "code",
   "execution_count": 13,
   "id": "521598c2",
   "metadata": {},
   "outputs": [],
   "source": [
    "word5 = \"elon musk is ceo of tesla.\""
   ]
  },
  {
   "cell_type": "code",
   "execution_count": 15,
   "id": "4f39d59d",
   "metadata": {},
   "outputs": [
    {
     "data": {
      "text/plain": [
       "'elon musk is ceo of tesla.'"
      ]
     },
     "execution_count": 15,
     "metadata": {},
     "output_type": "execute_result"
    }
   ],
   "source": [
    "word5"
   ]
  },
  {
   "cell_type": "code",
   "execution_count": 16,
   "id": "bcecc884",
   "metadata": {},
   "outputs": [
    {
     "data": {
      "text/plain": [
       "'Elon Musk Is Ceo Of Tesla.'"
      ]
     },
     "execution_count": 16,
     "metadata": {},
     "output_type": "execute_result"
    }
   ],
   "source": [
    "word5.title()"
   ]
  },
  {
   "cell_type": "code",
   "execution_count": 17,
   "id": "10d24512",
   "metadata": {},
   "outputs": [
    {
     "data": {
      "text/plain": [
       "'Elon musk is ceo of tesla.'"
      ]
     },
     "execution_count": 17,
     "metadata": {},
     "output_type": "execute_result"
    }
   ],
   "source": [
    "word5.capitalize()"
   ]
  },
  {
   "cell_type": "code",
   "execution_count": 19,
   "id": "35256b47",
   "metadata": {},
   "outputs": [
    {
     "data": {
      "text/plain": [
       "str"
      ]
     },
     "execution_count": 19,
     "metadata": {},
     "output_type": "execute_result"
    }
   ],
   "source": [
    "type(word5.title())"
   ]
  },
  {
   "cell_type": "code",
   "execution_count": 20,
   "id": "ba3050c9",
   "metadata": {},
   "outputs": [],
   "source": [
    "word6 = \"data science\""
   ]
  },
  {
   "cell_type": "code",
   "execution_count": 21,
   "id": "08c8a065",
   "metadata": {},
   "outputs": [
    {
     "data": {
      "text/plain": [
       "'data science'"
      ]
     },
     "execution_count": 21,
     "metadata": {},
     "output_type": "execute_result"
    }
   ],
   "source": [
    "word6"
   ]
  },
  {
   "cell_type": "code",
   "execution_count": 22,
   "id": "3ece7001",
   "metadata": {},
   "outputs": [
    {
     "data": {
      "text/plain": [
       "'Data science'"
      ]
     },
     "execution_count": 22,
     "metadata": {},
     "output_type": "execute_result"
    }
   ],
   "source": [
    "word6.capitalize()"
   ]
  },
  {
   "cell_type": "code",
   "execution_count": 23,
   "id": "26c80300",
   "metadata": {},
   "outputs": [
    {
     "data": {
      "text/plain": [
       "'Data Science'"
      ]
     },
     "execution_count": 23,
     "metadata": {},
     "output_type": "execute_result"
    }
   ],
   "source": [
    "word6.title()"
   ]
  },
  {
   "cell_type": "code",
   "execution_count": 24,
   "id": "01e09313",
   "metadata": {},
   "outputs": [
    {
     "data": {
      "text/plain": [
       "True"
      ]
     },
     "execution_count": 24,
     "metadata": {},
     "output_type": "execute_result"
    }
   ],
   "source": [
    "word5.startswith('elon')"
   ]
  },
  {
   "cell_type": "code",
   "execution_count": 25,
   "id": "6acd6a78",
   "metadata": {},
   "outputs": [
    {
     "data": {
      "text/plain": [
       "False"
      ]
     },
     "execution_count": 25,
     "metadata": {},
     "output_type": "execute_result"
    }
   ],
   "source": [
    "word5.endswith(\"tesla\")"
   ]
  },
  {
   "cell_type": "code",
   "execution_count": 26,
   "id": "c488ba83",
   "metadata": {},
   "outputs": [
    {
     "data": {
      "text/plain": [
       "False"
      ]
     },
     "execution_count": 26,
     "metadata": {},
     "output_type": "execute_result"
    }
   ],
   "source": [
    "word5.startswith(\"ceo\")"
   ]
  },
  {
   "cell_type": "code",
   "execution_count": 28,
   "id": "6504a6b1",
   "metadata": {},
   "outputs": [
    {
     "data": {
      "text/plain": [
       "False"
      ]
     },
     "execution_count": 28,
     "metadata": {},
     "output_type": "execute_result"
    }
   ],
   "source": [
    "word5.endswith(\"musk\")"
   ]
  },
  {
   "cell_type": "code",
   "execution_count": 29,
   "id": "bd3c1e89",
   "metadata": {},
   "outputs": [
    {
     "data": {
      "text/plain": [
       "True"
      ]
     },
     "execution_count": 29,
     "metadata": {},
     "output_type": "execute_result"
    }
   ],
   "source": [
    "word1.islower()"
   ]
  },
  {
   "cell_type": "code",
   "execution_count": 30,
   "id": "b859d191",
   "metadata": {},
   "outputs": [
    {
     "data": {
      "text/plain": [
       "True"
      ]
     },
     "execution_count": 30,
     "metadata": {},
     "output_type": "execute_result"
    }
   ],
   "source": [
    "a = \"yogesh\"\n",
    "a.islower()"
   ]
  },
  {
   "cell_type": "code",
   "execution_count": 31,
   "id": "80fa8a60",
   "metadata": {},
   "outputs": [
    {
     "data": {
      "text/plain": [
       "False"
      ]
     },
     "execution_count": 31,
     "metadata": {},
     "output_type": "execute_result"
    }
   ],
   "source": [
    "a.isupper()"
   ]
  },
  {
   "cell_type": "code",
   "execution_count": 32,
   "id": "923eede7",
   "metadata": {},
   "outputs": [],
   "source": [
    "b = \"Yogesh\""
   ]
  },
  {
   "cell_type": "code",
   "execution_count": 33,
   "id": "c2286f82",
   "metadata": {},
   "outputs": [
    {
     "data": {
      "text/plain": [
       "True"
      ]
     },
     "execution_count": 33,
     "metadata": {},
     "output_type": "execute_result"
    }
   ],
   "source": [
    "b.isalpha()"
   ]
  },
  {
   "cell_type": "code",
   "execution_count": 34,
   "id": "b973fd45",
   "metadata": {},
   "outputs": [
    {
     "data": {
      "text/plain": [
       "True"
      ]
     },
     "execution_count": 34,
     "metadata": {},
     "output_type": "execute_result"
    }
   ],
   "source": [
    "a.isalpha()"
   ]
  },
  {
   "cell_type": "code",
   "execution_count": 40,
   "id": "f4ee908d",
   "metadata": {},
   "outputs": [],
   "source": [
    "c = \"def896\""
   ]
  },
  {
   "cell_type": "code",
   "execution_count": 41,
   "id": "2bc9903f",
   "metadata": {},
   "outputs": [
    {
     "data": {
      "text/plain": [
       "'def896'"
      ]
     },
     "execution_count": 41,
     "metadata": {},
     "output_type": "execute_result"
    }
   ],
   "source": [
    "c"
   ]
  },
  {
   "cell_type": "code",
   "execution_count": 42,
   "id": "3af2a831",
   "metadata": {},
   "outputs": [
    {
     "data": {
      "text/plain": [
       "False"
      ]
     },
     "execution_count": 42,
     "metadata": {},
     "output_type": "execute_result"
    }
   ],
   "source": [
    "c.isalpha()"
   ]
  },
  {
   "cell_type": "code",
   "execution_count": 43,
   "id": "f17a24d4",
   "metadata": {},
   "outputs": [
    {
     "data": {
      "text/plain": [
       "False"
      ]
     },
     "execution_count": 43,
     "metadata": {},
     "output_type": "execute_result"
    }
   ],
   "source": [
    "c.isdigit()"
   ]
  },
  {
   "cell_type": "code",
   "execution_count": 44,
   "id": "18da0c44",
   "metadata": {},
   "outputs": [],
   "source": [
    "d = \"456434\""
   ]
  },
  {
   "cell_type": "code",
   "execution_count": 45,
   "id": "487036a5",
   "metadata": {},
   "outputs": [
    {
     "data": {
      "text/plain": [
       "456434"
      ]
     },
     "execution_count": 45,
     "metadata": {},
     "output_type": "execute_result"
    }
   ],
   "source": [
    "d"
   ]
  },
  {
   "cell_type": "code",
   "execution_count": 51,
   "id": "b663ef86",
   "metadata": {},
   "outputs": [
    {
     "data": {
      "text/plain": [
       "False"
      ]
     },
     "execution_count": 51,
     "metadata": {},
     "output_type": "execute_result"
    }
   ],
   "source": [
    "x = \"uyofd\"\n",
    "x.isdigit()"
   ]
  },
  {
   "cell_type": "code",
   "execution_count": 52,
   "id": "9bfcfa57",
   "metadata": {},
   "outputs": [
    {
     "data": {
      "text/plain": [
       "True"
      ]
     },
     "execution_count": 52,
     "metadata": {},
     "output_type": "execute_result"
    }
   ],
   "source": [
    "x.isalpha()"
   ]
  },
  {
   "cell_type": "code",
   "execution_count": 53,
   "id": "0b923546",
   "metadata": {},
   "outputs": [
    {
     "data": {
      "text/plain": [
       "False"
      ]
     },
     "execution_count": 53,
     "metadata": {},
     "output_type": "execute_result"
    }
   ],
   "source": [
    "y = \"dj524\"\n",
    "y.isdigit()"
   ]
  },
  {
   "cell_type": "code",
   "execution_count": 54,
   "id": "812f1cef",
   "metadata": {},
   "outputs": [
    {
     "data": {
      "text/plain": [
       "False"
      ]
     },
     "execution_count": 54,
     "metadata": {},
     "output_type": "execute_result"
    }
   ],
   "source": [
    "y.isalpha()"
   ]
  },
  {
   "cell_type": "code",
   "execution_count": 59,
   "id": "eb23ae0e",
   "metadata": {},
   "outputs": [
    {
     "data": {
      "text/plain": [
       "True"
      ]
     },
     "execution_count": 59,
     "metadata": {},
     "output_type": "execute_result"
    }
   ],
   "source": [
    "z = \"4552654\"\n",
    "z.isdigit()"
   ]
  },
  {
   "cell_type": "code",
   "execution_count": 60,
   "id": "10316ee4",
   "metadata": {},
   "outputs": [
    {
     "data": {
      "text/plain": [
       "'elon musk is ceo of tesla.'"
      ]
     },
     "execution_count": 60,
     "metadata": {},
     "output_type": "execute_result"
    }
   ],
   "source": [
    "word5"
   ]
  },
  {
   "cell_type": "code",
   "execution_count": 62,
   "id": "1c7a8657",
   "metadata": {},
   "outputs": [],
   "source": [
    "word7 = word5.capitalize()"
   ]
  },
  {
   "cell_type": "code",
   "execution_count": 63,
   "id": "bbee227f",
   "metadata": {},
   "outputs": [
    {
     "data": {
      "text/plain": [
       "'Elon musk is ceo of tesla.'"
      ]
     },
     "execution_count": 63,
     "metadata": {},
     "output_type": "execute_result"
    }
   ],
   "source": [
    "word7"
   ]
  },
  {
   "cell_type": "code",
   "execution_count": 79,
   "id": "70ff426d",
   "metadata": {},
   "outputs": [
    {
     "data": {
      "text/plain": [
       "21"
      ]
     },
     "execution_count": 79,
     "metadata": {},
     "output_type": "execute_result"
    }
   ],
   "source": [
    "word7.find(\"e\",15,23)"
   ]
  },
  {
   "cell_type": "code",
   "execution_count": 64,
   "id": "843c0afd",
   "metadata": {},
   "outputs": [
    {
     "data": {
      "text/plain": [
       "5"
      ]
     },
     "execution_count": 64,
     "metadata": {},
     "output_type": "execute_result"
    }
   ],
   "source": [
    "word7.find(\"musk\")"
   ]
  },
  {
   "cell_type": "code",
   "execution_count": 65,
   "id": "d1c46e30",
   "metadata": {},
   "outputs": [
    {
     "data": {
      "text/plain": [
       "20"
      ]
     },
     "execution_count": 65,
     "metadata": {},
     "output_type": "execute_result"
    }
   ],
   "source": [
    "word7.find(\"tesla\")"
   ]
  },
  {
   "cell_type": "code",
   "execution_count": 66,
   "id": "6c18b999",
   "metadata": {},
   "outputs": [
    {
     "data": {
      "text/plain": [
       "13"
      ]
     },
     "execution_count": 66,
     "metadata": {},
     "output_type": "execute_result"
    }
   ],
   "source": [
    "word7.find(\"ceo\",10,20)"
   ]
  },
  {
   "cell_type": "code",
   "execution_count": 73,
   "id": "7f22e8e3",
   "metadata": {},
   "outputs": [],
   "source": [
    "word8 = \"Python is popular programming.\""
   ]
  },
  {
   "cell_type": "code",
   "execution_count": 74,
   "id": "d3e683ac",
   "metadata": {},
   "outputs": [
    {
     "data": {
      "text/plain": [
       "'Python is popular programming.'"
      ]
     },
     "execution_count": 74,
     "metadata": {},
     "output_type": "execute_result"
    }
   ],
   "source": [
    "word8"
   ]
  },
  {
   "cell_type": "code",
   "execution_count": 75,
   "id": "209a5410",
   "metadata": {},
   "outputs": [
    {
     "data": {
      "text/plain": [
       "3"
      ]
     },
     "execution_count": 75,
     "metadata": {},
     "output_type": "execute_result"
    }
   ],
   "source": [
    "word8.count(\"p\")"
   ]
  },
  {
   "cell_type": "code",
   "execution_count": 76,
   "id": "f918a2a1",
   "metadata": {},
   "outputs": [
    {
     "data": {
      "text/plain": [
       "1"
      ]
     },
     "execution_count": 76,
     "metadata": {},
     "output_type": "execute_result"
    }
   ],
   "source": [
    "word8.count(\"s\")"
   ]
  },
  {
   "cell_type": "code",
   "execution_count": 78,
   "id": "737b5c60",
   "metadata": {},
   "outputs": [
    {
     "data": {
      "text/plain": [
       "18"
      ]
     },
     "execution_count": 78,
     "metadata": {},
     "output_type": "execute_result"
    }
   ],
   "source": [
    "word8.find(\"p\",14,20)"
   ]
  },
  {
   "cell_type": "code",
   "execution_count": 80,
   "id": "9efae9dd",
   "metadata": {},
   "outputs": [],
   "source": [
    "word9 = \"NASA is building hotel project in Mars.\""
   ]
  },
  {
   "cell_type": "code",
   "execution_count": 81,
   "id": "977b2341",
   "metadata": {},
   "outputs": [
    {
     "data": {
      "text/plain": [
       "'SPACEX is building hotel project in Mars.'"
      ]
     },
     "execution_count": 81,
     "metadata": {},
     "output_type": "execute_result"
    }
   ],
   "source": [
    "word9.replace(\"NASA\", \"SPACEX\")"
   ]
  },
  {
   "cell_type": "code",
   "execution_count": 82,
   "id": "5b3f7a22",
   "metadata": {},
   "outputs": [],
   "source": [
    "a = \"data science is growing field based on data\""
   ]
  },
  {
   "cell_type": "code",
   "execution_count": 83,
   "id": "39a51a5f",
   "metadata": {},
   "outputs": [
    {
     "data": {
      "text/plain": [
       "'analytics science is growing field based on analytics'"
      ]
     },
     "execution_count": 83,
     "metadata": {},
     "output_type": "execute_result"
    }
   ],
   "source": [
    "a.replace(\"data\", \"analytics\")"
   ]
  },
  {
   "cell_type": "code",
   "execution_count": 84,
   "id": "facc5eb2",
   "metadata": {},
   "outputs": [],
   "source": [
    "text = [\"NASA\", \"is\", \"building\", \"hotel\", \"project\", \"in\", \"Mars\"]"
   ]
  },
  {
   "cell_type": "code",
   "execution_count": 85,
   "id": "0092fe92",
   "metadata": {},
   "outputs": [
    {
     "data": {
      "text/plain": [
       "['NASA', 'is', 'building', 'hotel', 'project', 'in', 'Mars']"
      ]
     },
     "execution_count": 85,
     "metadata": {},
     "output_type": "execute_result"
    }
   ],
   "source": [
    "text"
   ]
  },
  {
   "cell_type": "markdown",
   "id": "14a95d10",
   "metadata": {},
   "source": [
    "join element of text with nospace"
   ]
  },
  {
   "cell_type": "code",
   "execution_count": 86,
   "id": "a88ea73c",
   "metadata": {},
   "outputs": [
    {
     "data": {
      "text/plain": [
       "'NASA is building hotel project in Mars'"
      ]
     },
     "execution_count": 86,
     "metadata": {},
     "output_type": "execute_result"
    }
   ],
   "source": [
    "' '.join(text)"
   ]
  },
  {
   "cell_type": "markdown",
   "id": "82aa40c8",
   "metadata": {},
   "source": [
    "casefold ignores the matching of words by lowercase or uppercase"
   ]
  },
  {
   "cell_type": "code",
   "execution_count": 88,
   "id": "8fa4a1d5",
   "metadata": {},
   "outputs": [
    {
     "name": "stdout",
     "output_type": "stream",
     "text": [
      "The two strings are matching\n"
     ]
    }
   ],
   "source": [
    "string1 = \"Tesla\"                                                                                                                                                                                                                                                                                                                                                                                                                                                                                                                                                                                                                                                                                                                                                                                                                                                                                                                                                                                                                                                                                                                                                                                                                                                                                                                                                                                                                                                                                                                                                                                                                       \n",
    "string2 = 'tesla'\n",
    "\n",
    "if string1.casefold()==string2.casefold():\n",
    "    print(\"The two strings are matching\")\n",
    "else:\n",
    "    print(\"The two strings are not matching\")"
   ]
  },
  {
   "cell_type": "code",
   "execution_count": null,
   "id": "21af68ed",
   "metadata": {},
   "outputs": [],
   "source": [
    "Python uses c-string formatting to create new formatted strings. The % operator is used\n",
    "to format a set of variables enclosed in a \"tuple\" (a fixed size list), together with a format\n",
    "string, which contains normal text together with \"argument specifiers\", special symbols\n",
    "like \"%s\" and \"%d\"."
   ]
  },
  {
   "cell_type": "code",
   "execution_count": 89,
   "id": "9f35a405",
   "metadata": {},
   "outputs": [
    {
     "name": "stdout",
     "output_type": "stream",
     "text": [
      "Hello, John!\n"
     ]
    }
   ],
   "source": [
    "# This prints out \"Hello, John!\"\n",
    "name = \"John\"        # this is c style format\n",
    "print(\"Hello, %s!\" % name)"
   ]
  },
  {
   "cell_type": "code",
   "execution_count": 90,
   "id": "7bf2fa57",
   "metadata": {},
   "outputs": [
    {
     "name": "stdout",
     "output_type": "stream",
     "text": [
      "hello  John !\n"
     ]
    }
   ],
   "source": [
    "print(\"hello \",name, \"!\")    # this is direct format"
   ]
  },
  {
   "cell_type": "code",
   "execution_count": 2,
   "id": "49fb8e2a",
   "metadata": {},
   "outputs": [
    {
     "name": "stdout",
     "output_type": "stream",
     "text": [
      "John is 23 years old taking salary 6889.876000  \n",
      "Salary = 6889.88 \n"
     ]
    }
   ],
   "source": [
    "# This prints out \"John is 23 years old.\"\n",
    "name = \"John\"\n",
    "age = 23\n",
    "salary = 6889.876\n",
    "print(\"%s is %d years old taking salary %f  \" % (name,age,salary))\n",
    "\n",
    "print(\"Salary = %0.2f \" % (salary))"
   ]
  },
  {
   "cell_type": "code",
   "execution_count": null,
   "id": "8c0db691",
   "metadata": {},
   "outputs": [],
   "source": [
    "above que any split value can change ' '.join function\n",
    "above question how that is matching\n",
    "how salary is come .88\n",
    "replace decimal point\n",
    "%0.2f what is it\n",
    "below question why use only %s here if we replace %s to %e then give error\n",
    "below question always first value is 0"
   ]
  },
  {
   "cell_type": "code",
   "execution_count": null,
   "id": "121675ed",
   "metadata": {},
   "outputs": [],
   "source": [
    "here, 0.2f is denoted decimal if here we use 0.0f then no deciaml here."
   ]
  },
  {
   "cell_type": "code",
   "execution_count": 103,
   "id": "5cfd8dc7",
   "metadata": {},
   "outputs": [
    {
     "name": "stdout",
     "output_type": "stream",
     "text": [
      "I like to eat apples, mango and grapes \n"
     ]
    }
   ],
   "source": [
    "fruit1 = \"apples\"\n",
    "fruit2 = \"mango\"\n",
    "fruit3 = \"grapes\"\n",
    "\n",
    "print(\"I like to eat %s, %s and %s \" % (fruit1, fruit2, fruit3))"
   ]
  },
  {
   "cell_type": "markdown",
   "id": "d0f9bfd9",
   "metadata": {},
   "source": [
    "String Format Function"
   ]
  },
  {
   "cell_type": "code",
   "execution_count": 104,
   "id": "6123a32c",
   "metadata": {},
   "outputs": [
    {
     "name": "stdout",
     "output_type": "stream",
     "text": [
      "People generally take coke with plzza\n"
     ]
    }
   ],
   "source": [
    "print(\"People generally take {} with {}\".format('coke', 'plzza'))"
   ]
  },
  {
   "cell_type": "code",
   "execution_count": 105,
   "id": "189f3fe7",
   "metadata": {},
   "outputs": [
    {
     "name": "stdout",
     "output_type": "stream",
     "text": [
      "People generally take Coke with Pizza\n"
     ]
    }
   ],
   "source": [
    "print(\"People generally take {0} with {1}\".format('Coke','Pizza'))"
   ]
  },
  {
   "cell_type": "code",
   "execution_count": 106,
   "id": "c9945d06",
   "metadata": {},
   "outputs": [
    {
     "name": "stdout",
     "output_type": "stream",
     "text": [
      "people generally take Pizza with Coke\n"
     ]
    }
   ],
   "source": [
    "print(\"people generally take {1} with {0}\".format('Coke', 'Pizza'))"
   ]
  },
  {
   "cell_type": "code",
   "execution_count": null,
   "id": "d2acd827",
   "metadata": {},
   "outputs": [],
   "source": []
  }
 ],
 "metadata": {
  "kernelspec": {
   "display_name": "Python 3 (ipykernel)",
   "language": "python",
   "name": "python3"
  },
  "language_info": {
   "codemirror_mode": {
    "name": "ipython",
    "version": 3
   },
   "file_extension": ".py",
   "mimetype": "text/x-python",
   "name": "python",
   "nbconvert_exporter": "python",
   "pygments_lexer": "ipython3",
   "version": "3.9.12"
  }
 },
 "nbformat": 4,
 "nbformat_minor": 5
}
