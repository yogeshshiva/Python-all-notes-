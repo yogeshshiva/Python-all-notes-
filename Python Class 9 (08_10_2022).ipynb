{
 "cells": [
  {
   "cell_type": "markdown",
   "id": "4be0d601",
   "metadata": {},
   "source": [
    "# OOPS"
   ]
  },
  {
   "cell_type": "code",
   "execution_count": 5,
   "id": "7c56279b",
   "metadata": {},
   "outputs": [],
   "source": [
    "class student:\n",
    "    # initialization Constructor / Default Constructor\n",
    "    def __init__(self,rollno,name,fees):\n",
    "        self.rollno = rollno\n",
    "        self.name = name\n",
    "        self.fees = fees\n",
    "    \n",
    "    def display(self):\n",
    "        print(\"Roll No =\",self.rollno,\" Name =\",self.name,\" Fees =\",self.fees)\n"
   ]
  },
  {
   "cell_type": "code",
   "execution_count": 6,
   "id": "99c0a445",
   "metadata": {},
   "outputs": [
    {
     "name": "stdout",
     "output_type": "stream",
     "text": [
      "Roll No = 10  Name = Yogesh  Fees = 5487\n"
     ]
    }
   ],
   "source": [
    "# Creating Object / Instance\n",
    "# object name = class name\n",
    "\n",
    "stud1 = student(10, 'Yogesh', 5487)     # calling initialization constructor automatically\n",
    "stud1.display()"
   ]
  },
  {
   "cell_type": "code",
   "execution_count": 7,
   "id": "149f3d53",
   "metadata": {},
   "outputs": [
    {
     "name": "stdout",
     "output_type": "stream",
     "text": [
      "Roll No = 12  Name = Shiva  Fees = 45210\n"
     ]
    }
   ],
   "source": [
    "stud2 = student(12, 'Shiva', 45210)   # call constructor\n",
    "stud2.display()"
   ]
  },
  {
   "cell_type": "code",
   "execution_count": 12,
   "id": "1f46288e",
   "metadata": {
    "scrolled": true
   },
   "outputs": [
    {
     "name": "stdout",
     "output_type": "stream",
     "text": [
      "Roll No = 25  Name = Shiva  Fees = 65230\n"
     ]
    }
   ],
   "source": [
    "stud3 = student(25, 'Shiva', 65230)\n",
    "stud3.display()"
   ]
  },
  {
   "cell_type": "code",
   "execution_count": 13,
   "id": "d5db5c0d",
   "metadata": {},
   "outputs": [
    {
     "data": {
      "text/plain": [
       "10"
      ]
     },
     "execution_count": 13,
     "metadata": {},
     "output_type": "execute_result"
    }
   ],
   "source": [
    "stud1.rollno"
   ]
  },
  {
   "cell_type": "code",
   "execution_count": 14,
   "id": "bd1e57c8",
   "metadata": {
    "scrolled": true
   },
   "outputs": [
    {
     "data": {
      "text/plain": [
       "'Yogesh'"
      ]
     },
     "execution_count": 14,
     "metadata": {},
     "output_type": "execute_result"
    }
   ],
   "source": [
    "stud1.name"
   ]
  },
  {
   "cell_type": "code",
   "execution_count": 15,
   "id": "10f79bd6",
   "metadata": {},
   "outputs": [
    {
     "data": {
      "text/plain": [
       "5487"
      ]
     },
     "execution_count": 15,
     "metadata": {},
     "output_type": "execute_result"
    }
   ],
   "source": [
    "stud1.fees"
   ]
  },
  {
   "cell_type": "code",
   "execution_count": 16,
   "id": "19e70889",
   "metadata": {},
   "outputs": [
    {
     "data": {
      "text/plain": [
       "12"
      ]
     },
     "execution_count": 16,
     "metadata": {},
     "output_type": "execute_result"
    }
   ],
   "source": [
    "stud2.rollno"
   ]
  },
  {
   "cell_type": "code",
   "execution_count": 17,
   "id": "bd05f7fc",
   "metadata": {},
   "outputs": [
    {
     "data": {
      "text/plain": [
       "'Shiva'"
      ]
     },
     "execution_count": 17,
     "metadata": {},
     "output_type": "execute_result"
    }
   ],
   "source": [
    "stud2.name"
   ]
  },
  {
   "cell_type": "code",
   "execution_count": 18,
   "id": "b8a7cdc9",
   "metadata": {
    "scrolled": true
   },
   "outputs": [
    {
     "data": {
      "text/plain": [
       "45210"
      ]
     },
     "execution_count": 18,
     "metadata": {},
     "output_type": "execute_result"
    }
   ],
   "source": [
    "stud2.fees"
   ]
  },
  {
   "cell_type": "code",
   "execution_count": 19,
   "id": "229a51f2",
   "metadata": {},
   "outputs": [
    {
     "data": {
      "text/plain": [
       "'Shiva'"
      ]
     },
     "execution_count": 19,
     "metadata": {},
     "output_type": "execute_result"
    }
   ],
   "source": [
    "stud3.name"
   ]
  },
  {
   "cell_type": "code",
   "execution_count": 20,
   "id": "8fe30285",
   "metadata": {},
   "outputs": [
    {
     "data": {
      "text/plain": [
       "25"
      ]
     },
     "execution_count": 20,
     "metadata": {},
     "output_type": "execute_result"
    }
   ],
   "source": [
    "stud3.rollno"
   ]
  },
  {
   "cell_type": "code",
   "execution_count": 21,
   "id": "2d21b48b",
   "metadata": {
    "scrolled": true
   },
   "outputs": [
    {
     "data": {
      "text/plain": [
       "65230"
      ]
     },
     "execution_count": 21,
     "metadata": {},
     "output_type": "execute_result"
    }
   ],
   "source": [
    "stud3.fees"
   ]
  },
  {
   "cell_type": "code",
   "execution_count": 34,
   "id": "81952459",
   "metadata": {},
   "outputs": [],
   "source": [
    "class employee:\n",
    "    company = 'Google'         # class variable\n",
    "    def __init__(self,emp_id,emp_name):\n",
    "        self.emp_id = emp_id               # Instance variable\n",
    "        self.emp_name = emp_name           # Instance variable\n",
    "        \n",
    "    def display(self):\n",
    "        print(\"Emp id is ----> \",self.emp_id)\n",
    "        print(\"Emp name is ----> \",self.emp_name)"
   ]
  },
  {
   "cell_type": "code",
   "execution_count": 35,
   "id": "c721ba9d",
   "metadata": {
    "scrolled": true
   },
   "outputs": [
    {
     "name": "stdout",
     "output_type": "stream",
     "text": [
      "Emp id is ---->  542\n",
      "Emp name is ---->  kapil\n"
     ]
    }
   ],
   "source": [
    "# Object creation\n",
    "\n",
    "emp1 = employee('542', 'kapil')\n",
    "emp1.display()"
   ]
  },
  {
   "cell_type": "code",
   "execution_count": 36,
   "id": "9657fe99",
   "metadata": {
    "scrolled": true
   },
   "outputs": [
    {
     "name": "stdout",
     "output_type": "stream",
     "text": [
      "Emp id is ---->  45412\n",
      "Emp name is ---->  yogesh\n"
     ]
    }
   ],
   "source": [
    "emp2 = employee('45412', \"yogesh\")\n",
    "emp2.display()"
   ]
  },
  {
   "cell_type": "code",
   "execution_count": 40,
   "id": "471a9ff2",
   "metadata": {
    "scrolled": true
   },
   "outputs": [
    {
     "data": {
      "text/plain": [
       "'Google'"
      ]
     },
     "execution_count": 40,
     "metadata": {},
     "output_type": "execute_result"
    }
   ],
   "source": [
    "employee.company"
   ]
  },
  {
   "cell_type": "code",
   "execution_count": 42,
   "id": "6dab84ed",
   "metadata": {},
   "outputs": [
    {
     "data": {
      "text/plain": [
       "'542'"
      ]
     },
     "execution_count": 42,
     "metadata": {},
     "output_type": "execute_result"
    }
   ],
   "source": [
    "emp1.emp_id"
   ]
  },
  {
   "cell_type": "code",
   "execution_count": 43,
   "id": "71f73af7",
   "metadata": {
    "scrolled": true
   },
   "outputs": [
    {
     "data": {
      "text/plain": [
       "'yogesh'"
      ]
     },
     "execution_count": 43,
     "metadata": {},
     "output_type": "execute_result"
    }
   ],
   "source": [
    "emp2.emp_name"
   ]
  },
  {
   "cell_type": "code",
   "execution_count": 1,
   "id": "c3c0e34f",
   "metadata": {},
   "outputs": [
    {
     "name": "stdout",
     "output_type": "stream",
     "text": [
      "Person id = 201 person Name = Yogesh person Age = 23\n"
     ]
    }
   ],
   "source": [
    "class Person:\n",
    "#     initialization constructor\n",
    "    def __init__(self,pid,name,age):\n",
    "        self.pid = pid    # data member\n",
    "        self.name = name\n",
    "        self.age = age\n",
    "        \n",
    "    def displaydata(self):\n",
    "        print(\"Person id =\",self.pid,\"person Name =\",self.name,\"person Age =\",self.age)\n",
    "p1 = Person(201,'Yogesh',23)\n",
    "p1.displaydata()"
   ]
  },
  {
   "cell_type": "markdown",
   "id": "bac1f049",
   "metadata": {},
   "source": [
    "Question )  Write a  program to make a class of simplified airthmetic operation and try to get the output of that class through the object ?"
   ]
  },
  {
   "cell_type": "code",
   "execution_count": 9,
   "id": "c1d50ca4",
   "metadata": {},
   "outputs": [
    {
     "name": "stdout",
     "output_type": "stream",
     "text": [
      "the addition is---->  12 the subtraction is----  -2 the multiply is----  35 the divide is---->  0.7142857142857143 the module is---->  0\n"
     ]
    }
   ],
   "source": [
    "class simplified:\n",
    "    def function(self,a,b):\n",
    "        add = a + b\n",
    "        sub = a - b\n",
    "        mul = a * b\n",
    "        div = a / b\n",
    "        mod = a // b\n",
    "        print(\"the addition is----> \",add, \"the subtraction is---- \",sub, \"the multiply is---- \",mul, \"the divide is----> \",div, \"the module is----> \",mod)\n",
    "a = simplified()\n",
    "a.function(5,7)"
   ]
  },
  {
   "cell_type": "markdown",
   "id": "d403e7ba",
   "metadata": {},
   "source": [
    "Question )  Write a program to make a class of car and find its actual price if the car is of more than 10 lakh then there is a tax of 14% on the car and if the cost of car is less than 10 lakh then there is some discount of 7.8% on the car. Find the actual price of the paid by the user ?"
   ]
  },
  {
   "cell_type": "code",
   "execution_count": 33,
   "id": "e4d4fad4",
   "metadata": {},
   "outputs": [
    {
     "name": "stdout",
     "output_type": "stream",
     "text": [
      "Congratulation you have a discount.\n",
      "Your discount amount is = 1201.2\n",
      "Your total amount after discount is = 14198.8\n"
     ]
    }
   ],
   "source": [
    "class car:\n",
    "    def __init__(self,price):\n",
    "        self.price = price\n",
    "    \n",
    "    def display(self):\n",
    "        tax = (14 * price)/100\n",
    "        car_tax = price + tax\n",
    "        dis = (7.8 * price)/100\n",
    "        car_dis = price - dis\n",
    "        if price > 1000000:\n",
    "            print(\"Your tax amount is =\",tax)\n",
    "            print(\"Your Total amount after tax is =\",car_tax)\n",
    "        elif price == 1000000:\n",
    "            print(\"your car price is same.\")\n",
    "        elif price < 1000000:\n",
    "            print(\"Congratulation you have a discount.\")\n",
    "            print(\"Your discount amount is =\",dis)\n",
    "            print(\"Your total amount after discount is =\",car_dis)\n",
    "        else:\n",
    "            print(\"Invalid Input.\")\n",
    "c = car(264324)\n",
    "c.display()"
   ]
  },
  {
   "cell_type": "code",
   "execution_count": 1,
   "id": "4eeac313",
   "metadata": {},
   "outputs": [
    {
     "name": "stdout",
     "output_type": "stream",
     "text": [
      "Initialized data for players\n",
      "Player details : Virat 35 Cricket\n",
      "Getting data for players\n",
      "Player details : Richard 45 Tennis\n"
     ]
    }
   ],
   "source": [
    "class Player:\n",
    "    \n",
    "    def __init__(self,name,age,sport):\n",
    "        print(\"Initialized data for players\")\n",
    "        self.name = name\n",
    "        self.age = age\n",
    "        self.sport = sport\n",
    "        \n",
    "    def getdata(self,name,age,sport):\n",
    "        print(\"Getting data for players\")\n",
    "        self.name = name\n",
    "        self.age = age\n",
    "        self.sport = sport\n",
    "        \n",
    "    def displaydata(self):\n",
    "        print(\"Player details :\",self.name,self.age,self.sport)\n",
    "        \n",
    "def main():\n",
    "    p = Player(\"Virat\",35,\"Cricket\")\n",
    "    p.displaydata()\n",
    "        \n",
    "    p.getdata(\"Richard\",45,\"Tennis\")\n",
    "    p.displaydata()\n",
    "\n",
    "if __name__ == \"__main__\":\n",
    "    main()"
   ]
  },
  {
   "cell_type": "code",
   "execution_count": 2,
   "id": "4ee67a01",
   "metadata": {},
   "outputs": [
    {
     "name": "stdout",
     "output_type": "stream",
     "text": [
      "inside display function\n",
      "John 26 2000 234\n",
      "inside display function\n",
      "Andrew 30 3000 235\n"
     ]
    }
   ],
   "source": [
    "class Employee():\n",
    "    def __init__(self,name,age,id,salary):\n",
    "        self.name = name  # self is an instance of a class\n",
    "        self.age = age\n",
    "        self.salary = salary\n",
    "        self.id = id\n",
    "        \n",
    "    def display(self):\n",
    "        print(\"inside display function\")\n",
    "        print(self.name,self.age,self.id,self.salary)\n",
    "        \n",
    "emp1 = Employee(\"John\",26,2000,234)   #creating objects\n",
    "emp2 = Employee(\"Andrew\",30,3000,235)\n",
    "emp1.display()\n",
    "emp2.display()"
   ]
  }
 ],
 "metadata": {
  "kernelspec": {
   "display_name": "Python 3 (ipykernel)",
   "language": "python",
   "name": "python3"
  },
  "language_info": {
   "codemirror_mode": {
    "name": "ipython",
    "version": 3
   },
   "file_extension": ".py",
   "mimetype": "text/x-python",
   "name": "python",
   "nbconvert_exporter": "python",
   "pygments_lexer": "ipython3",
   "version": "3.9.12"
  }
 },
 "nbformat": 4,
 "nbformat_minor": 5
}
