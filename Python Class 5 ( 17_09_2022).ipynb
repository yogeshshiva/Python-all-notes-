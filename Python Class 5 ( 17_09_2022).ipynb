{
 "cells": [
  {
   "cell_type": "code",
   "execution_count": null,
   "id": "9a82cccb",
   "metadata": {},
   "outputs": [],
   "source": [
    "If constructs"
   ]
  },
  {
   "cell_type": "code",
   "execution_count": 2,
   "id": "09ff8807",
   "metadata": {},
   "outputs": [
    {
     "name": "stdout",
     "output_type": "stream",
     "text": [
      "x is greater.\n"
     ]
    }
   ],
   "source": [
    "x = 15\n",
    "\n",
    "if x>10:\n",
    "    print(\"x is greater.\")\n",
    "else:\n",
    "    print(\"x is lesser.\")"
   ]
  },
  {
   "cell_type": "code",
   "execution_count": 3,
   "id": "919dcfaa",
   "metadata": {},
   "outputs": [
    {
     "name": "stdout",
     "output_type": "stream",
     "text": [
      "x is lesser.\n"
     ]
    }
   ],
   "source": [
    "x = 5\n",
    "\n",
    "if x>10:\n",
    "    print(\"x is greater.\")\n",
    "else:\n",
    "    print(\"x is lesser.\")"
   ]
  },
  {
   "cell_type": "code",
   "execution_count": 4,
   "id": "f4a39bc6",
   "metadata": {},
   "outputs": [
    {
     "name": "stdout",
     "output_type": "stream",
     "text": [
      "p is greater.\n"
     ]
    }
   ],
   "source": [
    "p = 90\n",
    "\n",
    "if p>50:\n",
    "    print(\"p is greater.\")\n",
    "else:\n",
    "    print(\"p is lesser.\")"
   ]
  },
  {
   "cell_type": "code",
   "execution_count": 5,
   "id": "f177a980",
   "metadata": {},
   "outputs": [
    {
     "name": "stdout",
     "output_type": "stream",
     "text": [
      "p is lesser.\n"
     ]
    }
   ],
   "source": [
    "p = 30\n",
    "\n",
    "if p>50:\n",
    "    print(\"p is greater.\")\n",
    "else:\n",
    "    print(\"p is lesser.\")"
   ]
  },
  {
   "cell_type": "code",
   "execution_count": null,
   "id": "68208a0a",
   "metadata": {},
   "outputs": [],
   "source": [
    "even or odd"
   ]
  },
  {
   "cell_type": "code",
   "execution_count": 6,
   "id": "1884ce31",
   "metadata": {},
   "outputs": [
    {
     "name": "stdout",
     "output_type": "stream",
     "text": [
      "x is even number.\n"
     ]
    }
   ],
   "source": [
    "x = 22\n",
    "\n",
    "if x%2==0:\n",
    "    print(\"x is even number.\")\n",
    "else:\n",
    "    print(\"x is odd number.\")"
   ]
  },
  {
   "cell_type": "code",
   "execution_count": 7,
   "id": "7a25e301",
   "metadata": {},
   "outputs": [
    {
     "name": "stdout",
     "output_type": "stream",
     "text": [
      "x is odd number.\n"
     ]
    }
   ],
   "source": [
    "x = 49\n",
    "\n",
    "if x%2==0:\n",
    "    print(\"x is even number.\")\n",
    "else:\n",
    "    print(\"x is odd number.\")"
   ]
  },
  {
   "cell_type": "code",
   "execution_count": 11,
   "id": "432c533a",
   "metadata": {},
   "outputs": [
    {
     "name": "stdout",
     "output_type": "stream",
     "text": [
      "Enter any Number.\n",
      "43\n",
      "x is odd number.\n"
     ]
    }
   ],
   "source": [
    "x = int(input(\"Enter any Number.\\n\"))\n",
    "\n",
    "if x%2==0:\n",
    "    print(\"x is even number.\")\n",
    "else:\n",
    "    print(\"x is odd number.\")"
   ]
  },
  {
   "cell_type": "code",
   "execution_count": 10,
   "id": "5d44a850",
   "metadata": {},
   "outputs": [
    {
     "name": "stdout",
     "output_type": "stream",
     "text": [
      "Enter any Number.\n",
      "65\n",
      "65  is odd number.\n"
     ]
    }
   ],
   "source": [
    "x = int(input(\"Enter any Number.\\n\"))\n",
    "\n",
    "if x%2==0:\n",
    "    print(x,\" is even number.\")\n",
    "else:\n",
    "    print(x,\" is odd number.\")"
   ]
  },
  {
   "cell_type": "code",
   "execution_count": 12,
   "id": "a21f59a3",
   "metadata": {},
   "outputs": [
    {
     "name": "stdout",
     "output_type": "stream",
     "text": [
      "x is odd number.\n"
     ]
    }
   ],
   "source": [
    "x = 21\n",
    "\n",
    "if x%2 != 0:\n",
    "    print(\"x is odd number.\")\n",
    "else:\n",
    "    print(\"x is even number.\")"
   ]
  },
  {
   "cell_type": "code",
   "execution_count": null,
   "id": "1f5d48b0",
   "metadata": {},
   "outputs": [],
   "source": [
    "use elif condition"
   ]
  },
  {
   "cell_type": "code",
   "execution_count": 18,
   "id": "6aebaa1b",
   "metadata": {},
   "outputs": [
    {
     "name": "stdout",
     "output_type": "stream",
     "text": [
      "Enter any marks.67\n",
      "B grade.\n"
     ]
    }
   ],
   "source": [
    "marks = int(input(\"Enter any marks.\"))\n",
    "\n",
    "if marks>90:\n",
    "    print(\"Excellent : A+\")\n",
    "elif marks>80 and marks<=90:\n",
    "    print(\"A grade.\")\n",
    "elif marks>70 and marks<=80:\n",
    "    print(\"B+ grade.\")\n",
    "elif marks>60 and marks<=70:\n",
    "    print(\"B grade.\")\n",
    "elif marks>50 and marks<=60:\n",
    "    print(\"C grade.\")\n",
    "else:\n",
    "    print(\"D grade.\")"
   ]
  }
 ],
 "metadata": {
  "kernelspec": {
   "display_name": "Python 3 (ipykernel)",
   "language": "python",
   "name": "python3"
  },
  "language_info": {
   "codemirror_mode": {
    "name": "ipython",
    "version": 3
   },
   "file_extension": ".py",
   "mimetype": "text/x-python",
   "name": "python",
   "nbconvert_exporter": "python",
   "pygments_lexer": "ipython3",
   "version": "3.9.12"
  }
 },
 "nbformat": 4,
 "nbformat_minor": 5
}
