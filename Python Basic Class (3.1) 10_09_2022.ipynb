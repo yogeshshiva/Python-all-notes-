{
 "cells": [
  {
   "cell_type": "markdown",
   "id": "562675fc",
   "metadata": {},
   "source": [
    "# Tuple"
   ]
  },
  {
   "cell_type": "code",
   "execution_count": 1,
   "id": "75e28e10",
   "metadata": {},
   "outputs": [
    {
     "data": {
      "text/plain": [
       "(1, 2, 3, 4, 5)"
      ]
     },
     "execution_count": 1,
     "metadata": {},
     "output_type": "execute_result"
    }
   ],
   "source": [
    "tuple1 = (1, 2, 3, 4, 5)\n",
    "tuple1"
   ]
  },
  {
   "cell_type": "code",
   "execution_count": 5,
   "id": "d44ab847",
   "metadata": {},
   "outputs": [
    {
     "data": {
      "text/plain": [
       "(11, 12, 13, 14, 15, 16)"
      ]
     },
     "execution_count": 5,
     "metadata": {},
     "output_type": "execute_result"
    }
   ],
   "source": [
    "tuple2 = (11, 12, 13, 14, 15, 16)\n",
    "tuple2"
   ]
  },
  {
   "cell_type": "code",
   "execution_count": 2,
   "id": "b36f0088",
   "metadata": {},
   "outputs": [
    {
     "data": {
      "text/plain": [
       "('a', 'p', 'p', 'l', 'e')"
      ]
     },
     "execution_count": 2,
     "metadata": {},
     "output_type": "execute_result"
    }
   ],
   "source": [
    "tuple3 = (\"a\", \"p\", \"p\", \"l\", \"e\")\n",
    "tuple3"
   ]
  },
  {
   "cell_type": "code",
   "execution_count": 6,
   "id": "f1ad9c2f",
   "metadata": {},
   "outputs": [
    {
     "data": {
      "text/plain": [
       "'a'"
      ]
     },
     "execution_count": 6,
     "metadata": {},
     "output_type": "execute_result"
    }
   ],
   "source": [
    "tuple3[0]"
   ]
  },
  {
   "cell_type": "code",
   "execution_count": 7,
   "id": "79594995",
   "metadata": {},
   "outputs": [
    {
     "data": {
      "text/plain": [
       "'p'"
      ]
     },
     "execution_count": 7,
     "metadata": {},
     "output_type": "execute_result"
    }
   ],
   "source": [
    "tuple3[2]"
   ]
  },
  {
   "cell_type": "code",
   "execution_count": 8,
   "id": "b0d2b128",
   "metadata": {},
   "outputs": [
    {
     "data": {
      "text/plain": [
       "'p'"
      ]
     },
     "execution_count": 8,
     "metadata": {},
     "output_type": "execute_result"
    }
   ],
   "source": [
    "tuple3[1]"
   ]
  },
  {
   "cell_type": "code",
   "execution_count": 9,
   "id": "59cdaa3c",
   "metadata": {},
   "outputs": [
    {
     "data": {
      "text/plain": [
       "'e'"
      ]
     },
     "execution_count": 9,
     "metadata": {},
     "output_type": "execute_result"
    }
   ],
   "source": [
    "tuple3[4]"
   ]
  },
  {
   "cell_type": "code",
   "execution_count": 10,
   "id": "f3f59722",
   "metadata": {},
   "outputs": [
    {
     "data": {
      "text/plain": [
       "0"
      ]
     },
     "execution_count": 10,
     "metadata": {},
     "output_type": "execute_result"
    }
   ],
   "source": [
    "tuple3.index('a')"
   ]
  },
  {
   "cell_type": "code",
   "execution_count": 11,
   "id": "97bd2ea2",
   "metadata": {},
   "outputs": [
    {
     "data": {
      "text/plain": [
       "3"
      ]
     },
     "execution_count": 11,
     "metadata": {},
     "output_type": "execute_result"
    }
   ],
   "source": [
    "tuple3.index('l')"
   ]
  },
  {
   "cell_type": "code",
   "execution_count": 12,
   "id": "6570407d",
   "metadata": {},
   "outputs": [
    {
     "data": {
      "text/plain": [
       "2"
      ]
     },
     "execution_count": 12,
     "metadata": {},
     "output_type": "execute_result"
    }
   ],
   "source": [
    "tuple3.count('p')"
   ]
  },
  {
   "cell_type": "code",
   "execution_count": 13,
   "id": "24069099",
   "metadata": {},
   "outputs": [
    {
     "data": {
      "text/plain": [
       "1"
      ]
     },
     "execution_count": 13,
     "metadata": {},
     "output_type": "execute_result"
    }
   ],
   "source": [
    "tuple3.index('p')"
   ]
  },
  {
   "cell_type": "code",
   "execution_count": 14,
   "id": "572bdfd8",
   "metadata": {},
   "outputs": [
    {
     "data": {
      "text/plain": [
       "('a', 'p', 'p', 'l', 'e')"
      ]
     },
     "execution_count": 14,
     "metadata": {},
     "output_type": "execute_result"
    }
   ],
   "source": [
    "tuple3"
   ]
  },
  {
   "cell_type": "code",
   "execution_count": 15,
   "id": "acba2c5d",
   "metadata": {},
   "outputs": [
    {
     "data": {
      "text/plain": [
       "'e'"
      ]
     },
     "execution_count": 15,
     "metadata": {},
     "output_type": "execute_result"
    }
   ],
   "source": [
    "tuple3[4]"
   ]
  },
  {
   "cell_type": "code",
   "execution_count": 16,
   "id": "599b3474",
   "metadata": {},
   "outputs": [
    {
     "ename": "TypeError",
     "evalue": "'tuple' object does not support item assignment",
     "output_type": "error",
     "traceback": [
      "\u001b[1;31m---------------------------------------------------------------------------\u001b[0m",
      "\u001b[1;31mTypeError\u001b[0m                                 Traceback (most recent call last)",
      "Input \u001b[1;32mIn [16]\u001b[0m, in \u001b[0;36m<cell line: 1>\u001b[1;34m()\u001b[0m\n\u001b[1;32m----> 1\u001b[0m tuple3[\u001b[38;5;241m4\u001b[39m] \u001b[38;5;241m=\u001b[39m \u001b[38;5;124m\"\u001b[39m\u001b[38;5;124mme\u001b[39m\u001b[38;5;124m\"\u001b[39m\n",
      "\u001b[1;31mTypeError\u001b[0m: 'tuple' object does not support item assignment"
     ]
    }
   ],
   "source": [
    "tuple3[4] = \"me\"  # here tuple are immutable that's why this code is error."
   ]
  },
  {
   "cell_type": "code",
   "execution_count": 17,
   "id": "d7690b88",
   "metadata": {},
   "outputs": [
    {
     "data": {
      "text/plain": [
       "5"
      ]
     },
     "execution_count": 17,
     "metadata": {},
     "output_type": "execute_result"
    }
   ],
   "source": [
    "tuple1[4]"
   ]
  },
  {
   "cell_type": "code",
   "execution_count": 18,
   "id": "84682bbc",
   "metadata": {},
   "outputs": [
    {
     "ename": "TypeError",
     "evalue": "'tuple' object does not support item assignment",
     "output_type": "error",
     "traceback": [
      "\u001b[1;31m---------------------------------------------------------------------------\u001b[0m",
      "\u001b[1;31mTypeError\u001b[0m                                 Traceback (most recent call last)",
      "Input \u001b[1;32mIn [18]\u001b[0m, in \u001b[0;36m<cell line: 1>\u001b[1;34m()\u001b[0m\n\u001b[1;32m----> 1\u001b[0m tuple1[\u001b[38;5;241m4\u001b[39m] \u001b[38;5;241m=\u001b[39m \u001b[38;5;241m55\u001b[39m\n",
      "\u001b[1;31mTypeError\u001b[0m: 'tuple' object does not support item assignment"
     ]
    }
   ],
   "source": [
    "tuple1[4] = 55  # tuple is immutable."
   ]
  },
  {
   "cell_type": "code",
   "execution_count": 19,
   "id": "79a17419",
   "metadata": {},
   "outputs": [
    {
     "data": {
      "text/plain": [
       "tuple"
      ]
     },
     "execution_count": 19,
     "metadata": {},
     "output_type": "execute_result"
    }
   ],
   "source": [
    "namelist = (\"A\", \"B\", \"C\")\n",
    "type(namelist)"
   ]
  },
  {
   "cell_type": "code",
   "execution_count": 20,
   "id": "ae1053f4",
   "metadata": {},
   "outputs": [
    {
     "data": {
      "text/plain": [
       "'A'"
      ]
     },
     "execution_count": 20,
     "metadata": {},
     "output_type": "execute_result"
    }
   ],
   "source": [
    "namelist[0]"
   ]
  },
  {
   "cell_type": "code",
   "execution_count": 21,
   "id": "b2d78370",
   "metadata": {},
   "outputs": [
    {
     "data": {
      "text/plain": [
       "'C'"
      ]
     },
     "execution_count": 21,
     "metadata": {},
     "output_type": "execute_result"
    }
   ],
   "source": [
    "namelist[2]"
   ]
  },
  {
   "cell_type": "code",
   "execution_count": 3,
   "id": "7e4bf6d7",
   "metadata": {},
   "outputs": [
    {
     "data": {
      "text/plain": [
       "('a', 'p', 'p', 'l', 'e')"
      ]
     },
     "execution_count": 3,
     "metadata": {},
     "output_type": "execute_result"
    }
   ],
   "source": [
    "tuple3"
   ]
  },
  {
   "cell_type": "code",
   "execution_count": 4,
   "id": "0169ee3b",
   "metadata": {},
   "outputs": [],
   "source": [
    "del tuple3"
   ]
  },
  {
   "cell_type": "code",
   "execution_count": 5,
   "id": "c9f97952",
   "metadata": {},
   "outputs": [
    {
     "ename": "NameError",
     "evalue": "name 'tuple3' is not defined",
     "output_type": "error",
     "traceback": [
      "\u001b[1;31m---------------------------------------------------------------------------\u001b[0m",
      "\u001b[1;31mNameError\u001b[0m                                 Traceback (most recent call last)",
      "Input \u001b[1;32mIn [5]\u001b[0m, in \u001b[0;36m<cell line: 1>\u001b[1;34m()\u001b[0m\n\u001b[1;32m----> 1\u001b[0m \u001b[43mtuple3\u001b[49m\n",
      "\u001b[1;31mNameError\u001b[0m: name 'tuple3' is not defined"
     ]
    }
   ],
   "source": [
    "tuple3   # this tuple3 is delete already that's why this code is show error."
   ]
  }
 ],
 "metadata": {
  "kernelspec": {
   "display_name": "Python 3 (ipykernel)",
   "language": "python",
   "name": "python3"
  },
  "language_info": {
   "codemirror_mode": {
    "name": "ipython",
    "version": 3
   },
   "file_extension": ".py",
   "mimetype": "text/x-python",
   "name": "python",
   "nbconvert_exporter": "python",
   "pygments_lexer": "ipython3",
   "version": "3.9.12"
  }
 },
 "nbformat": 4,
 "nbformat_minor": 5
}
