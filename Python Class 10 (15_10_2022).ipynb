{
 "cells": [
  {
   "cell_type": "markdown",
   "id": "6e0d7cfe",
   "metadata": {},
   "source": [
    "# FILE INPUT / OUTPUT OPERATIONS"
   ]
  },
  {
   "cell_type": "markdown",
   "id": "0b331212",
   "metadata": {},
   "source": [
    "savefile = open(\"C:\\Users\\Dell\\demofile.txt\",'w')"
   ]
  },
  {
   "cell_type": "code",
   "execution_count": 21,
   "id": "c29d4fef",
   "metadata": {},
   "outputs": [],
   "source": [
    "savefile = open('D:\\\\Python\\\\demofile.text','w')"
   ]
  },
  {
   "cell_type": "code",
   "execution_count": 86,
   "id": "4cc2cc55",
   "metadata": {},
   "outputs": [],
   "source": [
    "savefile = open('D:\\\\Python\\\\File15_Oct.txt','w')    # is code se D likha hai kuki mera d drive me python name ka folder hai or us folder ke andr Files15_Oct name ka ek file bna gya hai."
   ]
  },
  {
   "cell_type": "code",
   "execution_count": 87,
   "id": "25017866",
   "metadata": {},
   "outputs": [
    {
     "data": {
      "text/plain": [
       "52"
      ]
     },
     "execution_count": 87,
     "metadata": {},
     "output_type": "execute_result"
    }
   ],
   "source": [
    "savefile.write(\"Learning to create a file with input output function\")"
   ]
  },
  {
   "cell_type": "code",
   "execution_count": 88,
   "id": "8d9038b4",
   "metadata": {},
   "outputs": [],
   "source": [
    "savefile.close()"
   ]
  },
  {
   "cell_type": "code",
   "execution_count": 89,
   "id": "0e8c0402",
   "metadata": {},
   "outputs": [],
   "source": [
    "readme = open('D:\\\\Python\\\\File15_Oct.txt','r')"
   ]
  },
  {
   "cell_type": "code",
   "execution_count": 90,
   "id": "3df2e4a7",
   "metadata": {},
   "outputs": [
    {
     "name": "stdout",
     "output_type": "stream",
     "text": [
      "Learning to create a file with input output function\n"
     ]
    }
   ],
   "source": [
    "print(readme.read())"
   ]
  },
  {
   "cell_type": "code",
   "execution_count": 91,
   "id": "84c60409",
   "metadata": {},
   "outputs": [],
   "source": [
    "readme.close()"
   ]
  },
  {
   "cell_type": "code",
   "execution_count": 92,
   "id": "06292770",
   "metadata": {
    "scrolled": true
   },
   "outputs": [],
   "source": [
    "appendfile = open('D:\\\\Python\\\\File15_Oct.text','a')"
   ]
  },
  {
   "cell_type": "code",
   "execution_count": 93,
   "id": "6c4f44ae",
   "metadata": {
    "scrolled": true
   },
   "outputs": [
    {
     "data": {
      "text/plain": [
       "24"
      ]
     },
     "execution_count": 93,
     "metadata": {},
     "output_type": "execute_result"
    }
   ],
   "source": [
    "appendfile.write(\"\\n Lets write a new line.\")"
   ]
  },
  {
   "cell_type": "code",
   "execution_count": 94,
   "id": "01fcd2f3",
   "metadata": {},
   "outputs": [],
   "source": [
    "appendfile.close()"
   ]
  },
  {
   "cell_type": "code",
   "execution_count": 97,
   "id": "7de0bc42",
   "metadata": {},
   "outputs": [],
   "source": [
    "readme = open(\"D:\\\\Python\\\\File15_Oct.text\",'r')"
   ]
  },
  {
   "cell_type": "code",
   "execution_count": 98,
   "id": "82899434",
   "metadata": {},
   "outputs": [
    {
     "name": "stdout",
     "output_type": "stream",
     "text": [
      "Learning to create a file with input output function\n",
      " Lets write a new line.\n"
     ]
    }
   ],
   "source": [
    "print(readme.read())"
   ]
  },
  {
   "cell_type": "code",
   "execution_count": 99,
   "id": "b3e32266",
   "metadata": {},
   "outputs": [],
   "source": [
    "readme.close()"
   ]
  },
  {
   "cell_type": "code",
   "execution_count": 106,
   "id": "0b1c70ac",
   "metadata": {},
   "outputs": [],
   "source": [
    "appendfile = open(\"D:\\\\Python\\\\File15_Oct.text\",'a')"
   ]
  },
  {
   "cell_type": "code",
   "execution_count": 107,
   "id": "95d9238c",
   "metadata": {},
   "outputs": [
    {
     "data": {
      "text/plain": [
       "24"
      ]
     },
     "execution_count": 107,
     "metadata": {},
     "output_type": "execute_result"
    }
   ],
   "source": [
    "appendfile.write(\"\\n Lets write a new line.\")"
   ]
  },
  {
   "cell_type": "code",
   "execution_count": 108,
   "id": "3de053b8",
   "metadata": {},
   "outputs": [],
   "source": [
    "appendfile.close()"
   ]
  },
  {
   "cell_type": "code",
   "execution_count": 114,
   "id": "ff20186e",
   "metadata": {},
   "outputs": [],
   "source": [
    "readme = open(\"D:\\\\Python\\\\File15_Oct.text\",'r')"
   ]
  },
  {
   "cell_type": "code",
   "execution_count": 115,
   "id": "f236d61f",
   "metadata": {},
   "outputs": [
    {
     "name": "stdout",
     "output_type": "stream",
     "text": [
      "Learning to create a file with input output function\n",
      " Lets write a new line.\n",
      " Lets write a new line.\n"
     ]
    }
   ],
   "source": [
    "print(readme.read())"
   ]
  },
  {
   "cell_type": "code",
   "execution_count": 111,
   "id": "714749ff",
   "metadata": {},
   "outputs": [],
   "source": [
    "readme.close()"
   ]
  },
  {
   "cell_type": "code",
   "execution_count": 7,
   "id": "2a44e23d",
   "metadata": {},
   "outputs": [
    {
     "name": "stdout",
     "output_type": "stream",
     "text": [
      "Enter your name = Yogesh\n",
      "Enter Last name = Sharma\n",
      "Enter City Name = Pithoragarh\n",
      "Enter preferred user id = yogesh_sharma\n",
      "Chose your password = Shiva@123\n",
      "Enter your phone number = 7409182738\n",
      "user id = Sharma_yogesh\n",
      "Password = Shiva@123\n",
      "User ID or Password is Invalid\n",
      "user id = yogesh_sharma\n",
      "Password = Sharma@123\n",
      "User ID or Password is Invalid\n",
      "user id = yogesh_sharma\n",
      "Password = Shiva@123\n",
      "Successfully logged in\n"
     ]
    }
   ],
   "source": [
    "class Account:    # this class\n",
    "    def __init__(self,name = input(\"Enter your name = \"),\n",
    "                last_name  = input(\"Enter Last name = \"),\n",
    "                city       = input(\"Enter City Name = \"),\n",
    "                user_id    = input(\"Enter preferred user id = \"),\n",
    "                password   = input(\"Chose your password = \"),\n",
    "                phone      = input(\"Enter your phone number = \")):\n",
    "        self.name      = name\n",
    "        self.last_name = last_name\n",
    "        self.city      = city\n",
    "        self.user_id   = user_id\n",
    "        self.password  = password\n",
    "        self.phone     = phone\n",
    "    \n",
    "    def login(self):   # method\n",
    "        while True:\n",
    "            signin  = input(\"user id = \")\n",
    "            password = input(\"Password = \")\n",
    "            if signin == self.user_id and password == self.password:\n",
    "                print(\"Successfully logged in\")\n",
    "                break\n",
    "            else:\n",
    "                print(\"User ID or Password is Invalid\")\n",
    "                continue\n",
    "a = Account()\n",
    "a.login()"
   ]
  },
  {
   "cell_type": "code",
   "execution_count": 8,
   "id": "b8a8f935",
   "metadata": {},
   "outputs": [],
   "source": [
    "# instantiating a class and create a object for the class. Here bank is an object for class Account\n",
    "bank = Account()"
   ]
  },
  {
   "cell_type": "code",
   "execution_count": 9,
   "id": "c3d1432f",
   "metadata": {},
   "outputs": [
    {
     "name": "stdout",
     "output_type": "stream",
     "text": [
      "user id = Yogesh_Sharma\n",
      "Password = Pith@123\n",
      "User ID or Password is Invalid\n",
      "user id = sharma_yogesh\n",
      "Password = Shiva@123\n",
      "User ID or Password is Invalid\n",
      "user id = yogesh_sharma\n",
      "Password = Shiva@123\n",
      "Successfully logged in\n"
     ]
    }
   ],
   "source": [
    "# Calling Methods\n",
    "bank.login()"
   ]
  },
  {
   "cell_type": "code",
   "execution_count": null,
   "id": "cc16eec8",
   "metadata": {},
   "outputs": [],
   "source": [
    "Once a class is defined it models a concept. It is useful to extend a class behavior to model a less general concept. \n",
    "Say we need to copyproperties of old account and add new property or attribute and create new version of account."
   ]
  },
  {
   "cell_type": "code",
   "execution_count": 22,
   "id": "d326b89b",
   "metadata": {},
   "outputs": [],
   "source": [
    "class User_Account(Account):                   # inheritance code\n",
    "    \n",
    "    def __init__(self, acc_number, balance, *args):\n",
    "        super(User_Account, self).__init__(*args)\n",
    "        self.acc_number = acc_number\n",
    "        self.balance    = balance\n",
    "        \n",
    "    def user_details(self):\n",
    "        while True:\n",
    "            account = int(input(\"Enter your account number = \"))\n",
    "            if account == self.acc_number:\n",
    "                print(\"Name = \",self.name)\n",
    "                print(\"Acc Num = \",self.acc_number)\n",
    "                print(\"Your Balance = \",self.balance)\n",
    "                break\n",
    "            else:\n",
    "                print(\"Account number is not Valid\")\n",
    "                continue\n",
    "                \n",
    "    def deposit(self):\n",
    "        print(\"Your Previous Balance = \",self.balance)        \n",
    "        \n",
    "        add_cash = int(input(\"Deposit Cash = \"))\n",
    "        self.balance += add_cash\n",
    "        print(\"n\\ HDFC Bank: Rs\",add_cash, 'deposited to your account', self.acc_number,'and Your Current Balance is',self.balance)\n",
    "    def transfer(self):\n",
    "        print(\"Your previous Balance = \",self.balance)\n",
    "        \n",
    "        withdraw = int(input(\"How much you want to transfer = \"))\n",
    "        if withdraw <= self.balance:\n",
    "            self.balance -= withdraw\n",
    "            print(\"n\\ HDFC Bank Rs \",withdraw,'withdraw from your account',self.acc_number,'and Your Current Balance is ',self.balance)\n",
    "        \n",
    "        else:\n",
    "            print(\"\\n Alert : Dear Customer, you don't have sufficent fund\")"
   ]
  },
  {
   "cell_type": "code",
   "execution_count": 24,
   "id": "9d664003",
   "metadata": {},
   "outputs": [],
   "source": [
    "bank_details = User_Account(36531609750,0)"
   ]
  },
  {
   "cell_type": "code",
   "execution_count": 25,
   "id": "e1bd89b4",
   "metadata": {},
   "outputs": [
    {
     "name": "stdout",
     "output_type": "stream",
     "text": [
      "user id = yogesh_sharma\n",
      "Password = Shiva@123\n",
      "Successfully logged in\n"
     ]
    }
   ],
   "source": [
    "# You can connect to new object for login\n",
    "bank_details.login()"
   ]
  },
  {
   "cell_type": "code",
   "execution_count": 26,
   "id": "0456d619",
   "metadata": {},
   "outputs": [
    {
     "name": "stdout",
     "output_type": "stream",
     "text": [
      "Enter your account number = 36531609750\n",
      "Name =  Yogesh\n",
      "Acc Num =  36531609750\n",
      "Your Balance =  0\n"
     ]
    }
   ],
   "source": [
    "# Check you personnel details\n",
    "bank_details.user_details()"
   ]
  },
  {
   "cell_type": "code",
   "execution_count": 27,
   "id": "7a43d2b0",
   "metadata": {},
   "outputs": [
    {
     "name": "stdout",
     "output_type": "stream",
     "text": [
      "Your Previous Balance =  0\n",
      "Deposit Cash = 8000\n",
      "n\\ HDFC Bank: Rs 8000 deposited to your account 36531609750 and Your Current Balance is 8000\n"
     ]
    }
   ],
   "source": [
    "# Cash Deposit\n",
    "bank_details.deposit()"
   ]
  },
  {
   "cell_type": "code",
   "execution_count": 28,
   "id": "93c08c6a",
   "metadata": {},
   "outputs": [
    {
     "name": "stdout",
     "output_type": "stream",
     "text": [
      "Your previous Balance =  8000\n",
      "How much you want to transfer = 2000\n",
      "n\\ HDFC Bank Rs  2000 withdraw from your account 36531609750 and Your Current Balance is  6000\n"
     ]
    }
   ],
   "source": [
    "# cash withdrawal/transfer\n",
    "bank_details.transfer()"
   ]
  },
  {
   "cell_type": "code",
   "execution_count": 29,
   "id": "0c0b078c",
   "metadata": {},
   "outputs": [
    {
     "name": "stdout",
     "output_type": "stream",
     "text": [
      "Your previous Balance =  6000\n",
      "How much you want to transfer = 7000\n",
      "\n",
      " Alert : Dear Customer, you don't have sufficent fund\n"
     ]
    }
   ],
   "source": [
    "bank_details.transfer()"
   ]
  },
  {
   "cell_type": "markdown",
   "id": "5c6f66a6",
   "metadata": {},
   "source": [
    "# Encapsulation"
   ]
  },
  {
   "cell_type": "code",
   "execution_count": 30,
   "id": "6e2334b0",
   "metadata": {},
   "outputs": [
    {
     "name": "stdout",
     "output_type": "stream",
     "text": [
      "Tyres: \n",
      " \tBranch: MRF\n",
      " \tBelted_bias: True\n",
      " \tOptimal pressure: 34\n",
      "Engine: \n",
      " \tFuel type: Petrol\n",
      " \tNoise level: 2.3\n",
      "Body:\n",
      " \tSize: SUV\n"
     ]
    }
   ],
   "source": [
    "class Tyres:\n",
    "    def __init__(self,branch, belted_bias, opt_pressure):\n",
    "        self.branch = branch\n",
    "        self.belted_bias = belted_bias\n",
    "        self.opt_pressure = opt_pressure\n",
    "        \n",
    "    def __str__(self):  # __str__ can be used if you don't want to define a method name but you want\n",
    "        return (\"Tyres: \\n \\tBranch: \" + self.branch +\n",
    "               \"\\n \\tBelted_bias: \" + str(self.belted_bias) +\n",
    "               \"\\n \\tOptimal pressure: \"+ str(self.opt_pressure))\n",
    "    \n",
    "class Engine:    \n",
    "    def __init__(self, fuel_type, noise_level):\n",
    "        self.fuel_type = fuel_type\n",
    "        self.noise_level = noise_level\n",
    "        \n",
    "    def __str__(self):\n",
    "        return (\"Engine: \\n \\tFuel type: \"+ self.fuel_type +\n",
    "               \"\\n \\tNoise level: \"+ str(self.noise_level))\n",
    "\n",
    "class Body:    \n",
    "    def __init__(self,size):\n",
    "        self.size = size\n",
    "        \n",
    "    def __str__(self):\n",
    "        return (\"Body:\\n \\tSize: \" + self.size)\n",
    "    \n",
    "class Car:    \n",
    "    def __init__(self, tyres, engine, body):\n",
    "        self.tyres = tyres\n",
    "        self.engine = engine\n",
    "        self.body = body\n",
    "        \n",
    "    def __str__(self):\n",
    "        return str(self.tyres) + '\\n' + str(self.engine) + '\\n' + str(self.body)\n",
    "    \n",
    "t = Tyres(\"MRF\", True, 34)\n",
    "e = Engine(\"Petrol\",2.3)\n",
    "b = Body(\"SUV\")\n",
    "c = Car(t, e, b)\n",
    "print(c)"
   ]
  },
  {
   "cell_type": "code",
   "execution_count": 31,
   "id": "8e6dbffe",
   "metadata": {},
   "outputs": [
    {
     "name": "stdout",
     "output_type": "stream",
     "text": [
      "Body:\n",
      " \tSize: SUV\n"
     ]
    }
   ],
   "source": [
    "print(c.body)"
   ]
  },
  {
   "cell_type": "code",
   "execution_count": 32,
   "id": "537b5600",
   "metadata": {},
   "outputs": [
    {
     "name": "stdout",
     "output_type": "stream",
     "text": [
      "Engine: \n",
      " \tFuel type: Petrol\n",
      " \tNoise level: 2.3\n"
     ]
    }
   ],
   "source": [
    "print(c.engine)"
   ]
  },
  {
   "cell_type": "code",
   "execution_count": 33,
   "id": "e6a6512f",
   "metadata": {},
   "outputs": [
    {
     "name": "stdout",
     "output_type": "stream",
     "text": [
      "Tyres: \n",
      " \tBranch: MRF\n",
      " \tBelted_bias: True\n",
      " \tOptimal pressure: 34\n"
     ]
    }
   ],
   "source": [
    "print(c.tyres)"
   ]
  }
 ],
 "metadata": {
  "kernelspec": {
   "display_name": "Python 3 (ipykernel)",
   "language": "python",
   "name": "python3"
  },
  "language_info": {
   "codemirror_mode": {
    "name": "ipython",
    "version": 3
   },
   "file_extension": ".py",
   "mimetype": "text/x-python",
   "name": "python",
   "nbconvert_exporter": "python",
   "pygments_lexer": "ipython3",
   "version": "3.9.12"
  }
 },
 "nbformat": 4,
 "nbformat_minor": 5
}
