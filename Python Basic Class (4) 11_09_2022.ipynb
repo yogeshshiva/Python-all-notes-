{
 "cells": [
  {
   "cell_type": "markdown",
   "id": "614ff41c",
   "metadata": {},
   "source": [
    "# Python Loops"
   ]
  },
  {
   "cell_type": "markdown",
   "id": "d3dfb887",
   "metadata": {},
   "source": [
    "while loop"
   ]
  },
  {
   "cell_type": "code",
   "execution_count": 2,
   "id": "17eee27c",
   "metadata": {},
   "outputs": [
    {
     "name": "stdout",
     "output_type": "stream",
     "text": [
      "0\n",
      "1\n",
      "2\n"
     ]
    }
   ],
   "source": [
    "# 1) initialization\n",
    "i = 0\n",
    "\n",
    "# 2) Condition\n",
    "while(i<3):\n",
    "    print(i)\n",
    "    i = i + 1      # increment"
   ]
  },
  {
   "cell_type": "code",
   "execution_count": 3,
   "id": "5b961e0c",
   "metadata": {},
   "outputs": [
    {
     "data": {
      "text/plain": [
       "3"
      ]
     },
     "execution_count": 3,
     "metadata": {},
     "output_type": "execute_result"
    }
   ],
   "source": [
    "i"
   ]
  },
  {
   "cell_type": "code",
   "execution_count": 8,
   "id": "2ccf68fc",
   "metadata": {},
   "outputs": [
    {
     "name": "stdout",
     "output_type": "stream",
     "text": [
      "0\n",
      "1\n",
      "2\n",
      "3\n"
     ]
    }
   ],
   "source": [
    "i = 0\n",
    "while(i<=3):\n",
    "    print(i)\n",
    "    i = i + 1"
   ]
  },
  {
   "cell_type": "code",
   "execution_count": 9,
   "id": "e31c092e",
   "metadata": {},
   "outputs": [
    {
     "data": {
      "text/plain": [
       "4"
      ]
     },
     "execution_count": 9,
     "metadata": {},
     "output_type": "execute_result"
    }
   ],
   "source": [
    "i"
   ]
  },
  {
   "cell_type": "code",
   "execution_count": 10,
   "id": "e68f86a1",
   "metadata": {},
   "outputs": [
    {
     "name": "stdout",
     "output_type": "stream",
     "text": [
      "0\n",
      "1\n",
      "2\n",
      "3\n",
      "4\n"
     ]
    }
   ],
   "source": [
    "i = 0\n",
    "while(i<5):\n",
    "    print(i)\n",
    "    i = i + 1"
   ]
  },
  {
   "cell_type": "code",
   "execution_count": 11,
   "id": "12e1f1f5",
   "metadata": {},
   "outputs": [
    {
     "name": "stdout",
     "output_type": "stream",
     "text": [
      "0\n",
      "1\n",
      "2\n",
      "3\n",
      "4\n",
      "5\n",
      "6\n",
      "7\n"
     ]
    }
   ],
   "source": [
    "i = 0\n",
    "while(i<8):\n",
    "    print(i)\n",
    "    i = i + 1"
   ]
  },
  {
   "cell_type": "code",
   "execution_count": 12,
   "id": "a5695312",
   "metadata": {},
   "outputs": [
    {
     "name": "stdout",
     "output_type": "stream",
     "text": [
      "1\n",
      "2\n",
      "3\n",
      "4\n"
     ]
    }
   ],
   "source": [
    "i = 1\n",
    "while(i<5):\n",
    "    print(i)\n",
    "    i = i + 1"
   ]
  },
  {
   "cell_type": "code",
   "execution_count": 13,
   "id": "bba7122f",
   "metadata": {},
   "outputs": [
    {
     "name": "stdout",
     "output_type": "stream",
     "text": [
      "0\n",
      "1\n",
      "2\n",
      "3\n",
      "4\n",
      "5\n",
      "6\n",
      "7\n",
      "8\n",
      "9\n"
     ]
    }
   ],
   "source": [
    "k = 0\n",
    "while(k<10):\n",
    "    print(k)\n",
    "    k = k + 1"
   ]
  },
  {
   "cell_type": "code",
   "execution_count": 16,
   "id": "328987de",
   "metadata": {},
   "outputs": [
    {
     "name": "stdout",
     "output_type": "stream",
     "text": [
      "2\n",
      "4\n",
      "6\n",
      "8\n",
      "10\n",
      "12\n",
      "14\n",
      "16\n",
      "18\n",
      "20\n"
     ]
    }
   ],
   "source": [
    "i = 2\n",
    "while(i < 21):\n",
    "    print(i)\n",
    "    i = i + 2"
   ]
  },
  {
   "cell_type": "code",
   "execution_count": 17,
   "id": "eac6fd21",
   "metadata": {},
   "outputs": [
    {
     "name": "stdout",
     "output_type": "stream",
     "text": [
      "1\n",
      "3\n",
      "5\n",
      "7\n",
      "9\n",
      "11\n",
      "13\n",
      "15\n",
      "17\n",
      "19\n"
     ]
    }
   ],
   "source": [
    "m = 1\n",
    "while(m < 21):\n",
    "    print(m)\n",
    "    m = m + 2"
   ]
  },
  {
   "cell_type": "code",
   "execution_count": 18,
   "id": "ebf35b17",
   "metadata": {},
   "outputs": [
    {
     "name": "stdout",
     "output_type": "stream",
     "text": [
      "0\n",
      "5\n",
      "10\n",
      "15\n",
      "20\n",
      "25\n",
      "30\n",
      "35\n",
      "40\n",
      "45\n"
     ]
    }
   ],
   "source": [
    "p = 0\n",
    "while(p<50):\n",
    "    print(p)\n",
    "    p = p + 5"
   ]
  },
  {
   "cell_type": "code",
   "execution_count": 19,
   "id": "56e077e2",
   "metadata": {},
   "outputs": [
    {
     "name": "stdout",
     "output_type": "stream",
     "text": [
      "0\n",
      "1\n",
      "2\n",
      "3\n",
      "4\n",
      "5\n"
     ]
    }
   ],
   "source": [
    "h = 0\n",
    "while(h<=5):\n",
    "    print(h)\n",
    "    h = h + 1"
   ]
  },
  {
   "cell_type": "code",
   "execution_count": 21,
   "id": "7a89eb1a",
   "metadata": {},
   "outputs": [
    {
     "name": "stdout",
     "output_type": "stream",
     "text": [
      "k = 0\n",
      "k = 1\n",
      "k = 2\n",
      "k = 3\n",
      "k = 4\n"
     ]
    }
   ],
   "source": [
    "k = 0\n",
    "while(k < 5):\n",
    "    print(\"k =\", k)\n",
    "    k = k + 1"
   ]
  },
  {
   "cell_type": "code",
   "execution_count": 22,
   "id": "7dda5bac",
   "metadata": {},
   "outputs": [
    {
     "name": "stdout",
     "output_type": "stream",
     "text": [
      "The value of j is = 2\n",
      "The value of j is = 3\n",
      "The value of j is = 4\n",
      "The value of j is = 5\n",
      "The value of j is = 6\n",
      "The value of j is = 7\n"
     ]
    }
   ],
   "source": [
    "j = 2\n",
    "while(j <= 7):\n",
    "    print(\"The value of j is =\", j)\n",
    "    j = j +1"
   ]
  },
  {
   "cell_type": "code",
   "execution_count": 23,
   "id": "28f6c8e6",
   "metadata": {},
   "outputs": [
    {
     "name": "stdout",
     "output_type": "stream",
     "text": [
      "a = 0\n",
      "End\n",
      "a = 1\n",
      "End\n",
      "a = 2\n",
      "End\n",
      "a = 3\n",
      "End\n",
      "a = 4\n",
      "End\n",
      "a = 5\n",
      "End\n"
     ]
    }
   ],
   "source": [
    "a = 0\n",
    "while(a <= 5):\n",
    "    print(\"a =\", a)\n",
    "    print(\"End\")\n",
    "    a = a + 1"
   ]
  },
  {
   "cell_type": "code",
   "execution_count": 28,
   "id": "f4886d85",
   "metadata": {},
   "outputs": [
    {
     "name": "stdout",
     "output_type": "stream",
     "text": [
      "k = 0\n",
      "Inside\n",
      "k = 1\n",
      "Inside\n",
      "k = 2\n",
      "Inside\n",
      "k = 3\n",
      "Inside\n",
      "k = 4\n",
      "Inside\n",
      "Outside the Loop\n"
     ]
    }
   ],
   "source": [
    "k = 0\n",
    "while(k<5):\n",
    "    print(\"k =\", k)\n",
    "    print(\"Inside\")\n",
    "    k = k + 1\n",
    "print(\"Outside the Loop\")"
   ]
  },
  {
   "cell_type": "code",
   "execution_count": 34,
   "id": "ad77781c",
   "metadata": {},
   "outputs": [
    {
     "name": "stdout",
     "output_type": "stream",
     "text": [
      "2\n",
      "4\n",
      "6\n",
      "8\n",
      "10\n",
      "12\n",
      "14\n",
      "16\n",
      "18\n",
      "20\n"
     ]
    }
   ],
   "source": [
    "s = 1\n",
    "while(s  <= 10):\n",
    "    print(2 * s)\n",
    "    s = s + 1"
   ]
  },
  {
   "cell_type": "code",
   "execution_count": 33,
   "id": "7078aba9",
   "metadata": {},
   "outputs": [
    {
     "name": "stdout",
     "output_type": "stream",
     "text": [
      "5\n",
      "10\n",
      "15\n",
      "20\n",
      "25\n",
      "30\n",
      "35\n",
      "40\n",
      "45\n",
      "50\n"
     ]
    }
   ],
   "source": [
    "i = 1\n",
    "while(i <= 10):\n",
    "    print(5 * i)\n",
    "    i = i + 1"
   ]
  },
  {
   "cell_type": "code",
   "execution_count": 35,
   "id": "22d295a9",
   "metadata": {},
   "outputs": [
    {
     "name": "stdout",
     "output_type": "stream",
     "text": [
      "2 *  0 = 0\n",
      "2 *  1 = 2\n",
      "2 *  2 = 4\n",
      "2 *  3 = 6\n",
      "2 *  4 = 8\n",
      "2 *  5 = 10\n",
      "2 *  6 = 12\n",
      "2 *  7 = 14\n",
      "2 *  8 = 16\n",
      "2 *  9 = 18\n",
      "2 *  10 = 20\n"
     ]
    }
   ],
   "source": [
    "i = 0\n",
    "while(i <= 10):\n",
    "    print(\"2 * \",i, \"=\", 2 * i )\n",
    "    i = i +1"
   ]
  },
  {
   "cell_type": "code",
   "execution_count": 36,
   "id": "a2cfa0de",
   "metadata": {},
   "outputs": [
    {
     "name": "stdout",
     "output_type": "stream",
     "text": [
      "7 *  0 = 0\n",
      "7 *  1 = 7\n",
      "7 *  2 = 14\n",
      "7 *  3 = 21\n",
      "7 *  4 = 28\n",
      "7 *  5 = 35\n",
      "7 *  6 = 42\n",
      "7 *  7 = 49\n",
      "7 *  8 = 56\n",
      "7 *  9 = 63\n",
      "7 *  10 = 70\n"
     ]
    }
   ],
   "source": [
    "i = 0\n",
    "while(i <= 10):\n",
    "    print(\"7 * \",i, \"=\", 7 * i )\n",
    "    i = i +1"
   ]
  },
  {
   "cell_type": "code",
   "execution_count": 7,
   "id": "6fb81d46",
   "metadata": {},
   "outputs": [
    {
     "name": "stdout",
     "output_type": "stream",
     "text": [
      "Enter any number for table to be generated\n",
      "5\n",
      "The Table of 5 is\n",
      "5\n",
      "10\n",
      "15\n",
      "20\n",
      "25\n",
      "30\n",
      "35\n",
      "40\n",
      "45\n",
      "50\n"
     ]
    }
   ],
   "source": [
    "k = int(input(\"Enter any number for table to be generated\\n\"))\n",
    "print(\"The Table of\",k,\"is\")\n",
    "\n",
    "i = 1\n",
    "while(i <= 10):\n",
    "    print(k * i)\n",
    "    i = i + 1"
   ]
  },
  {
   "cell_type": "code",
   "execution_count": 6,
   "id": "ffb89065",
   "metadata": {},
   "outputs": [
    {
     "name": "stdout",
     "output_type": "stream",
     "text": [
      "Enter any number for table to be generated\n",
      "7\n",
      "The Table of 7 is\n",
      "7  *  1  =  7\n",
      "7  *  2  =  14\n",
      "7  *  3  =  21\n",
      "7  *  4  =  28\n",
      "7  *  5  =  35\n",
      "7  *  6  =  42\n",
      "7  *  7  =  49\n",
      "7  *  8  =  56\n",
      "7  *  9  =  63\n",
      "7  *  10  =  70\n"
     ]
    }
   ],
   "source": [
    "k = int(input(\"Enter any number for table to be generated\\n\"))\n",
    "print(\"The Table of\",k,\"is\")\n",
    "\n",
    "i = 1\n",
    "while(i <= 10):\n",
    "    print(k,\" * \",i,\" = \", k * i)\n",
    "    i = i + 1"
   ]
  }
 ],
 "metadata": {
  "kernelspec": {
   "display_name": "Python 3 (ipykernel)",
   "language": "python",
   "name": "python3"
  },
  "language_info": {
   "codemirror_mode": {
    "name": "ipython",
    "version": 3
   },
   "file_extension": ".py",
   "mimetype": "text/x-python",
   "name": "python",
   "nbconvert_exporter": "python",
   "pygments_lexer": "ipython3",
   "version": "3.9.12"
  }
 },
 "nbformat": 4,
 "nbformat_minor": 5
}
