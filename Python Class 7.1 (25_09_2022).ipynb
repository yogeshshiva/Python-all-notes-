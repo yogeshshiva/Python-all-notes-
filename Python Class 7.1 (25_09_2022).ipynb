{
 "cells": [
  {
   "cell_type": "markdown",
   "id": "059e8043",
   "metadata": {},
   "source": [
    "# global variable  Lambda function"
   ]
  },
  {
   "cell_type": "code",
   "execution_count": 1,
   "id": "39dfc9ee",
   "metadata": {},
   "outputs": [],
   "source": [
    "x = 100"
   ]
  },
  {
   "cell_type": "code",
   "execution_count": 2,
   "id": "d7092e78",
   "metadata": {},
   "outputs": [
    {
     "data": {
      "text/plain": [
       "100"
      ]
     },
     "execution_count": 2,
     "metadata": {},
     "output_type": "execute_result"
    }
   ],
   "source": [
    "x "
   ]
  },
  {
   "cell_type": "code",
   "execution_count": 10,
   "id": "33997619",
   "metadata": {},
   "outputs": [
    {
     "name": "stdout",
     "output_type": "stream",
     "text": [
      "a= 50\n"
     ]
    }
   ],
   "source": [
    "def f1():\n",
    "    a = 50    # local variable\n",
    "    print(\"a=\",a)\n",
    "f1()"
   ]
  },
  {
   "cell_type": "code",
   "execution_count": 11,
   "id": "3f1733af",
   "metadata": {},
   "outputs": [
    {
     "name": "stdout",
     "output_type": "stream",
     "text": [
      "c= 20\n"
     ]
    }
   ],
   "source": [
    "def addfunc():\n",
    "    a = 10\n",
    "    b = 10\n",
    "    c = a+b\n",
    "    print(\"c=\",c)\n",
    "addfunc()"
   ]
  },
  {
   "cell_type": "code",
   "execution_count": 12,
   "id": "3a9a898f",
   "metadata": {},
   "outputs": [
    {
     "data": {
      "text/plain": [
       "20"
      ]
     },
     "execution_count": 12,
     "metadata": {},
     "output_type": "execute_result"
    }
   ],
   "source": [
    "def addfunc():\n",
    "    a = 10\n",
    "    b = 10\n",
    "    c = a+b\n",
    "    return c\n",
    "addfunc()"
   ]
  },
  {
   "cell_type": "code",
   "execution_count": 13,
   "id": "e2309b28",
   "metadata": {},
   "outputs": [],
   "source": [
    "retvalue = addfunc()"
   ]
  },
  {
   "cell_type": "code",
   "execution_count": 14,
   "id": "26bbf58a",
   "metadata": {},
   "outputs": [
    {
     "data": {
      "text/plain": [
       "20"
      ]
     },
     "execution_count": 14,
     "metadata": {},
     "output_type": "execute_result"
    }
   ],
   "source": [
    "retvalue"
   ]
  },
  {
   "cell_type": "code",
   "execution_count": 15,
   "id": "02b29871",
   "metadata": {},
   "outputs": [
    {
     "data": {
      "text/plain": [
       "400"
      ]
     },
     "execution_count": 15,
     "metadata": {},
     "output_type": "execute_result"
    }
   ],
   "source": [
    "retvalue**2"
   ]
  },
  {
   "cell_type": "code",
   "execution_count": 24,
   "id": "62ce32ae",
   "metadata": {},
   "outputs": [
    {
     "name": "stdout",
     "output_type": "stream",
     "text": [
      "20\n"
     ]
    }
   ],
   "source": [
    "def addfunc1():\n",
    "    a = 10\n",
    "    b = 10\n",
    "    c = a+b\n",
    "    print(c)\n",
    "addfunc()"
   ]
  },
  {
   "cell_type": "code",
   "execution_count": 35,
   "id": "65056a7d",
   "metadata": {},
   "outputs": [
    {
     "name": "stdout",
     "output_type": "stream",
     "text": [
      "20\n"
     ]
    }
   ],
   "source": [
    "retvalue = addfunc1()   # this is also difference of return and print"
   ]
  },
  {
   "cell_type": "code",
   "execution_count": 36,
   "id": "357c7915",
   "metadata": {},
   "outputs": [],
   "source": [
    "retvalue"
   ]
  },
  {
   "cell_type": "code",
   "execution_count": 37,
   "id": "64b105e8",
   "metadata": {},
   "outputs": [
    {
     "ename": "TypeError",
     "evalue": "unsupported operand type(s) for ** or pow(): 'NoneType' and 'int'",
     "output_type": "error",
     "traceback": [
      "\u001b[1;31m---------------------------------------------------------------------------\u001b[0m",
      "\u001b[1;31mTypeError\u001b[0m                                 Traceback (most recent call last)",
      "Input \u001b[1;32mIn [37]\u001b[0m, in \u001b[0;36m<cell line: 1>\u001b[1;34m()\u001b[0m\n\u001b[1;32m----> 1\u001b[0m \u001b[43mretvalue\u001b[49m\u001b[38;5;241;43m*\u001b[39;49m\u001b[38;5;241;43m*\u001b[39;49m\u001b[38;5;241;43m2\u001b[39;49m\n",
      "\u001b[1;31mTypeError\u001b[0m: unsupported operand type(s) for ** or pow(): 'NoneType' and 'int'"
     ]
    }
   ],
   "source": [
    "retvalue**2"
   ]
  },
  {
   "cell_type": "code",
   "execution_count": 39,
   "id": "4ba524f7",
   "metadata": {},
   "outputs": [
    {
     "name": "stdout",
     "output_type": "stream",
     "text": [
      "0\n",
      "1\n",
      "2\n",
      "3\n",
      "4\n",
      "5\n",
      "6\n",
      "7\n",
      "8\n",
      "9\n"
     ]
    }
   ],
   "source": [
    "def testf():\n",
    "    for i in range(10):\n",
    "        print(i)\n",
    "testf()"
   ]
  },
  {
   "cell_type": "code",
   "execution_count": 41,
   "id": "dd666b05",
   "metadata": {},
   "outputs": [
    {
     "name": "stdout",
     "output_type": "stream",
     "text": [
      "0\n",
      "1\n",
      "2\n"
     ]
    }
   ],
   "source": [
    "def testf1():       # return are used inside the function\n",
    "    for i in range(10):\n",
    "        if i==3:\n",
    "            return\n",
    "        print(i)\n",
    "testf1()"
   ]
  },
  {
   "cell_type": "code",
   "execution_count": 43,
   "id": "d8df9d8e",
   "metadata": {},
   "outputs": [
    {
     "name": "stdout",
     "output_type": "stream",
     "text": [
      "0\n",
      "1\n",
      "2\n"
     ]
    }
   ],
   "source": [
    "def testf3():        # this is also work \n",
    "    for i in range(10):\n",
    "        if i==3:\n",
    "            break\n",
    "        print(i)\n",
    "testf3()"
   ]
  },
  {
   "cell_type": "code",
   "execution_count": 44,
   "id": "c7705421",
   "metadata": {},
   "outputs": [
    {
     "name": "stdout",
     "output_type": "stream",
     "text": [
      "13\n"
     ]
    }
   ],
   "source": [
    "def addf(a,b):\n",
    "    c = a+b\n",
    "    print(c)\n",
    "addf(4,9)"
   ]
  },
  {
   "cell_type": "code",
   "execution_count": 45,
   "id": "b683ed1d",
   "metadata": {},
   "outputs": [
    {
     "name": "stdout",
     "output_type": "stream",
     "text": [
      "6\n"
     ]
    }
   ],
   "source": [
    "def addf(a,b,c):\n",
    "    d = a+b+c\n",
    "    print(d)\n",
    "addf(1,2,3)"
   ]
  },
  {
   "cell_type": "code",
   "execution_count": 46,
   "id": "2c192d62",
   "metadata": {},
   "outputs": [
    {
     "name": "stdout",
     "output_type": "stream",
     "text": [
      "19\n"
     ]
    }
   ],
   "source": [
    "def addf(a,b,c,d):\n",
    "    e = a+b+c+d\n",
    "    print(e)\n",
    "addf(10,4,3,2)"
   ]
  },
  {
   "cell_type": "markdown",
   "id": "757e63c8",
   "metadata": {},
   "source": [
    "Variable number of arguments"
   ]
  },
  {
   "cell_type": "code",
   "execution_count": 53,
   "id": "fbe9c430",
   "metadata": {},
   "outputs": [
    {
     "data": {
      "text/plain": [
       "15"
      ]
     },
     "execution_count": 53,
     "metadata": {},
     "output_type": "execute_result"
    }
   ],
   "source": [
    "def testf_add(*var):\n",
    "    return sum(var)\n",
    "testf_add(10,5)"
   ]
  },
  {
   "cell_type": "code",
   "execution_count": 54,
   "id": "c5dd87ca",
   "metadata": {},
   "outputs": [
    {
     "data": {
      "text/plain": [
       "30"
      ]
     },
     "execution_count": 54,
     "metadata": {},
     "output_type": "execute_result"
    }
   ],
   "source": [
    "testf_add(5,15,10)"
   ]
  },
  {
   "cell_type": "code",
   "execution_count": 55,
   "id": "85136b68",
   "metadata": {},
   "outputs": [
    {
     "data": {
      "text/plain": [
       "100"
      ]
     },
     "execution_count": 55,
     "metadata": {},
     "output_type": "execute_result"
    }
   ],
   "source": [
    "testf_add(6,14,10,20,50)"
   ]
  },
  {
   "cell_type": "code",
   "execution_count": 58,
   "id": "0d554b1c",
   "metadata": {},
   "outputs": [
    {
     "data": {
      "text/plain": [
       "214"
      ]
     },
     "execution_count": 58,
     "metadata": {},
     "output_type": "execute_result"
    }
   ],
   "source": [
    "def testf_add1(*yogesh):\n",
    "    return sum(yogesh)\n",
    "testf_add1(125,65,24)"
   ]
  },
  {
   "cell_type": "code",
   "execution_count": 60,
   "id": "c2af8e10",
   "metadata": {},
   "outputs": [
    {
     "data": {
      "text/plain": [
       "475"
      ]
     },
     "execution_count": 60,
     "metadata": {},
     "output_type": "execute_result"
    }
   ],
   "source": [
    "def yogesh(*var):\n",
    "    return sum(var)\n",
    "yogesh(105,350,20)"
   ]
  },
  {
   "cell_type": "code",
   "execution_count": 63,
   "id": "73f08d68",
   "metadata": {},
   "outputs": [
    {
     "data": {
      "text/plain": [
       "15"
      ]
     },
     "execution_count": 63,
     "metadata": {},
     "output_type": "execute_result"
    }
   ],
   "source": [
    "def minimum_function(*variable):\n",
    "    return min(variable)\n",
    "minimum_function(100,40,68,15,34,80)"
   ]
  },
  {
   "cell_type": "code",
   "execution_count": 69,
   "id": "96fc85c2",
   "metadata": {},
   "outputs": [
    {
     "data": {
      "text/plain": [
       "100"
      ]
     },
     "execution_count": 69,
     "metadata": {},
     "output_type": "execute_result"
    }
   ],
   "source": [
    "def maximum_function(*raju):\n",
    "    return max(raju)\n",
    "maximum_function(100,40,68,15,34,80)"
   ]
  },
  {
   "cell_type": "code",
   "execution_count": 71,
   "id": "8d4449f7",
   "metadata": {},
   "outputs": [
    {
     "data": {
      "text/plain": [
       "652"
      ]
     },
     "execution_count": 71,
     "metadata": {},
     "output_type": "execute_result"
    }
   ],
   "source": [
    "def minimum_function(*variable):\n",
    "    return max(variable)\n",
    "minimum_function(100,40,68,652,15,34,80)"
   ]
  },
  {
   "cell_type": "code",
   "execution_count": 2,
   "id": "3403e929",
   "metadata": {},
   "outputs": [
    {
     "data": {
      "text/plain": [
       "13"
      ]
     },
     "execution_count": 2,
     "metadata": {},
     "output_type": "execute_result"
    }
   ],
   "source": [
    "# s = s+n   fir s+=n\n",
    "\n",
    "def sumfunc(*numbers):\n",
    "    s = 10\n",
    "    for n in numbers:\n",
    "        s+=n\n",
    "    return s\n",
    "sumfunc(1,2)"
   ]
  },
  {
   "cell_type": "code",
   "execution_count": 76,
   "id": "80a8f40e",
   "metadata": {},
   "outputs": [
    {
     "data": {
      "text/plain": [
       "6"
      ]
     },
     "execution_count": 76,
     "metadata": {},
     "output_type": "execute_result"
    }
   ],
   "source": [
    "sumfunc(1,2,3)"
   ]
  },
  {
   "cell_type": "code",
   "execution_count": 77,
   "id": "246a13de",
   "metadata": {},
   "outputs": [
    {
     "data": {
      "text/plain": [
       "10"
      ]
     },
     "execution_count": 77,
     "metadata": {},
     "output_type": "execute_result"
    }
   ],
   "source": [
    "sumfunc(1,2,3,4)"
   ]
  },
  {
   "cell_type": "markdown",
   "id": "0b77f51e",
   "metadata": {},
   "source": [
    "# Lambda Function"
   ]
  },
  {
   "cell_type": "markdown",
   "id": "3d55f8c4",
   "metadata": {},
   "source": [
    "referencevariable = lambda var:expression "
   ]
  },
  {
   "cell_type": "code",
   "execution_count": 78,
   "id": "34f1f608",
   "metadata": {},
   "outputs": [
    {
     "data": {
      "text/plain": [
       "7"
      ]
     },
     "execution_count": 78,
     "metadata": {},
     "output_type": "execute_result"
    }
   ],
   "source": [
    "t = lambda var:var+2\n",
    "t(5)"
   ]
  },
  {
   "cell_type": "code",
   "execution_count": 79,
   "id": "0fabe5e4",
   "metadata": {},
   "outputs": [
    {
     "data": {
      "text/plain": [
       "12"
      ]
     },
     "execution_count": 79,
     "metadata": {},
     "output_type": "execute_result"
    }
   ],
   "source": [
    "t(10)"
   ]
  },
  {
   "cell_type": "code",
   "execution_count": 80,
   "id": "f0897883",
   "metadata": {},
   "outputs": [
    {
     "data": {
      "text/plain": [
       "12"
      ]
     },
     "execution_count": 80,
     "metadata": {},
     "output_type": "execute_result"
    }
   ],
   "source": [
    "g = lambda var:var+4\n",
    "g(8)"
   ]
  },
  {
   "cell_type": "code",
   "execution_count": 81,
   "id": "604acceb",
   "metadata": {},
   "outputs": [
    {
     "data": {
      "text/plain": [
       "24"
      ]
     },
     "execution_count": 81,
     "metadata": {},
     "output_type": "execute_result"
    }
   ],
   "source": [
    "g(20)"
   ]
  },
  {
   "cell_type": "code",
   "execution_count": 82,
   "id": "16f79051",
   "metadata": {},
   "outputs": [
    {
     "data": {
      "text/plain": [
       "94"
      ]
     },
     "execution_count": 82,
     "metadata": {},
     "output_type": "execute_result"
    }
   ],
   "source": [
    "g(90)"
   ]
  },
  {
   "cell_type": "code",
   "execution_count": 84,
   "id": "6eefcb55",
   "metadata": {},
   "outputs": [
    {
     "data": {
      "text/plain": [
       "15"
      ]
     },
     "execution_count": 84,
     "metadata": {},
     "output_type": "execute_result"
    }
   ],
   "source": [
    "p = lambda x:x*3\n",
    "p(5)"
   ]
  },
  {
   "cell_type": "code",
   "execution_count": 85,
   "id": "f96e76d0",
   "metadata": {},
   "outputs": [
    {
     "data": {
      "text/plain": [
       "24"
      ]
     },
     "execution_count": 85,
     "metadata": {},
     "output_type": "execute_result"
    }
   ],
   "source": [
    "p(8)"
   ]
  },
  {
   "cell_type": "code",
   "execution_count": 87,
   "id": "cce4bdd2",
   "metadata": {},
   "outputs": [
    {
     "data": {
      "text/plain": [
       "30"
      ]
     },
     "execution_count": 87,
     "metadata": {},
     "output_type": "execute_result"
    }
   ],
   "source": [
    "m = lambda a,b:a+b\n",
    "m(10,20)"
   ]
  },
  {
   "cell_type": "code",
   "execution_count": 88,
   "id": "41a9cb5c",
   "metadata": {},
   "outputs": [
    {
     "data": {
      "text/plain": [
       "100"
      ]
     },
     "execution_count": 88,
     "metadata": {},
     "output_type": "execute_result"
    }
   ],
   "source": [
    "m(50,50)"
   ]
  },
  {
   "cell_type": "code",
   "execution_count": 89,
   "id": "0b5d244e",
   "metadata": {},
   "outputs": [
    {
     "data": {
      "text/plain": [
       "60"
      ]
     },
     "execution_count": 89,
     "metadata": {},
     "output_type": "execute_result"
    }
   ],
   "source": [
    "k = lambda x,y,z:x+y+z\n",
    "k(10,20,30)"
   ]
  },
  {
   "cell_type": "code",
   "execution_count": 90,
   "id": "de40b221",
   "metadata": {},
   "outputs": [
    {
     "data": {
      "text/plain": [
       "16"
      ]
     },
     "execution_count": 90,
     "metadata": {},
     "output_type": "execute_result"
    }
   ],
   "source": [
    "square = lambda x:x**2\n",
    "square(4)"
   ]
  },
  {
   "cell_type": "code",
   "execution_count": 2,
   "id": "6479313d",
   "metadata": {},
   "outputs": [
    {
     "data": {
      "text/plain": [
       "2.23606797749979"
      ]
     },
     "execution_count": 2,
     "metadata": {},
     "output_type": "execute_result"
    }
   ],
   "source": [
    "# Find squareroot\n",
    "sqroot = lambda x:x**(1/2)\n",
    "sqroot(5)"
   ]
  },
  {
   "cell_type": "code",
   "execution_count": 1,
   "id": "64e283ba",
   "metadata": {},
   "outputs": [
    {
     "data": {
      "text/plain": [
       "3.0"
      ]
     },
     "execution_count": 1,
     "metadata": {},
     "output_type": "execute_result"
    }
   ],
   "source": [
    "# find cuberoot\n",
    "cbroot = lambda x:x**(1/3)\n",
    "cbroot(27)"
   ]
  },
  {
   "cell_type": "code",
   "execution_count": 91,
   "id": "7be258dc",
   "metadata": {},
   "outputs": [
    {
     "data": {
      "text/plain": [
       "64"
      ]
     },
     "execution_count": 91,
     "metadata": {},
     "output_type": "execute_result"
    }
   ],
   "source": [
    "square(8)"
   ]
  },
  {
   "cell_type": "code",
   "execution_count": 92,
   "id": "d2b33c18",
   "metadata": {},
   "outputs": [
    {
     "data": {
      "text/plain": [
       "256"
      ]
     },
     "execution_count": 92,
     "metadata": {},
     "output_type": "execute_result"
    }
   ],
   "source": [
    "square(16)"
   ]
  },
  {
   "cell_type": "code",
   "execution_count": 93,
   "id": "5e549028",
   "metadata": {},
   "outputs": [
    {
     "data": {
      "text/plain": [
       "125"
      ]
     },
     "execution_count": 93,
     "metadata": {},
     "output_type": "execute_result"
    }
   ],
   "source": [
    "cube = lambda x:x**3\n",
    "cube(5)"
   ]
  },
  {
   "cell_type": "code",
   "execution_count": 94,
   "id": "bd419bad",
   "metadata": {},
   "outputs": [
    {
     "data": {
      "text/plain": [
       "27"
      ]
     },
     "execution_count": 94,
     "metadata": {},
     "output_type": "execute_result"
    }
   ],
   "source": [
    "cube(3)"
   ]
  },
  {
   "cell_type": "code",
   "execution_count": 95,
   "id": "604040d2",
   "metadata": {},
   "outputs": [
    {
     "data": {
      "text/plain": [
       "80"
      ]
     },
     "execution_count": 95,
     "metadata": {},
     "output_type": "execute_result"
    }
   ],
   "source": [
    "area = lambda length,breadth:length*breadth\n",
    "area(20,4)"
   ]
  },
  {
   "cell_type": "code",
   "execution_count": 97,
   "id": "fdc1be60",
   "metadata": {},
   "outputs": [
    {
     "data": {
      "text/plain": [
       "113.04"
      ]
     },
     "execution_count": 97,
     "metadata": {},
     "output_type": "execute_result"
    }
   ],
   "source": [
    "areacircle = lambda pi,radius:pi*(radius**2)\n",
    "areacircle(3.14,6)"
   ]
  },
  {
   "cell_type": "code",
   "execution_count": 8,
   "id": "c89d7c6c",
   "metadata": {},
   "outputs": [
    {
     "data": {
      "text/plain": [
       "41.0"
      ]
     },
     "execution_count": 8,
     "metadata": {},
     "output_type": "execute_result"
    }
   ],
   "source": [
    "# converting temperature in fahrenheit\n",
    "def fahrenheit(T):\n",
    "    return ((9/5)*T + 32)\n",
    "fahrenheit(5)"
   ]
  },
  {
   "cell_type": "code",
   "execution_count": 9,
   "id": "109abead",
   "metadata": {},
   "outputs": [
    {
     "data": {
      "text/plain": [
       "-13.88888888888889"
      ]
     },
     "execution_count": 9,
     "metadata": {},
     "output_type": "execute_result"
    }
   ],
   "source": [
    "fahreinheittemp=lambda temp:(5/9)*(temp-32)\n",
    "fahreinheittemp(7)"
   ]
  },
  {
   "cell_type": "code",
   "execution_count": 11,
   "id": "6c0c0dc3",
   "metadata": {},
   "outputs": [
    {
     "ename": "TypeError",
     "evalue": "testin() takes 0 positional arguments but 2 were given",
     "output_type": "error",
     "traceback": [
      "\u001b[1;31m---------------------------------------------------------------------------\u001b[0m",
      "\u001b[1;31mTypeError\u001b[0m                                 Traceback (most recent call last)",
      "Input \u001b[1;32mIn [11]\u001b[0m, in \u001b[0;36m<cell line: 6>\u001b[1;34m()\u001b[0m\n\u001b[0;32m      4\u001b[0m     c \u001b[38;5;241m=\u001b[39m \u001b[38;5;28;01mlambda\u001b[39;00m x,y:x\u001b[38;5;241m*\u001b[39m\u001b[38;5;241m*\u001b[39my\n\u001b[0;32m      5\u001b[0m     \u001b[38;5;28mprint\u001b[39m(t(x,y))\n\u001b[1;32m----> 6\u001b[0m \u001b[43mtestin\u001b[49m\u001b[43m(\u001b[49m\u001b[38;5;241;43m45\u001b[39;49m\u001b[43m,\u001b[49m\u001b[38;5;241;43m65\u001b[39;49m\u001b[43m)\u001b[49m\n",
      "\u001b[1;31mTypeError\u001b[0m: testin() takes 0 positional arguments but 2 were given"
     ]
    }
   ],
   "source": [
    "def testin():\n",
    "    x = int(input(\"Enter x\"))\n",
    "    y = int(input(\"Enter y\"))\n",
    "    c = lambda x,y:x**y\n",
    "    print(t(x,y))\n",
    "testin(45,65)"
   ]
  }
 ],
 "metadata": {
  "kernelspec": {
   "display_name": "Python 3 (ipykernel)",
   "language": "python",
   "name": "python3"
  },
  "language_info": {
   "codemirror_mode": {
    "name": "ipython",
    "version": 3
   },
   "file_extension": ".py",
   "mimetype": "text/x-python",
   "name": "python",
   "nbconvert_exporter": "python",
   "pygments_lexer": "ipython3",
   "version": "3.9.12"
  }
 },
 "nbformat": 4,
 "nbformat_minor": 5
}
