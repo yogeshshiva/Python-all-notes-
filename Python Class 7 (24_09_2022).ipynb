{
 "cells": [
  {
   "cell_type": "markdown",
   "id": "0904fc08",
   "metadata": {},
   "source": [
    "# Functions"
   ]
  },
  {
   "cell_type": "markdown",
   "id": "472fc8f5",
   "metadata": {},
   "source": [
    "Function is a group of related statements that performs a specific task"
   ]
  },
  {
   "cell_type": "markdown",
   "id": "7c7299e7",
   "metadata": {},
   "source": [
    "Functions help break our program into smaller and modular chunks. As our program grows larger and larger functions make it more organized and manageable."
   ]
  },
  {
   "cell_type": "markdown",
   "id": "f5a0273d",
   "metadata": {},
   "source": [
    "help()print()int()float()str()type()range()min()max()len()input()list()"
   ]
  },
  {
   "cell_type": "code",
   "execution_count": 1,
   "id": "bd8037d7",
   "metadata": {},
   "outputs": [
    {
     "name": "stdout",
     "output_type": "stream",
     "text": [
      "Help on built-in function len in module builtins:\n",
      "\n",
      "len(obj, /)\n",
      "    Return the number of items in a container.\n",
      "\n"
     ]
    }
   ],
   "source": [
    "help(len)"
   ]
  },
  {
   "cell_type": "code",
   "execution_count": 2,
   "id": "9ac3f7be",
   "metadata": {},
   "outputs": [
    {
     "name": "stdout",
     "output_type": "stream",
     "text": [
      "Help on built-in function min in module builtins:\n",
      "\n",
      "min(...)\n",
      "    min(iterable, *[, default=obj, key=func]) -> value\n",
      "    min(arg1, arg2, *args, *[, key=func]) -> value\n",
      "    \n",
      "    With a single iterable argument, return its smallest item. The\n",
      "    default keyword-only argument specifies an object to return if\n",
      "    the provided iterable is empty.\n",
      "    With two or more arguments, return the smallest argument.\n",
      "\n"
     ]
    }
   ],
   "source": [
    "help(min)"
   ]
  },
  {
   "cell_type": "code",
   "execution_count": 3,
   "id": "0abf61fe",
   "metadata": {},
   "outputs": [
    {
     "name": "stdout",
     "output_type": "stream",
     "text": [
      "Help on built-in function max in module builtins:\n",
      "\n",
      "max(...)\n",
      "    max(iterable, *[, default=obj, key=func]) -> value\n",
      "    max(arg1, arg2, *args, *[, key=func]) -> value\n",
      "    \n",
      "    With a single iterable argument, return its biggest item. The\n",
      "    default keyword-only argument specifies an object to return if\n",
      "    the provided iterable is empty.\n",
      "    With two or more arguments, return the largest argument.\n",
      "\n"
     ]
    }
   ],
   "source": [
    "help(max)"
   ]
  },
  {
   "cell_type": "code",
   "execution_count": 4,
   "id": "bf410023",
   "metadata": {},
   "outputs": [
    {
     "name": "stdout",
     "output_type": "stream",
     "text": [
      "Help on method raw_input in module ipykernel.kernelbase:\n",
      "\n",
      "raw_input(prompt='') method of ipykernel.ipkernel.IPythonKernel instance\n",
      "    Forward raw_input to frontends\n",
      "    \n",
      "    Raises\n",
      "    ------\n",
      "    StdinNotImplementedError if active frontend doesn't support stdin.\n",
      "\n"
     ]
    }
   ],
   "source": [
    "help(input)"
   ]
  },
  {
   "cell_type": "code",
   "execution_count": 5,
   "id": "bdb523fd",
   "metadata": {},
   "outputs": [
    {
     "data": {
      "text/plain": [
       "35"
      ]
     },
     "execution_count": 5,
     "metadata": {},
     "output_type": "execute_result"
    }
   ],
   "source": [
    "k = [54, 85, 65, 95, 35, 45, 77]\n",
    "min(k)"
   ]
  },
  {
   "cell_type": "code",
   "execution_count": 6,
   "id": "508db229",
   "metadata": {},
   "outputs": [
    {
     "data": {
      "text/plain": [
       "95"
      ]
     },
     "execution_count": 6,
     "metadata": {},
     "output_type": "execute_result"
    }
   ],
   "source": [
    "max(k)"
   ]
  },
  {
   "cell_type": "code",
   "execution_count": 7,
   "id": "98c588ec",
   "metadata": {},
   "outputs": [
    {
     "name": "stdout",
     "output_type": "stream",
     "text": [
      "hello\n"
     ]
    }
   ],
   "source": [
    "# function definition\n",
    "def function1():\n",
    "    print(\"hello\")\n",
    "#calling function\n",
    "function1()"
   ]
  },
  {
   "cell_type": "code",
   "execution_count": 9,
   "id": "3d70ce63",
   "metadata": {},
   "outputs": [
    {
     "name": "stdout",
     "output_type": "stream",
     "text": [
      "learning function\n"
     ]
    }
   ],
   "source": [
    "def function2():\n",
    "    print(\"learning function\")\n",
    "function2()"
   ]
  },
  {
   "cell_type": "code",
   "execution_count": 10,
   "id": "28b37956",
   "metadata": {},
   "outputs": [
    {
     "name": "stdout",
     "output_type": "stream",
     "text": [
      "Hello\n",
      "Learning Function\n"
     ]
    }
   ],
   "source": [
    "def function3():\n",
    "    print(\"Hello\")\n",
    "    print(\"Learning Function\")\n",
    "function3()"
   ]
  },
  {
   "cell_type": "code",
   "execution_count": 11,
   "id": "ef148ddd",
   "metadata": {},
   "outputs": [
    {
     "name": "stdout",
     "output_type": "stream",
     "text": [
      "Result= 15\n"
     ]
    }
   ],
   "source": [
    "def addfunction():\n",
    "    a = 10\n",
    "    b = 5\n",
    "    result = a+b\n",
    "    print(\"Result=\",result)\n",
    "addfunction()"
   ]
  },
  {
   "cell_type": "code",
   "execution_count": 13,
   "id": "276ba876",
   "metadata": {},
   "outputs": [
    {
     "name": "stdout",
     "output_type": "stream",
     "text": [
      "The value of c= 30\n"
     ]
    }
   ],
   "source": [
    "def subtract_function():\n",
    "    a = 40\n",
    "    b = 10\n",
    "    c = a - b\n",
    "    print(\"The value of c=\",c)\n",
    "subtract_function()"
   ]
  },
  {
   "cell_type": "code",
   "execution_count": 14,
   "id": "07d8cf9f",
   "metadata": {},
   "outputs": [
    {
     "name": "stdout",
     "output_type": "stream",
     "text": [
      "The value of z= 15\n"
     ]
    }
   ],
   "source": [
    "def multiply_func():\n",
    "    x = 5\n",
    "    y = 3\n",
    "    z = x*y\n",
    "    print(\"The value of z=\",z)\n",
    "multiply_func()"
   ]
  },
  {
   "cell_type": "code",
   "execution_count": 15,
   "id": "221fe352",
   "metadata": {},
   "outputs": [
    {
     "name": "stdout",
     "output_type": "stream",
     "text": [
      "Square of number  4 is 16\n",
      "Square of number  4 is 16\n"
     ]
    }
   ],
   "source": [
    "def square_function():\n",
    "    x = 4\n",
    "    y = x**2\n",
    "    print(\"Square of number \",x,\"is\",y)\n",
    "    print(\"Square of number \",x,\"is\",x**2)\n",
    "square_function()"
   ]
  },
  {
   "cell_type": "code",
   "execution_count": 20,
   "id": "5af6c898",
   "metadata": {},
   "outputs": [
    {
     "name": "stdout",
     "output_type": "stream",
     "text": [
      "Area of rectangle = 275\n",
      "Area of rectangle with length= 55 and breadth= 5  is = 275\n"
     ]
    }
   ],
   "source": [
    "def area_of_rectangle():\n",
    "    length = 55\n",
    "    breadth = 5\n",
    "    area = length * breadth\n",
    "    print(\"Area of rectangle =\",area)\n",
    "    print(\"Area of rectangle with length=\",length,\"and breadth=\",breadth,\" is =\",area)\n",
    "area_of_rectangle()"
   ]
  },
  {
   "cell_type": "code",
   "execution_count": 29,
   "id": "3119c605",
   "metadata": {},
   "outputs": [
    {
     "name": "stdout",
     "output_type": "stream",
     "text": [
      "Enter length65\n",
      "Enter breadth21\n",
      "Area of rectangle = 1365\n",
      "Area of rectangle with length = 65  and breadth = 21  is = 1365\n"
     ]
    }
   ],
   "source": [
    "def area_of_rectangle():\n",
    "    length = int(input(\"Enter length\"))\n",
    "    breadth = int(input(\"Enter breadth\"))\n",
    "    area = length*breadth\n",
    "    print(\"Area of rectangle =\",area)\n",
    "    print(\"Area of rectangle with length =\",length,\" and breadth =\",breadth,\" is =\",area)\n",
    "area_of_rectangle()"
   ]
  },
  {
   "cell_type": "code",
   "execution_count": 30,
   "id": "027aba83",
   "metadata": {},
   "outputs": [
    {
     "name": "stdout",
     "output_type": "stream",
     "text": [
      "The area of circle = 6358.5 with radius  45\n"
     ]
    }
   ],
   "source": [
    "def area_of_circle():\n",
    "    pi = 3.14\n",
    "    radius = 45\n",
    "    area = pi*(radius**2)\n",
    "    print(\"The area of circle =\",area,\"with radius \",radius)\n",
    "area_of_circle()"
   ]
  },
  {
   "cell_type": "code",
   "execution_count": 31,
   "id": "9fa145f5",
   "metadata": {},
   "outputs": [
    {
     "name": "stdout",
     "output_type": "stream",
     "text": [
      "Enter any radius value.34\n",
      "The area of circle = 3629.84 with radius 34\n"
     ]
    }
   ],
   "source": [
    "def area_of_circle():\n",
    "    pi = 3.14\n",
    "    radius = int(input(\"Enter any radius value.\"))\n",
    "    area = pi*(radius**2)\n",
    "    print(\"The area of circle =\",area,\"with radius\",radius)\n",
    "area_of_circle()"
   ]
  },
  {
   "cell_type": "code",
   "execution_count": 32,
   "id": "955e2208",
   "metadata": {},
   "outputs": [
    {
     "name": "stdout",
     "output_type": "stream",
     "text": [
      "Enter any number for which table to be generated.18\n",
      "18 * 1 = 18\n",
      "18 * 2 = 36\n",
      "18 * 3 = 54\n",
      "18 * 4 = 72\n",
      "18 * 5 = 90\n",
      "18 * 6 = 108\n",
      "18 * 7 = 126\n",
      "18 * 8 = 144\n",
      "18 * 9 = 162\n",
      "18 * 10 = 180\n"
     ]
    }
   ],
   "source": [
    "def table_function():\n",
    "    t = int(input(\"Enter any number for which table to be generated.\"))\n",
    "    for i in range(1,11):\n",
    "        print(t,\"*\",i,\"=\",t*i)\n",
    "table_function()"
   ]
  },
  {
   "cell_type": "markdown",
   "id": "dc875103",
   "metadata": {},
   "source": [
    "Parametric Functions"
   ]
  },
  {
   "cell_type": "code",
   "execution_count": 33,
   "id": "34a79ca4",
   "metadata": {},
   "outputs": [
    {
     "name": "stdout",
     "output_type": "stream",
     "text": [
      "c= 10\n"
     ]
    }
   ],
   "source": [
    "def addfunc(a,b):\n",
    "    c = a+b\n",
    "    print(\"c=\",c)\n",
    "addfunc(5,5)"
   ]
  },
  {
   "cell_type": "code",
   "execution_count": 36,
   "id": "de552f53",
   "metadata": {},
   "outputs": [
    {
     "name": "stdout",
     "output_type": "stream",
     "text": [
      "Subtract = 46\n"
     ]
    }
   ],
   "source": [
    "def subtract_f(a,b):\n",
    "    c = a-b\n",
    "    print(\"Subtract =\",c)\n",
    "subtract_f(50,4)"
   ]
  },
  {
   "cell_type": "code",
   "execution_count": 37,
   "id": "242b3421",
   "metadata": {},
   "outputs": [
    {
     "name": "stdout",
     "output_type": "stream",
     "text": [
      "Result = 12\n"
     ]
    }
   ],
   "source": [
    "def multiply_f(x,y):\n",
    "    result=x*y\n",
    "    print(\"Result =\",result)\n",
    "multiply_f(3,4)"
   ]
  },
  {
   "cell_type": "code",
   "execution_count": 38,
   "id": "c8466d14",
   "metadata": {},
   "outputs": [
    {
     "name": "stdout",
     "output_type": "stream",
     "text": [
      "Result = 12\n",
      "Result = 12\n"
     ]
    }
   ],
   "source": [
    "def multiply_f(x,y):\n",
    "    result=x*y\n",
    "    print(\"Result =\",result)\n",
    "    print(\"Result =\",x*y)\n",
    "multiply_f(3,4)"
   ]
  },
  {
   "cell_type": "code",
   "execution_count": 39,
   "id": "0c773017",
   "metadata": {},
   "outputs": [
    {
     "name": "stdout",
     "output_type": "stream",
     "text": [
      "Result = 45\n",
      "Result = 45\n"
     ]
    }
   ],
   "source": [
    "x = 9\n",
    "y = 5\n",
    "multiply_f(x,y)"
   ]
  },
  {
   "cell_type": "code",
   "execution_count": 43,
   "id": "1e773a2b",
   "metadata": {},
   "outputs": [
    {
     "name": "stdout",
     "output_type": "stream",
     "text": [
      "Area of rectangle = 200\n",
      "Area of rectangel with length = 20 and breadth = 10 is = 200\n"
     ]
    }
   ],
   "source": [
    "def area_of_rectangle(length,breadth):\n",
    "    area = length*breadth\n",
    "    print(\"Area of rectangle =\",area)\n",
    "    print(\"Area of rectangel with length =\",length,\"and breadth =\",breadth,\"is =\",area)\n",
    "area_of_rectangle(20,10)"
   ]
  },
  {
   "cell_type": "code",
   "execution_count": 45,
   "id": "6579a0f3",
   "metadata": {},
   "outputs": [
    {
     "name": "stdout",
     "output_type": "stream",
     "text": [
      "Enter Length.89\n",
      "Enter Breadth.4\n",
      "Area of rectangle = 356\n",
      "Area of rectangel with length = 89 and breadth = 4 is = 356\n"
     ]
    }
   ],
   "source": [
    "length = int(input(\"Enter Length.\"))\n",
    "breadth = int(input(\"Enter Breadth.\"))\n",
    "area_of_rectangle(length,breadth)"
   ]
  },
  {
   "cell_type": "code",
   "execution_count": 48,
   "id": "20a23a86",
   "metadata": {
    "scrolled": true
   },
   "outputs": [
    {
     "name": "stdout",
     "output_type": "stream",
     "text": [
      "The area of circle = 452.16 with radius  12\n"
     ]
    }
   ],
   "source": [
    "def area_of_circle1(pi,radius):\n",
    "    area=pi*(radius**2)\n",
    "    print(\"The area of circle =\",area,\"with radius \",radius)\n",
    "area_of_circle1(3.14,12)"
   ]
  },
  {
   "cell_type": "code",
   "execution_count": 57,
   "id": "842a6323",
   "metadata": {},
   "outputs": [
    {
     "name": "stdout",
     "output_type": "stream",
     "text": [
      "Result= 17\n"
     ]
    }
   ],
   "source": [
    "def addfunction(a,b,c):\n",
    "    result=a+b+c\n",
    "    print(\"Result=\",result)\n",
    "addfunction(5,10,2)"
   ]
  },
  {
   "cell_type": "code",
   "execution_count": 59,
   "id": "078a0d54",
   "metadata": {},
   "outputs": [
    {
     "data": {
      "text/plain": [
       "[2, 4, 6, 8, 10, 12, 14, 16, 18]"
      ]
     },
     "execution_count": 59,
     "metadata": {},
     "output_type": "execute_result"
    }
   ],
   "source": [
    "p = [m for m in range(1,20) if m%2==0]\n",
    "p"
   ]
  },
  {
   "cell_type": "code",
   "execution_count": 63,
   "id": "fe16ab87",
   "metadata": {},
   "outputs": [
    {
     "name": "stdout",
     "output_type": "stream",
     "text": [
      "Enter any radius value12\n",
      "The area of circle is = 452.16\n"
     ]
    }
   ],
   "source": [
    "pi = 3.14\n",
    "radius = int(input(\"Enter any radius value\"))\n",
    "area_of_circle = (pi*(radius**2))\n",
    "print(\"The area of circle is =\",area_of_circle)"
   ]
  }
 ],
 "metadata": {
  "kernelspec": {
   "display_name": "Python 3 (ipykernel)",
   "language": "python",
   "name": "python3"
  },
  "language_info": {
   "codemirror_mode": {
    "name": "ipython",
    "version": 3
   },
   "file_extension": ".py",
   "mimetype": "text/x-python",
   "name": "python",
   "nbconvert_exporter": "python",
   "pygments_lexer": "ipython3",
   "version": "3.9.12"
  }
 },
 "nbformat": 4,
 "nbformat_minor": 5
}
