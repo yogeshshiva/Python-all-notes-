{
 "cells": [
  {
   "cell_type": "markdown",
   "id": "bf36c55c",
   "metadata": {},
   "source": [
    "# MODULES"
   ]
  },
  {
   "cell_type": "code",
   "execution_count": 2,
   "id": "11779e60",
   "metadata": {},
   "outputs": [],
   "source": [
    "import keyword"
   ]
  },
  {
   "cell_type": "code",
   "execution_count": 3,
   "id": "5a76cea4",
   "metadata": {},
   "outputs": [
    {
     "data": {
      "text/plain": [
       "['False',\n",
       " 'None',\n",
       " 'True',\n",
       " '__peg_parser__',\n",
       " 'and',\n",
       " 'as',\n",
       " 'assert',\n",
       " 'async',\n",
       " 'await',\n",
       " 'break',\n",
       " 'class',\n",
       " 'continue',\n",
       " 'def',\n",
       " 'del',\n",
       " 'elif',\n",
       " 'else',\n",
       " 'except',\n",
       " 'finally',\n",
       " 'for',\n",
       " 'from',\n",
       " 'global',\n",
       " 'if',\n",
       " 'import',\n",
       " 'in',\n",
       " 'is',\n",
       " 'lambda',\n",
       " 'nonlocal',\n",
       " 'not',\n",
       " 'or',\n",
       " 'pass',\n",
       " 'raise',\n",
       " 'return',\n",
       " 'try',\n",
       " 'while',\n",
       " 'with',\n",
       " 'yield']"
      ]
     },
     "execution_count": 3,
     "metadata": {},
     "output_type": "execute_result"
    }
   ],
   "source": [
    "keyword.kwlist"
   ]
  },
  {
   "cell_type": "code",
   "execution_count": 4,
   "id": "5d1317a4",
   "metadata": {},
   "outputs": [],
   "source": [
    "import os            # os-operating system"
   ]
  },
  {
   "cell_type": "code",
   "execution_count": 5,
   "id": "172ac4be",
   "metadata": {},
   "outputs": [
    {
     "data": {
      "text/plain": [
       "'C:\\\\Users\\\\sharm\\\\Data Trained Classes'"
      ]
     },
     "execution_count": 5,
     "metadata": {},
     "output_type": "execute_result"
    }
   ],
   "source": [
    "os.getcwd()       # get current working directory"
   ]
  },
  {
   "cell_type": "code",
   "execution_count": 7,
   "id": "00331566",
   "metadata": {},
   "outputs": [
    {
     "data": {
      "text/plain": [
       "['.ipynb_checkpoints',\n",
       " 'Python Basic Class (2) 04_09_2022.ipynb',\n",
       " 'Python Basic Class (3) 10_09_2022.ipynb',\n",
       " 'Python Basic Class (3.1) 10_09_2022.ipynb',\n",
       " 'Python Basic Class (3.2) 10_09_2022.ipynb',\n",
       " 'Python Basic Class (3.3) 10_09_2022.ipynb',\n",
       " 'Python Basic Class (4) 11_09_2022.ipynb',\n",
       " 'Python Basic Class (4.1) 11_09_2022.ipynb',\n",
       " 'Python Basic Class First (03_09_2022).ipynb',\n",
       " 'Python Class 5 ( 17_09_2022).ipynb',\n",
       " 'Python Class 5.1 (17_09_2022).ipynb',\n",
       " 'Python Class 6 (18_09_2022).ipynb',\n",
       " 'Python Class 7 (24_09_2022).ipynb',\n",
       " 'Python Class 7.1 (25_09_2022).ipynb',\n",
       " 'Python Class 8 (01_10_2022).ipynb',\n",
       " 'Python Class 9 (08_10_2022).ipynb',\n",
       " 'Python Class 9.1 (09_10_2022).ipynb']"
      ]
     },
     "execution_count": 7,
     "metadata": {},
     "output_type": "execute_result"
    }
   ],
   "source": [
    "os.listdir()   # display current files and folders present in home directory"
   ]
  },
  {
   "cell_type": "code",
   "execution_count": 8,
   "id": "3b87714d",
   "metadata": {},
   "outputs": [],
   "source": [
    "import sys             # system"
   ]
  },
  {
   "cell_type": "code",
   "execution_count": 9,
   "id": "eef55b76",
   "metadata": {},
   "outputs": [
    {
     "data": {
      "text/plain": [
       "['C:\\\\Users\\\\sharm\\\\Data Trained Classes',\n",
       " 'C:\\\\Users\\\\sharm\\\\anaconda3\\\\python39.zip',\n",
       " 'C:\\\\Users\\\\sharm\\\\anaconda3\\\\DLLs',\n",
       " 'C:\\\\Users\\\\sharm\\\\anaconda3\\\\lib',\n",
       " 'C:\\\\Users\\\\sharm\\\\anaconda3',\n",
       " '',\n",
       " 'C:\\\\Users\\\\sharm\\\\AppData\\\\Roaming\\\\Python\\\\Python39\\\\site-packages',\n",
       " 'C:\\\\Users\\\\sharm\\\\anaconda3\\\\lib\\\\site-packages',\n",
       " 'C:\\\\Users\\\\sharm\\\\anaconda3\\\\lib\\\\site-packages\\\\win32',\n",
       " 'C:\\\\Users\\\\sharm\\\\anaconda3\\\\lib\\\\site-packages\\\\win32\\\\lib',\n",
       " 'C:\\\\Users\\\\sharm\\\\anaconda3\\\\lib\\\\site-packages\\\\Pythonwin']"
      ]
     },
     "execution_count": 9,
     "metadata": {},
     "output_type": "execute_result"
    }
   ],
   "source": [
    "sys.path             # system path"
   ]
  },
  {
   "cell_type": "code",
   "execution_count": 10,
   "id": "b260f681",
   "metadata": {},
   "outputs": [],
   "source": [
    "import math"
   ]
  },
  {
   "cell_type": "code",
   "execution_count": 11,
   "id": "509048a4",
   "metadata": {},
   "outputs": [
    {
     "data": {
      "text/plain": [
       "3.141592653589793"
      ]
     },
     "execution_count": 11,
     "metadata": {},
     "output_type": "execute_result"
    }
   ],
   "source": [
    "math.pi"
   ]
  },
  {
   "cell_type": "code",
   "execution_count": 12,
   "id": "32c4e6e8",
   "metadata": {},
   "outputs": [
    {
     "data": {
      "text/plain": [
       "9160.884177867836"
      ]
     },
     "execution_count": 12,
     "metadata": {},
     "output_type": "execute_result"
    }
   ],
   "source": [
    "radius = 54\n",
    "\n",
    "area = math.pi * (radius **2)\n",
    "area"
   ]
  },
  {
   "cell_type": "code",
   "execution_count": 16,
   "id": "ac0e55c7",
   "metadata": {},
   "outputs": [
    {
     "data": {
      "text/plain": [
       "4.0"
      ]
     },
     "execution_count": 16,
     "metadata": {},
     "output_type": "execute_result"
    }
   ],
   "source": [
    "math.pow(2,2)     # pow = power in this que two ki power two"
   ]
  },
  {
   "cell_type": "code",
   "execution_count": 17,
   "id": "b909a80a",
   "metadata": {},
   "outputs": [
    {
     "data": {
      "text/plain": [
       "8.0"
      ]
     },
     "execution_count": 17,
     "metadata": {},
     "output_type": "execute_result"
    }
   ],
   "source": [
    "math.pow(2,3)"
   ]
  },
  {
   "cell_type": "code",
   "execution_count": 18,
   "id": "d1398906",
   "metadata": {},
   "outputs": [
    {
     "data": {
      "text/plain": [
       "16.0"
      ]
     },
     "execution_count": 18,
     "metadata": {},
     "output_type": "execute_result"
    }
   ],
   "source": [
    "math.pow(2,4)"
   ]
  },
  {
   "cell_type": "code",
   "execution_count": 19,
   "id": "0a0c7a03",
   "metadata": {},
   "outputs": [
    {
     "data": {
      "text/plain": [
       "8.0"
      ]
     },
     "execution_count": 19,
     "metadata": {},
     "output_type": "execute_result"
    }
   ],
   "source": [
    "math.sqrt(64)    # sqrt = square here what is the sq root of 64"
   ]
  },
  {
   "cell_type": "code",
   "execution_count": 20,
   "id": "62c4c96b",
   "metadata": {},
   "outputs": [
    {
     "data": {
      "text/plain": [
       "12.0"
      ]
     },
     "execution_count": 20,
     "metadata": {},
     "output_type": "execute_result"
    }
   ],
   "source": [
    "math.sqrt(144)"
   ]
  },
  {
   "cell_type": "code",
   "execution_count": 21,
   "id": "68aae6f6",
   "metadata": {},
   "outputs": [
    {
     "data": {
      "text/plain": [
       "5.0"
      ]
     },
     "execution_count": 21,
     "metadata": {},
     "output_type": "execute_result"
    }
   ],
   "source": [
    "math.sqrt(25)"
   ]
  },
  {
   "cell_type": "code",
   "execution_count": 22,
   "id": "79458315",
   "metadata": {},
   "outputs": [
    {
     "data": {
      "text/plain": [
       "dict_keys(['__name__', '__doc__', '__package__', '__loader__', '__spec__', 'acos', 'acosh', 'asin', 'asinh', 'atan', 'atan2', 'atanh', 'ceil', 'copysign', 'cos', 'cosh', 'degrees', 'dist', 'erf', 'erfc', 'exp', 'expm1', 'fabs', 'factorial', 'floor', 'fmod', 'frexp', 'fsum', 'gamma', 'gcd', 'hypot', 'isclose', 'isfinite', 'isinf', 'isnan', 'isqrt', 'lcm', 'ldexp', 'lgamma', 'log', 'log1p', 'log10', 'log2', 'modf', 'pow', 'radians', 'remainder', 'sin', 'sinh', 'sqrt', 'tan', 'tanh', 'trunc', 'prod', 'perm', 'comb', 'nextafter', 'ulp', 'pi', 'e', 'tau', 'inf', 'nan'])"
      ]
     },
     "execution_count": 22,
     "metadata": {},
     "output_type": "execute_result"
    }
   ],
   "source": [
    "math.__dict__.keys()"
   ]
  },
  {
   "cell_type": "code",
   "execution_count": 23,
   "id": "ed7e5b4c",
   "metadata": {},
   "outputs": [],
   "source": [
    "import math as mt"
   ]
  },
  {
   "cell_type": "code",
   "execution_count": 24,
   "id": "8853db83",
   "metadata": {},
   "outputs": [
    {
     "data": {
      "text/plain": [
       "3.141592653589793"
      ]
     },
     "execution_count": 24,
     "metadata": {},
     "output_type": "execute_result"
    }
   ],
   "source": [
    "mt.pi   # mt is work like as math"
   ]
  },
  {
   "cell_type": "code",
   "execution_count": 26,
   "id": "19a37bfc",
   "metadata": {},
   "outputs": [
    {
     "data": {
      "text/plain": [
       "8.0"
      ]
     },
     "execution_count": 26,
     "metadata": {},
     "output_type": "execute_result"
    }
   ],
   "source": [
    "mt.sqrt(64)"
   ]
  },
  {
   "cell_type": "code",
   "execution_count": 27,
   "id": "299fff16",
   "metadata": {},
   "outputs": [
    {
     "data": {
      "text/plain": [
       "16.0"
      ]
     },
     "execution_count": 27,
     "metadata": {},
     "output_type": "execute_result"
    }
   ],
   "source": [
    "mt.pow(4,2)"
   ]
  },
  {
   "cell_type": "code",
   "execution_count": 28,
   "id": "c8e59fa7",
   "metadata": {},
   "outputs": [
    {
     "data": {
      "text/plain": [
       "49.0"
      ]
     },
     "execution_count": 28,
     "metadata": {},
     "output_type": "execute_result"
    }
   ],
   "source": [
    "mt.pow(7,2)"
   ]
  },
  {
   "cell_type": "code",
   "execution_count": 37,
   "id": "a56dd865",
   "metadata": {},
   "outputs": [],
   "source": [
    "import math as y"
   ]
  },
  {
   "cell_type": "code",
   "execution_count": 39,
   "id": "20e89b54",
   "metadata": {},
   "outputs": [
    {
     "data": {
      "text/plain": [
       "64.0"
      ]
     },
     "execution_count": 39,
     "metadata": {},
     "output_type": "execute_result"
    }
   ],
   "source": [
    "y.pow(8,2)"
   ]
  },
  {
   "cell_type": "code",
   "execution_count": 40,
   "id": "c8830308",
   "metadata": {},
   "outputs": [
    {
     "data": {
      "text/plain": [
       "16.0"
      ]
     },
     "execution_count": 40,
     "metadata": {},
     "output_type": "execute_result"
    }
   ],
   "source": [
    "y.pow(2,4)"
   ]
  },
  {
   "cell_type": "code",
   "execution_count": 43,
   "id": "d230f5dd",
   "metadata": {},
   "outputs": [
    {
     "data": {
      "text/plain": [
       "8.0"
      ]
     },
     "execution_count": 43,
     "metadata": {},
     "output_type": "execute_result"
    }
   ],
   "source": [
    "y.sqrt(64)"
   ]
  },
  {
   "cell_type": "code",
   "execution_count": 48,
   "id": "95b6a10b",
   "metadata": {},
   "outputs": [
    {
     "data": {
      "text/plain": [
       "3.141592653589793"
      ]
     },
     "execution_count": 48,
     "metadata": {},
     "output_type": "execute_result"
    }
   ],
   "source": [
    "y.pi"
   ]
  },
  {
   "cell_type": "markdown",
   "id": "4880bd75",
   "metadata": {},
   "source": [
    "# Get Current Date and Time"
   ]
  },
  {
   "cell_type": "code",
   "execution_count": 52,
   "id": "bb11ab66",
   "metadata": {},
   "outputs": [],
   "source": [
    "import datetime"
   ]
  },
  {
   "cell_type": "code",
   "execution_count": 53,
   "id": "91903f4d",
   "metadata": {},
   "outputs": [
    {
     "data": {
      "text/plain": [
       "datetime.datetime(2022, 10, 9, 18, 8, 15, 802307)"
      ]
     },
     "execution_count": 53,
     "metadata": {},
     "output_type": "execute_result"
    }
   ],
   "source": [
    "dt = datetime.datetime.now()\n",
    "dt"
   ]
  },
  {
   "cell_type": "markdown",
   "id": "bc770f82",
   "metadata": {},
   "source": [
    "Get Current Date"
   ]
  },
  {
   "cell_type": "code",
   "execution_count": 54,
   "id": "d8e30597",
   "metadata": {},
   "outputs": [
    {
     "data": {
      "text/plain": [
       "datetime.date(2022, 10, 9)"
      ]
     },
     "execution_count": 54,
     "metadata": {},
     "output_type": "execute_result"
    }
   ],
   "source": [
    "dt1 = datetime.date.today()\n",
    "dt1"
   ]
  },
  {
   "cell_type": "code",
   "execution_count": null,
   "id": "66821ed8",
   "metadata": {},
   "outputs": [],
   "source": [
    "commonly used classes in the datetime module are:\n",
    "    date class\n",
    "    time class\n",
    "    datetime class\n",
    "    timedelta class"
   ]
  },
  {
   "cell_type": "code",
   "execution_count": 58,
   "id": "1b11aca8",
   "metadata": {},
   "outputs": [
    {
     "data": {
      "text/plain": [
       "datetime.date(2022, 10, 9)"
      ]
     },
     "execution_count": 58,
     "metadata": {},
     "output_type": "execute_result"
    }
   ],
   "source": [
    "import datetime\n",
    "d = datetime.date(2022,10,9)\n",
    "d"
   ]
  },
  {
   "cell_type": "code",
   "execution_count": 59,
   "id": "7265ce9d",
   "metadata": {},
   "outputs": [
    {
     "data": {
      "text/plain": [
       "datetime.date(2022, 9, 25)"
      ]
     },
     "execution_count": 59,
     "metadata": {},
     "output_type": "execute_result"
    }
   ],
   "source": [
    "from datetime import date\n",
    "a = date(2022, 9, 25)\n",
    "a"
   ]
  },
  {
   "cell_type": "code",
   "execution_count": 60,
   "id": "15714012",
   "metadata": {},
   "outputs": [
    {
     "data": {
      "text/plain": [
       "datetime.date(2022, 10, 9)"
      ]
     },
     "execution_count": 60,
     "metadata": {},
     "output_type": "execute_result"
    }
   ],
   "source": [
    "# get current date\n",
    "td = date.today()\n",
    "td"
   ]
  },
  {
   "cell_type": "code",
   "execution_count": 61,
   "id": "21cad390",
   "metadata": {},
   "outputs": [
    {
     "name": "stdout",
     "output_type": "stream",
     "text": [
      "Year= 2022\n",
      "Month= 10\n",
      "Day= 9\n"
     ]
    }
   ],
   "source": [
    "print(\"Year=\",td.year)\n",
    "print(\"Month=\",td.month)\n",
    "print(\"Day=\",td.day)"
   ]
  },
  {
   "cell_type": "code",
   "execution_count": null,
   "id": "430d6c87",
   "metadata": {},
   "outputs": [],
   "source": [
    "A time object instantiated from the time class represents the local time"
   ]
  },
  {
   "cell_type": "code",
   "execution_count": 63,
   "id": "8f8bd9b1",
   "metadata": {},
   "outputs": [
    {
     "name": "stdout",
     "output_type": "stream",
     "text": [
      "00:00:00\n",
      "12:43:56\n"
     ]
    }
   ],
   "source": [
    "from datetime import time\n",
    "a = time()\n",
    "print(a)\n",
    "\n",
    "# time (hour, minute, second)\n",
    "b = time(12,43,56)\n",
    "print(b)"
   ]
  },
  {
   "cell_type": "code",
   "execution_count": 64,
   "id": "6c79578c",
   "metadata": {},
   "outputs": [
    {
     "name": "stdout",
     "output_type": "stream",
     "text": [
      "hour: 12\n",
      "minute: 43\n",
      "second: 56\n"
     ]
    }
   ],
   "source": [
    "print(\"hour:\",b.hour)\n",
    "print(\"minute:\",b.minute)\n",
    "print(\"second:\",b.second)"
   ]
  },
  {
   "cell_type": "code",
   "execution_count": 65,
   "id": "468054da",
   "metadata": {},
   "outputs": [
    {
     "name": "stdout",
     "output_type": "stream",
     "text": [
      "2022-08-14 00:00:00\n"
     ]
    }
   ],
   "source": [
    "from datetime import datetime\n",
    "a = datetime(2022,8,14)\n",
    "print(a)"
   ]
  },
  {
   "cell_type": "code",
   "execution_count": 66,
   "id": "19d73a34",
   "metadata": {},
   "outputs": [
    {
     "name": "stdout",
     "output_type": "stream",
     "text": [
      "year= 2022\n",
      "month= 8\n",
      "day= 14\n"
     ]
    }
   ],
   "source": [
    "print(\"year=\",a.year)\n",
    "print(\"month=\",a.month)\n",
    "print(\"day=\",a.day)"
   ]
  },
  {
   "cell_type": "code",
   "execution_count": 71,
   "id": "7b9c6510",
   "metadata": {},
   "outputs": [
    {
     "name": "stdout",
     "output_type": "stream",
     "text": [
      "2022\n",
      "8\n",
      "14\n",
      "12\n",
      "47\n",
      "50\n"
     ]
    }
   ],
   "source": [
    "# datetime(year,month,date,hour,minute,second)\n",
    "\n",
    "b = datetime(2022,8,14,12,47,50)\n",
    "print(b.year)\n",
    "print(b.month)\n",
    "print(b.day)\n",
    "print(b.hour)\n",
    "print(b.minute)\n",
    "print(b.second)"
   ]
  },
  {
   "cell_type": "code",
   "execution_count": 72,
   "id": "1f5aaa3e",
   "metadata": {},
   "outputs": [
    {
     "name": "stdout",
     "output_type": "stream",
     "text": [
      "Handling run time error: division by zero\n"
     ]
    }
   ],
   "source": [
    "try:\n",
    "    19/0\n",
    "except ZeroDivisionError as err:\n",
    "    print(\"Handling run time error:\",err)"
   ]
  },
  {
   "cell_type": "code",
   "execution_count": 1,
   "id": "93d97f33",
   "metadata": {},
   "outputs": [
    {
     "name": "stdout",
     "output_type": "stream",
     "text": [
      "value2\n",
      "25.0\n"
     ]
    }
   ],
   "source": [
    "try:\n",
    "    i = int(input(\"value\"))\n",
    "    p = 50/i\n",
    "except ZeroDivisionError:\n",
    "    print(\"Zero division error\")\n",
    "except NameError:\n",
    "    print(\"Check name of variable : Name error\")\n",
    "except IndentationError:\n",
    "    print(\"Check Indentation\")\n",
    "else:\n",
    "    print(p)"
   ]
  },
  {
   "cell_type": "code",
   "execution_count": 84,
   "id": "e10f7daf",
   "metadata": {},
   "outputs": [
    {
     "name": "stdout",
     "output_type": "stream",
     "text": [
      "10\n",
      "20\n",
      "30\n",
      "hello\n",
      "end of the program\n"
     ]
    }
   ],
   "source": [
    "a = [10,20,30]\n",
    "\n",
    "try:\n",
    "    print(a[0])\n",
    "    print(a[1])\n",
    "    print(a[2])\n",
    "except:\n",
    "    print(\"out of range.\")\n",
    "else:\n",
    "    print(\"hello\")\n",
    "finally:\n",
    "    print(\"end of the program\")"
   ]
  }
 ],
 "metadata": {
  "kernelspec": {
   "display_name": "Python 3 (ipykernel)",
   "language": "python",
   "name": "python3"
  },
  "language_info": {
   "codemirror_mode": {
    "name": "ipython",
    "version": 3
   },
   "file_extension": ".py",
   "mimetype": "text/x-python",
   "name": "python",
   "nbconvert_exporter": "python",
   "pygments_lexer": "ipython3",
   "version": "3.9.12"
  }
 },
 "nbformat": 4,
 "nbformat_minor": 5
}
