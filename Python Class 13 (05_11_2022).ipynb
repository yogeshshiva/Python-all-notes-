{
 "cells": [
  {
   "cell_type": "markdown",
   "id": "338bb611",
   "metadata": {},
   "source": [
    "# Pandas"
   ]
  },
  {
   "cell_type": "code",
   "execution_count": 21,
   "id": "ad2a48d2",
   "metadata": {},
   "outputs": [],
   "source": [
    "import pandas as pd"
   ]
  },
  {
   "cell_type": "code",
   "execution_count": 22,
   "id": "cd3de0c7",
   "metadata": {},
   "outputs": [
    {
     "data": {
      "text/plain": [
       "0    10\n",
       "1    20\n",
       "2    30\n",
       "3    40\n",
       "dtype: int64"
      ]
     },
     "execution_count": 22,
     "metadata": {},
     "output_type": "execute_result"
    }
   ],
   "source": [
    "pd.Series([10, 20, 30, 40])       # 0,1,2,3 is a index and 10,20... are values"
   ]
  },
  {
   "cell_type": "code",
   "execution_count": 23,
   "id": "83c70afe",
   "metadata": {},
   "outputs": [
    {
     "data": {
      "text/plain": [
       "0    11\n",
       "1    12\n",
       "2    13\n",
       "3    14\n",
       "4    15\n",
       "dtype: int64"
      ]
     },
     "execution_count": 23,
     "metadata": {},
     "output_type": "execute_result"
    }
   ],
   "source": [
    "pd.Series([11, 12, 13, 14, 15])"
   ]
  },
  {
   "cell_type": "code",
   "execution_count": 24,
   "id": "7f58d998",
   "metadata": {},
   "outputs": [],
   "source": [
    "a = pd.Series([11, 12, 13, 14, 15])"
   ]
  },
  {
   "cell_type": "code",
   "execution_count": 25,
   "id": "f097d551",
   "metadata": {},
   "outputs": [
    {
     "data": {
      "text/plain": [
       "0    11\n",
       "1    12\n",
       "2    13\n",
       "3    14\n",
       "4    15\n",
       "dtype: int64"
      ]
     },
     "execution_count": 25,
     "metadata": {},
     "output_type": "execute_result"
    }
   ],
   "source": [
    "a"
   ]
  },
  {
   "cell_type": "code",
   "execution_count": 26,
   "id": "ad5fc6a2",
   "metadata": {
    "scrolled": true
   },
   "outputs": [
    {
     "data": {
      "text/plain": [
       "0    11\n",
       "1    12\n",
       "2    13\n",
       "3    14\n",
       "4    15\n",
       "5    14\n",
       "6    11\n",
       "dtype: int64"
      ]
     },
     "execution_count": 26,
     "metadata": {},
     "output_type": "execute_result"
    }
   ],
   "source": [
    "pd.Series([11, 12, 13, 14, 15, 14, 11])  # we can put repeating element also"
   ]
  },
  {
   "cell_type": "markdown",
   "id": "c4788709",
   "metadata": {},
   "source": [
    "indexing"
   ]
  },
  {
   "cell_type": "code",
   "execution_count": 27,
   "id": "201358c3",
   "metadata": {
    "scrolled": true
   },
   "outputs": [
    {
     "data": {
      "text/plain": [
       "0    11\n",
       "1    12\n",
       "2    13\n",
       "3    14\n",
       "4    15\n",
       "dtype: int64"
      ]
     },
     "execution_count": 27,
     "metadata": {},
     "output_type": "execute_result"
    }
   ],
   "source": [
    "a"
   ]
  },
  {
   "cell_type": "code",
   "execution_count": 38,
   "id": "12edb0c8",
   "metadata": {},
   "outputs": [
    {
     "data": {
      "text/plain": [
       "11"
      ]
     },
     "execution_count": 38,
     "metadata": {},
     "output_type": "execute_result"
    }
   ],
   "source": [
    "a[0]"
   ]
  },
  {
   "cell_type": "code",
   "execution_count": 40,
   "id": "57a576be",
   "metadata": {
    "scrolled": true
   },
   "outputs": [
    {
     "data": {
      "text/plain": [
       "12"
      ]
     },
     "execution_count": 40,
     "metadata": {},
     "output_type": "execute_result"
    }
   ],
   "source": [
    "a[1]"
   ]
  },
  {
   "cell_type": "code",
   "execution_count": 41,
   "id": "1b960dde",
   "metadata": {},
   "outputs": [
    {
     "data": {
      "text/plain": [
       "13"
      ]
     },
     "execution_count": 41,
     "metadata": {},
     "output_type": "execute_result"
    }
   ],
   "source": [
    "a[2]"
   ]
  },
  {
   "cell_type": "code",
   "execution_count": 42,
   "id": "aa827270",
   "metadata": {},
   "outputs": [
    {
     "data": {
      "text/plain": [
       "15"
      ]
     },
     "execution_count": 42,
     "metadata": {},
     "output_type": "execute_result"
    }
   ],
   "source": [
    "a[4]"
   ]
  },
  {
   "cell_type": "markdown",
   "id": "43cf18dc",
   "metadata": {},
   "source": [
    "Slicing"
   ]
  },
  {
   "cell_type": "code",
   "execution_count": 44,
   "id": "a7384a05",
   "metadata": {},
   "outputs": [
    {
     "data": {
      "text/plain": [
       "0    11\n",
       "1    12\n",
       "dtype: int64"
      ]
     },
     "execution_count": 44,
     "metadata": {},
     "output_type": "execute_result"
    }
   ],
   "source": [
    "a[0:2]"
   ]
  },
  {
   "cell_type": "code",
   "execution_count": 45,
   "id": "31af9ce2",
   "metadata": {},
   "outputs": [
    {
     "data": {
      "text/plain": [
       "0    11\n",
       "1    12\n",
       "2    13\n",
       "3    14\n",
       "dtype: int64"
      ]
     },
     "execution_count": 45,
     "metadata": {},
     "output_type": "execute_result"
    }
   ],
   "source": [
    "a[0:4]"
   ]
  },
  {
   "cell_type": "code",
   "execution_count": 46,
   "id": "6a42ba11",
   "metadata": {
    "scrolled": true
   },
   "outputs": [
    {
     "data": {
      "text/plain": [
       "3    14\n",
       "4    15\n",
       "dtype: int64"
      ]
     },
     "execution_count": 46,
     "metadata": {},
     "output_type": "execute_result"
    }
   ],
   "source": [
    "a[3:5]"
   ]
  },
  {
   "cell_type": "code",
   "execution_count": 48,
   "id": "0fdeb4be",
   "metadata": {
    "scrolled": true
   },
   "outputs": [
    {
     "data": {
      "text/plain": [
       "2    13\n",
       "3    14\n",
       "4    15\n",
       "dtype: int64"
      ]
     },
     "execution_count": 48,
     "metadata": {},
     "output_type": "execute_result"
    }
   ],
   "source": [
    "a[2:]"
   ]
  },
  {
   "cell_type": "code",
   "execution_count": 57,
   "id": "ae3f55a2",
   "metadata": {
    "scrolled": false
   },
   "outputs": [
    {
     "data": {
      "text/plain": [
       "4    15\n",
       "3    14\n",
       "2    13\n",
       "dtype: int64"
      ]
     },
     "execution_count": 57,
     "metadata": {},
     "output_type": "execute_result"
    }
   ],
   "source": [
    "a[-1:-4:-1]    # negative slicing is not working on this pandas Series it's class says"
   ]
  },
  {
   "cell_type": "code",
   "execution_count": 75,
   "id": "88b875ec",
   "metadata": {
    "scrolled": false
   },
   "outputs": [
    {
     "ename": "SyntaxError",
     "evalue": "invalid syntax (214722556.py, line 1)",
     "output_type": "error",
     "traceback": [
      "\u001b[1;36m  Input \u001b[1;32mIn [75]\u001b[1;36m\u001b[0m\n\u001b[1;33m    pd.Series? # their are many parameters are present in this pandas if we run this code\u001b[0m\n\u001b[1;37m             ^\u001b[0m\n\u001b[1;31mSyntaxError\u001b[0m\u001b[1;31m:\u001b[0m invalid syntax\n"
     ]
    }
   ],
   "source": [
    "pd.Series? # their are many parameters are present in this pandas if we run this code\n",
    "#  this code is working only that time when below cell is empty   if's my openion"
   ]
  },
  {
   "cell_type": "code",
   "execution_count": 31,
   "id": "9d0f00af",
   "metadata": {},
   "outputs": [
    {
     "data": {
      "text/plain": [
       "1    100\n",
       "2    200\n",
       "3    300\n",
       "4    400\n",
       "5    500\n",
       "dtype: int64"
      ]
     },
     "execution_count": 31,
     "metadata": {},
     "output_type": "execute_result"
    }
   ],
   "source": [
    "pd.Series([100, 200, 300, 400, 500],index=[1,2,3,4,5])   # here index is start in 1 because we put index start is 1"
   ]
  },
  {
   "cell_type": "code",
   "execution_count": 32,
   "id": "57ced4c8",
   "metadata": {},
   "outputs": [
    {
     "data": {
      "text/plain": [
       "0    23\n",
       "1    34\n",
       "2    56\n",
       "3    78\n",
       "dtype: int32"
      ]
     },
     "execution_count": 32,
     "metadata": {},
     "output_type": "execute_result"
    }
   ],
   "source": [
    "import numpy as np\n",
    "b = np.array([23,34,56,78])\n",
    "\n",
    "pd.Series(data=b)"
   ]
  },
  {
   "cell_type": "code",
   "execution_count": 33,
   "id": "3d3bb016",
   "metadata": {},
   "outputs": [
    {
     "data": {
      "text/plain": [
       "10    23\n",
       "20    34\n",
       "30    56\n",
       "40    78\n",
       "dtype: int32"
      ]
     },
     "execution_count": 33,
     "metadata": {},
     "output_type": "execute_result"
    }
   ],
   "source": [
    "pd.Series(data=b,index=[10,20,30,40])"
   ]
  },
  {
   "cell_type": "code",
   "execution_count": 34,
   "id": "7e9483f7",
   "metadata": {},
   "outputs": [
    {
     "data": {
      "text/plain": [
       "{'id': 1, 'Name': 'ABC', 'Age': 14}"
      ]
     },
     "execution_count": 34,
     "metadata": {},
     "output_type": "execute_result"
    }
   ],
   "source": [
    "dict1 = {'id':1,'Name':'ABC','Age':14}\n",
    "dict1"
   ]
  },
  {
   "cell_type": "code",
   "execution_count": 35,
   "id": "48e17939",
   "metadata": {},
   "outputs": [
    {
     "data": {
      "text/plain": [
       "id        1\n",
       "Name    ABC\n",
       "Age      14\n",
       "dtype: object"
      ]
     },
     "execution_count": 35,
     "metadata": {},
     "output_type": "execute_result"
    }
   ],
   "source": [
    "pd.Series(data=dict1)"
   ]
  },
  {
   "cell_type": "markdown",
   "id": "12a769d4",
   "metadata": {},
   "source": [
    "# DATAFRAME"
   ]
  },
  {
   "cell_type": "code",
   "execution_count": 61,
   "id": "6d87ea4c",
   "metadata": {},
   "outputs": [],
   "source": [
    "data = [10,20,30,40,50]\n",
    "a = pd.DataFrame(data)"
   ]
  },
  {
   "cell_type": "code",
   "execution_count": 62,
   "id": "54099d6e",
   "metadata": {},
   "outputs": [
    {
     "data": {
      "text/html": [
       "<div>\n",
       "<style scoped>\n",
       "    .dataframe tbody tr th:only-of-type {\n",
       "        vertical-align: middle;\n",
       "    }\n",
       "\n",
       "    .dataframe tbody tr th {\n",
       "        vertical-align: top;\n",
       "    }\n",
       "\n",
       "    .dataframe thead th {\n",
       "        text-align: right;\n",
       "    }\n",
       "</style>\n",
       "<table border=\"1\" class=\"dataframe\">\n",
       "  <thead>\n",
       "    <tr style=\"text-align: right;\">\n",
       "      <th></th>\n",
       "      <th>0</th>\n",
       "    </tr>\n",
       "  </thead>\n",
       "  <tbody>\n",
       "    <tr>\n",
       "      <th>0</th>\n",
       "      <td>10</td>\n",
       "    </tr>\n",
       "    <tr>\n",
       "      <th>1</th>\n",
       "      <td>20</td>\n",
       "    </tr>\n",
       "    <tr>\n",
       "      <th>2</th>\n",
       "      <td>30</td>\n",
       "    </tr>\n",
       "    <tr>\n",
       "      <th>3</th>\n",
       "      <td>40</td>\n",
       "    </tr>\n",
       "    <tr>\n",
       "      <th>4</th>\n",
       "      <td>50</td>\n",
       "    </tr>\n",
       "  </tbody>\n",
       "</table>\n",
       "</div>"
      ],
      "text/plain": [
       "    0\n",
       "0  10\n",
       "1  20\n",
       "2  30\n",
       "3  40\n",
       "4  50"
      ]
     },
     "execution_count": 62,
     "metadata": {},
     "output_type": "execute_result"
    }
   ],
   "source": [
    "a    "
   ]
  },
  {
   "cell_type": "code",
   "execution_count": 64,
   "id": "3c57a64d",
   "metadata": {},
   "outputs": [
    {
     "data": {
      "text/html": [
       "<div>\n",
       "<style scoped>\n",
       "    .dataframe tbody tr th:only-of-type {\n",
       "        vertical-align: middle;\n",
       "    }\n",
       "\n",
       "    .dataframe tbody tr th {\n",
       "        vertical-align: top;\n",
       "    }\n",
       "\n",
       "    .dataframe thead th {\n",
       "        text-align: right;\n",
       "    }\n",
       "</style>\n",
       "<table border=\"1\" class=\"dataframe\">\n",
       "  <thead>\n",
       "    <tr style=\"text-align: right;\">\n",
       "      <th></th>\n",
       "      <th>0</th>\n",
       "      <th>1</th>\n",
       "    </tr>\n",
       "  </thead>\n",
       "  <tbody>\n",
       "    <tr>\n",
       "      <th>0</th>\n",
       "      <td>(Alex, 10)</td>\n",
       "      <td>NaN</td>\n",
       "    </tr>\n",
       "    <tr>\n",
       "      <th>1</th>\n",
       "      <td>Bob</td>\n",
       "      <td>12.0</td>\n",
       "    </tr>\n",
       "    <tr>\n",
       "      <th>2</th>\n",
       "      <td>Clarke</td>\n",
       "      <td>13.0</td>\n",
       "    </tr>\n",
       "  </tbody>\n",
       "</table>\n",
       "</div>"
      ],
      "text/plain": [
       "            0     1\n",
       "0  (Alex, 10)   NaN\n",
       "1         Bob  12.0\n",
       "2      Clarke  13.0"
      ]
     },
     "execution_count": 64,
     "metadata": {},
     "output_type": "execute_result"
    }
   ],
   "source": [
    "data = [[('Alex',10)],['Bob',12],['Clarke',13]]\n",
    "df = pd.DataFrame(data)\n",
    "df                     # here, 3 rows and 2 coloum     coloum index me coloum 1 hai or row 2 hai"
   ]
  },
  {
   "cell_type": "code",
   "execution_count": 65,
   "id": "4d70debd",
   "metadata": {},
   "outputs": [
    {
     "name": "stdout",
     "output_type": "stream",
     "text": [
      "     Name  Age\n",
      "0    Alex   10\n",
      "1     Bod   12\n",
      "2  Clarke   13\n"
     ]
    }
   ],
   "source": [
    "data = [['Alex',10],['Bod',12],['Clarke',13]]\n",
    "df = pd.DataFrame(data,columns=['Name','Age'])\n",
    "print(df)"
   ]
  },
  {
   "cell_type": "code",
   "execution_count": 68,
   "id": "c8cce6bd",
   "metadata": {},
   "outputs": [
    {
     "name": "stdout",
     "output_type": "stream",
     "text": [
      "     Name Age\n",
      "0    Alex  10\n",
      "1     Bod  12\n",
      "2  Clarke  13\n"
     ]
    }
   ],
   "source": [
    "data = [['Alex',10],['Bod',12],['Clarke',13]]\n",
    "df = pd.DataFrame(data,columns=['Name','Age'],dtype='string')\n",
    "print(df)"
   ]
  },
  {
   "cell_type": "code",
   "execution_count": 69,
   "id": "5f553dd6",
   "metadata": {},
   "outputs": [
    {
     "name": "stdout",
     "output_type": "stream",
     "text": [
      "     Name   Age\n",
      "0    Alex  10.0\n",
      "1     Bod  12.0\n",
      "2  Clarke  13.0\n"
     ]
    },
    {
     "name": "stderr",
     "output_type": "stream",
     "text": [
      "C:\\Users\\sharm\\AppData\\Local\\Temp\\ipykernel_11216\\536433695.py:2: FutureWarning: Could not cast to float64, falling back to object. This behavior is deprecated. In a future version, when a dtype is passed to 'DataFrame', either all columns will be cast to that dtype, or a TypeError will be raised.\n",
      "  df = pd.DataFrame(data,columns=['Name','Age'],dtype=float)\n"
     ]
    }
   ],
   "source": [
    "data = [['Alex',10],['Bod',12],['Clarke',13]]\n",
    "df = pd.DataFrame(data,columns=['Name','Age'],dtype=float)\n",
    "print(df)"
   ]
  },
  {
   "cell_type": "code",
   "execution_count": 76,
   "id": "5258ca3f",
   "metadata": {},
   "outputs": [],
   "source": [
    "pd.DataFrame?"
   ]
  },
  {
   "cell_type": "code",
   "execution_count": 77,
   "id": "45de44c0",
   "metadata": {},
   "outputs": [],
   "source": [
    "pd.Series?"
   ]
  },
  {
   "cell_type": "code",
   "execution_count": 81,
   "id": "d3f924b0",
   "metadata": {},
   "outputs": [
    {
     "name": "stdout",
     "output_type": "stream",
     "text": [
      "        Name  Age\n",
      "row1    Alex   10\n",
      "row2     Bob   12\n",
      "row3  Clarke   13\n"
     ]
    }
   ],
   "source": [
    "data = [['Alex',10],['Bob',12],['Clarke',13]]\n",
    "df = pd.DataFrame(data,columns=['Name','Age'],index=['row1','row2','row3'])\n",
    "print(df)"
   ]
  },
  {
   "cell_type": "code",
   "execution_count": 80,
   "id": "7f9a80a6",
   "metadata": {},
   "outputs": [
    {
     "name": "stdout",
     "output_type": "stream",
     "text": [
      "       Student name  Student Age\n",
      "first          Alex           10\n",
      "second          Bob           12\n",
      "third        Clarke           13\n"
     ]
    }
   ],
   "source": [
    "data = [['Alex',10],['Bob',12],['Clarke',13]]\n",
    "df = pd.DataFrame(data,columns=['Student name','Student Age'],index=['first','second','third'])\n",
    "print(df)"
   ]
  },
  {
   "cell_type": "code",
   "execution_count": 82,
   "id": "b88f51fd",
   "metadata": {},
   "outputs": [
    {
     "name": "stdout",
     "output_type": "stream",
     "text": [
      "    Name   Age\n",
      "0    Tom  28.0\n",
      "1   Jack  34.0\n",
      "2  Steve  29.0\n",
      "3  Ricky  42.0\n"
     ]
    },
    {
     "name": "stderr",
     "output_type": "stream",
     "text": [
      "C:\\Users\\sharm\\AppData\\Local\\Temp\\ipykernel_11216\\3335041979.py:2: FutureWarning: Could not cast to float64, falling back to object. This behavior is deprecated. In a future version, when a dtype is passed to 'DataFrame', either all columns will be cast to that dtype, or a TypeError will be raised.\n",
      "  df = pd.DataFrame(data,columns=['Name','Age'],dtype=float)\n"
     ]
    }
   ],
   "source": [
    "data = {'Name':['Tom', 'Jack', 'Steve', 'Ricky'],'Age':[28,34,29,42]}\n",
    "df = pd.DataFrame(data,columns=['Name','Age'],dtype=float)\n",
    "print(df)"
   ]
  },
  {
   "cell_type": "code",
   "execution_count": 83,
   "id": "1455c8d8",
   "metadata": {},
   "outputs": [
    {
     "name": "stdout",
     "output_type": "stream",
     "text": [
      "       Student name  Student Age  student fees\n",
      "first          Alex           10          6000\n",
      "second          Bob           12          5590\n",
      "third        Clarke           13          4566\n"
     ]
    }
   ],
   "source": [
    "data = [['Alex',10,6000],['Bob',12,5590],['Clarke',13,4566]]\n",
    "df = pd.DataFrame(data,columns=['Student name','Student Age','student fees'],index=['first','second','third'])\n",
    "print(df)"
   ]
  },
  {
   "cell_type": "code",
   "execution_count": 84,
   "id": "aa9b5cdc",
   "metadata": {},
   "outputs": [
    {
     "name": "stdout",
     "output_type": "stream",
     "text": [
      "       Student name  Student Age  student fees\n",
      "first          Alex           10          6000\n",
      "second          Bob           12          5590\n",
      "third        Clarke           13          4566\n",
      "fourth          ABC           10          3333\n"
     ]
    }
   ],
   "source": [
    "data = [['Alex',10,6000],['Bob',12,5590],['Clarke',13,4566],['ABC',10,3333]]\n",
    "df = pd.DataFrame(data,columns=['Student name','Student Age','student fees'],index=['first','second','third','fourth'])\n",
    "print(df)"
   ]
  },
  {
   "cell_type": "code",
   "execution_count": 85,
   "id": "3ced2030",
   "metadata": {},
   "outputs": [
    {
     "name": "stdout",
     "output_type": "stream",
     "text": [
      "        Name  Age\n",
      "row1    Alex   10\n",
      "row2     Bob   12\n",
      "row3  Clarke   13\n"
     ]
    }
   ],
   "source": [
    "mydata = [['Alex',10],['Bob',12],['Clarke',13]]    # if we use replay or data to any variable that time also work and we use below data = mydata that time also work\n",
    "df = pd.DataFrame(data=mydata,columns=['Name','Age'],index=['row1','row2','row3'])\n",
    "print(df)"
   ]
  },
  {
   "cell_type": "code",
   "execution_count": 88,
   "id": "ac446479",
   "metadata": {},
   "outputs": [
    {
     "name": "stdout",
     "output_type": "stream",
     "text": [
      "        Name  Age\n",
      "row1    Alex   10\n",
      "row2     Bob   12\n",
      "row3  Clarke   13\n"
     ]
    }
   ],
   "source": [
    "mydata = [['Alex',10],['Bob',12],['Clarke',13]]\n",
    "df = pd.DataFrame(mydata,columns=['Name','Age'],index=['row1','row2','row3'])\n",
    "print(df)"
   ]
  },
  {
   "cell_type": "code",
   "execution_count": 92,
   "id": "f216eff8",
   "metadata": {},
   "outputs": [
    {
     "data": {
      "text/plain": [
       "{'id': [1, 2, 3], 'Name': ['Harry', 'Smith', 'Jack'], 'Age': [12, 13, 14]}"
      ]
     },
     "execution_count": 92,
     "metadata": {},
     "output_type": "execute_result"
    }
   ],
   "source": [
    "dict2 = {'id':[1,2,3],'Name':['Harry','Smith','Jack'],'Age':[12,13,14]}\n",
    "dict2"
   ]
  },
  {
   "cell_type": "code",
   "execution_count": 93,
   "id": "74dc73d8",
   "metadata": {},
   "outputs": [
    {
     "data": {
      "text/html": [
       "<div>\n",
       "<style scoped>\n",
       "    .dataframe tbody tr th:only-of-type {\n",
       "        vertical-align: middle;\n",
       "    }\n",
       "\n",
       "    .dataframe tbody tr th {\n",
       "        vertical-align: top;\n",
       "    }\n",
       "\n",
       "    .dataframe thead th {\n",
       "        text-align: right;\n",
       "    }\n",
       "</style>\n",
       "<table border=\"1\" class=\"dataframe\">\n",
       "  <thead>\n",
       "    <tr style=\"text-align: right;\">\n",
       "      <th></th>\n",
       "      <th>id</th>\n",
       "      <th>Name</th>\n",
       "      <th>Age</th>\n",
       "    </tr>\n",
       "  </thead>\n",
       "  <tbody>\n",
       "    <tr>\n",
       "      <th>0</th>\n",
       "      <td>1</td>\n",
       "      <td>Harry</td>\n",
       "      <td>12</td>\n",
       "    </tr>\n",
       "    <tr>\n",
       "      <th>1</th>\n",
       "      <td>2</td>\n",
       "      <td>Smith</td>\n",
       "      <td>13</td>\n",
       "    </tr>\n",
       "    <tr>\n",
       "      <th>2</th>\n",
       "      <td>3</td>\n",
       "      <td>Jack</td>\n",
       "      <td>14</td>\n",
       "    </tr>\n",
       "  </tbody>\n",
       "</table>\n",
       "</div>"
      ],
      "text/plain": [
       "   id   Name  Age\n",
       "0   1  Harry   12\n",
       "1   2  Smith   13\n",
       "2   3   Jack   14"
      ]
     },
     "execution_count": 93,
     "metadata": {},
     "output_type": "execute_result"
    }
   ],
   "source": [
    "k = pd.DataFrame(dict2)    # ye single value me work nhi krega agr name ek hi hota age ek hi hote to work nhi krta kuki yee ek data leta hai pura in the form of matrix \n",
    "k"
   ]
  },
  {
   "cell_type": "code",
   "execution_count": 96,
   "id": "334c85b0",
   "metadata": {},
   "outputs": [
    {
     "data": {
      "text/plain": [
       "0    1\n",
       "1    2\n",
       "2    3\n",
       "Name: id, dtype: int64"
      ]
     },
     "execution_count": 96,
     "metadata": {},
     "output_type": "execute_result"
    }
   ],
   "source": [
    "k['id']"
   ]
  },
  {
   "cell_type": "code",
   "execution_count": 97,
   "id": "c5c2f168",
   "metadata": {},
   "outputs": [
    {
     "data": {
      "text/plain": [
       "0    Harry\n",
       "1    Smith\n",
       "2     Jack\n",
       "Name: Name, dtype: object"
      ]
     },
     "execution_count": 97,
     "metadata": {},
     "output_type": "execute_result"
    }
   ],
   "source": [
    "k['Name']"
   ]
  },
  {
   "cell_type": "code",
   "execution_count": 100,
   "id": "7c59b5b1",
   "metadata": {},
   "outputs": [
    {
     "name": "stdout",
     "output_type": "stream",
     "text": [
      "    Name  Age\n",
      "0    Tom   28\n",
      "1   Jack   34\n",
      "2  Steve   29\n",
      "3  Ricky   42\n"
     ]
    }
   ],
   "source": [
    "data = {'Name':['Tom','Jack','Steve','Ricky'],'Age':[28,34,29,42]}\n",
    "df = pd.DataFrame(data)\n",
    "print(df)"
   ]
  },
  {
   "cell_type": "code",
   "execution_count": 102,
   "id": "41339b21",
   "metadata": {},
   "outputs": [
    {
     "name": "stdout",
     "output_type": "stream",
     "text": [
      "     a     b     c\n",
      "0  1.0   2.0   NaN\n",
      "1  5.0  10.0  20.0\n"
     ]
    }
   ],
   "source": [
    "# note = observe, NaN (Not a Number) is appended in missing areas.\n",
    "data = [{'a':1, 'b':2},{'a':5, 'b':10,'c':20}]\n",
    "df = pd.DataFrame(data,dtype=float)\n",
    "print(df)"
   ]
  },
  {
   "cell_type": "code",
   "execution_count": 103,
   "id": "d944997c",
   "metadata": {},
   "outputs": [
    {
     "name": "stdout",
     "output_type": "stream",
     "text": [
      "          a     b     c\n",
      "first   1.0   2.0   NaN\n",
      "second  5.0  10.0  20.0\n"
     ]
    }
   ],
   "source": [
    "data = [{'a':1, 'b':2},{'a':5, 'b':10,'c':20}]\n",
    "df = pd.DataFrame(data,index=['first','second'],dtype=float)\n",
    "print(df)"
   ]
  },
  {
   "cell_type": "code",
   "execution_count": 104,
   "id": "542dcc17",
   "metadata": {
    "scrolled": true
   },
   "outputs": [
    {
     "name": "stdout",
     "output_type": "stream",
     "text": [
      "        a   b\n",
      "first   1   2\n",
      "second  5  10\n"
     ]
    }
   ],
   "source": [
    "data = [{'a':1, 'b':2},{'a':5, 'b':10,'c':20}]\n",
    "# with two column indices, values same as dictionary keys\n",
    "df1 = pd.DataFrame(data,index=['first','second'],columns=['a','b'])\n",
    "print(df1)"
   ]
  },
  {
   "cell_type": "code",
   "execution_count": 107,
   "id": "9526b946",
   "metadata": {},
   "outputs": [
    {
     "name": "stdout",
     "output_type": "stream",
     "text": [
      "        a  b1\n",
      "first   1 NaN\n",
      "second  5 NaN\n"
     ]
    }
   ],
   "source": [
    "data = [{'a':1, 'b':2},{'a':5, 'b':10,'c':20}]\n",
    "# with two column indices, values same as dictionary keys\n",
    "df1 = pd.DataFrame(data,index=['first','second'],columns=['a','b1'])     # we cann't find b1 because it is not present our dict\n",
    "print(df1)"
   ]
  },
  {
   "cell_type": "code",
   "execution_count": 116,
   "id": "a9f4fdb3",
   "metadata": {},
   "outputs": [
    {
     "name": "stdout",
     "output_type": "stream",
     "text": [
      "        a  b1\n",
      "first   1 NaN\n",
      "second  5 NaN\n"
     ]
    }
   ],
   "source": [
    "data = [{'a':1, 'b':2},{'a':5, 'b':10,'c':20}]\n",
    "# with two column indices with one index with other name\n",
    "df2 = pd.DataFrame(data,index=['first','second'],columns=['a','b1'])\n",
    "print(df2)"
   ]
  },
  {
   "cell_type": "code",
   "execution_count": 110,
   "id": "ffcd86fb",
   "metadata": {},
   "outputs": [
    {
     "data": {
      "text/html": [
       "<div>\n",
       "<style scoped>\n",
       "    .dataframe tbody tr th:only-of-type {\n",
       "        vertical-align: middle;\n",
       "    }\n",
       "\n",
       "    .dataframe tbody tr th {\n",
       "        vertical-align: top;\n",
       "    }\n",
       "\n",
       "    .dataframe thead th {\n",
       "        text-align: right;\n",
       "    }\n",
       "</style>\n",
       "<table border=\"1\" class=\"dataframe\">\n",
       "  <thead>\n",
       "    <tr style=\"text-align: right;\">\n",
       "      <th></th>\n",
       "      <th>id</th>\n",
       "      <th>Name</th>\n",
       "      <th>Age</th>\n",
       "    </tr>\n",
       "  </thead>\n",
       "  <tbody>\n",
       "    <tr>\n",
       "      <th>0</th>\n",
       "      <td>1</td>\n",
       "      <td>Harry</td>\n",
       "      <td>12</td>\n",
       "    </tr>\n",
       "    <tr>\n",
       "      <th>1</th>\n",
       "      <td>2</td>\n",
       "      <td>Smith</td>\n",
       "      <td>13</td>\n",
       "    </tr>\n",
       "    <tr>\n",
       "      <th>2</th>\n",
       "      <td>3</td>\n",
       "      <td>Jack</td>\n",
       "      <td>14</td>\n",
       "    </tr>\n",
       "  </tbody>\n",
       "</table>\n",
       "</div>"
      ],
      "text/plain": [
       "   id   Name  Age\n",
       "0   1  Harry   12\n",
       "1   2  Smith   13\n",
       "2   3   Jack   14"
      ]
     },
     "execution_count": 110,
     "metadata": {},
     "output_type": "execute_result"
    }
   ],
   "source": [
    "k"
   ]
  },
  {
   "cell_type": "code",
   "execution_count": 111,
   "id": "c9202778",
   "metadata": {},
   "outputs": [
    {
     "data": {
      "text/html": [
       "<div>\n",
       "<style scoped>\n",
       "    .dataframe tbody tr th:only-of-type {\n",
       "        vertical-align: middle;\n",
       "    }\n",
       "\n",
       "    .dataframe tbody tr th {\n",
       "        vertical-align: top;\n",
       "    }\n",
       "\n",
       "    .dataframe thead th {\n",
       "        text-align: right;\n",
       "    }\n",
       "</style>\n",
       "<table border=\"1\" class=\"dataframe\">\n",
       "  <thead>\n",
       "    <tr style=\"text-align: right;\">\n",
       "      <th></th>\n",
       "      <th>id</th>\n",
       "      <th>Name</th>\n",
       "    </tr>\n",
       "  </thead>\n",
       "  <tbody>\n",
       "    <tr>\n",
       "      <th>0</th>\n",
       "      <td>1</td>\n",
       "      <td>Harry</td>\n",
       "    </tr>\n",
       "    <tr>\n",
       "      <th>1</th>\n",
       "      <td>2</td>\n",
       "      <td>Smith</td>\n",
       "    </tr>\n",
       "    <tr>\n",
       "      <th>2</th>\n",
       "      <td>3</td>\n",
       "      <td>Jack</td>\n",
       "    </tr>\n",
       "  </tbody>\n",
       "</table>\n",
       "</div>"
      ],
      "text/plain": [
       "   id   Name\n",
       "0   1  Harry\n",
       "1   2  Smith\n",
       "2   3   Jack"
      ]
     },
     "execution_count": 111,
     "metadata": {},
     "output_type": "execute_result"
    }
   ],
   "source": [
    "k = pd.DataFrame(data=dict2,columns=['id','Name'])\n",
    "k"
   ]
  },
  {
   "cell_type": "code",
   "execution_count": 112,
   "id": "198dfc7f",
   "metadata": {},
   "outputs": [
    {
     "data": {
      "text/html": [
       "<div>\n",
       "<style scoped>\n",
       "    .dataframe tbody tr th:only-of-type {\n",
       "        vertical-align: middle;\n",
       "    }\n",
       "\n",
       "    .dataframe tbody tr th {\n",
       "        vertical-align: top;\n",
       "    }\n",
       "\n",
       "    .dataframe thead th {\n",
       "        text-align: right;\n",
       "    }\n",
       "</style>\n",
       "<table border=\"1\" class=\"dataframe\">\n",
       "  <thead>\n",
       "    <tr style=\"text-align: right;\">\n",
       "      <th></th>\n",
       "      <th>Name</th>\n",
       "      <th>Age</th>\n",
       "    </tr>\n",
       "  </thead>\n",
       "  <tbody>\n",
       "    <tr>\n",
       "      <th>0</th>\n",
       "      <td>Harry</td>\n",
       "      <td>12</td>\n",
       "    </tr>\n",
       "    <tr>\n",
       "      <th>1</th>\n",
       "      <td>Smith</td>\n",
       "      <td>13</td>\n",
       "    </tr>\n",
       "    <tr>\n",
       "      <th>2</th>\n",
       "      <td>Jack</td>\n",
       "      <td>14</td>\n",
       "    </tr>\n",
       "  </tbody>\n",
       "</table>\n",
       "</div>"
      ],
      "text/plain": [
       "    Name  Age\n",
       "0  Harry   12\n",
       "1  Smith   13\n",
       "2   Jack   14"
      ]
     },
     "execution_count": 112,
     "metadata": {},
     "output_type": "execute_result"
    }
   ],
   "source": [
    "k = pd.DataFrame(data=dict2,columns=['Name','Age'])\n",
    "k"
   ]
  },
  {
   "cell_type": "code",
   "execution_count": 114,
   "id": "e723a5ae",
   "metadata": {},
   "outputs": [
    {
     "data": {
      "text/html": [
       "<div>\n",
       "<style scoped>\n",
       "    .dataframe tbody tr th:only-of-type {\n",
       "        vertical-align: middle;\n",
       "    }\n",
       "\n",
       "    .dataframe tbody tr th {\n",
       "        vertical-align: top;\n",
       "    }\n",
       "\n",
       "    .dataframe thead th {\n",
       "        text-align: right;\n",
       "    }\n",
       "</style>\n",
       "<table border=\"1\" class=\"dataframe\">\n",
       "  <thead>\n",
       "    <tr style=\"text-align: right;\">\n",
       "      <th></th>\n",
       "      <th>Name</th>\n",
       "      <th>Age</th>\n",
       "      <th>grade</th>\n",
       "    </tr>\n",
       "  </thead>\n",
       "  <tbody>\n",
       "    <tr>\n",
       "      <th>0</th>\n",
       "      <td>Harry</td>\n",
       "      <td>12</td>\n",
       "      <td>NaN</td>\n",
       "    </tr>\n",
       "    <tr>\n",
       "      <th>1</th>\n",
       "      <td>Smith</td>\n",
       "      <td>13</td>\n",
       "      <td>NaN</td>\n",
       "    </tr>\n",
       "    <tr>\n",
       "      <th>2</th>\n",
       "      <td>Jack</td>\n",
       "      <td>14</td>\n",
       "      <td>NaN</td>\n",
       "    </tr>\n",
       "  </tbody>\n",
       "</table>\n",
       "</div>"
      ],
      "text/plain": [
       "    Name  Age grade\n",
       "0  Harry   12   NaN\n",
       "1  Smith   13   NaN\n",
       "2   Jack   14   NaN"
      ]
     },
     "execution_count": 114,
     "metadata": {},
     "output_type": "execute_result"
    }
   ],
   "source": [
    "k = pd.DataFrame(data=dict2,columns=['Name','Age','grade'])   # here, NaN value show because their was no present grade in our dict\n",
    "k"
   ]
  },
  {
   "cell_type": "code",
   "execution_count": 118,
   "id": "02ad9f2c",
   "metadata": {},
   "outputs": [
    {
     "data": {
      "text/html": [
       "<div>\n",
       "<style scoped>\n",
       "    .dataframe tbody tr th:only-of-type {\n",
       "        vertical-align: middle;\n",
       "    }\n",
       "\n",
       "    .dataframe tbody tr th {\n",
       "        vertical-align: top;\n",
       "    }\n",
       "\n",
       "    .dataframe thead th {\n",
       "        text-align: right;\n",
       "    }\n",
       "</style>\n",
       "<table border=\"1\" class=\"dataframe\">\n",
       "  <thead>\n",
       "    <tr style=\"text-align: right;\">\n",
       "      <th></th>\n",
       "      <th>A</th>\n",
       "      <th>B</th>\n",
       "      <th>C</th>\n",
       "      <th>D</th>\n",
       "    </tr>\n",
       "  </thead>\n",
       "  <tbody>\n",
       "    <tr>\n",
       "      <th>0</th>\n",
       "      <td>-1.669370</td>\n",
       "      <td>-0.772356</td>\n",
       "      <td>0.599138</td>\n",
       "      <td>0.306977</td>\n",
       "    </tr>\n",
       "    <tr>\n",
       "      <th>1</th>\n",
       "      <td>-0.685944</td>\n",
       "      <td>0.767126</td>\n",
       "      <td>0.399563</td>\n",
       "      <td>0.675230</td>\n",
       "    </tr>\n",
       "    <tr>\n",
       "      <th>2</th>\n",
       "      <td>0.449081</td>\n",
       "      <td>1.023584</td>\n",
       "      <td>-0.305899</td>\n",
       "      <td>-0.633161</td>\n",
       "    </tr>\n",
       "    <tr>\n",
       "      <th>3</th>\n",
       "      <td>-0.329997</td>\n",
       "      <td>-0.811069</td>\n",
       "      <td>-1.491843</td>\n",
       "      <td>-0.997384</td>\n",
       "    </tr>\n",
       "    <tr>\n",
       "      <th>4</th>\n",
       "      <td>1.635966</td>\n",
       "      <td>-0.735619</td>\n",
       "      <td>-1.549691</td>\n",
       "      <td>-1.124293</td>\n",
       "    </tr>\n",
       "    <tr>\n",
       "      <th>5</th>\n",
       "      <td>0.306685</td>\n",
       "      <td>0.141610</td>\n",
       "      <td>1.324232</td>\n",
       "      <td>0.438780</td>\n",
       "    </tr>\n",
       "    <tr>\n",
       "      <th>6</th>\n",
       "      <td>-0.138212</td>\n",
       "      <td>0.815488</td>\n",
       "      <td>0.966620</td>\n",
       "      <td>0.892644</td>\n",
       "    </tr>\n",
       "    <tr>\n",
       "      <th>7</th>\n",
       "      <td>0.174959</td>\n",
       "      <td>2.685583</td>\n",
       "      <td>-0.096587</td>\n",
       "      <td>-0.277303</td>\n",
       "    </tr>\n",
       "  </tbody>\n",
       "</table>\n",
       "</div>"
      ],
      "text/plain": [
       "          A         B         C         D\n",
       "0 -1.669370 -0.772356  0.599138  0.306977\n",
       "1 -0.685944  0.767126  0.399563  0.675230\n",
       "2  0.449081  1.023584 -0.305899 -0.633161\n",
       "3 -0.329997 -0.811069 -1.491843 -0.997384\n",
       "4  1.635966 -0.735619 -1.549691 -1.124293\n",
       "5  0.306685  0.141610  1.324232  0.438780\n",
       "6 -0.138212  0.815488  0.966620  0.892644\n",
       "7  0.174959  2.685583 -0.096587 -0.277303"
      ]
     },
     "execution_count": 118,
     "metadata": {},
     "output_type": "execute_result"
    }
   ],
   "source": [
    "df = pd.DataFrame(np.random.randn(8,4),columns=['A','B','C','D'])\n",
    "df"
   ]
  },
  {
   "cell_type": "code",
   "execution_count": 119,
   "id": "177e36d7",
   "metadata": {},
   "outputs": [
    {
     "data": {
      "text/plain": [
       "0   -1.669370\n",
       "1   -0.685944\n",
       "2    0.449081\n",
       "3   -0.329997\n",
       "4    1.635966\n",
       "5    0.306685\n",
       "6   -0.138212\n",
       "7    0.174959\n",
       "Name: A, dtype: float64"
      ]
     },
     "execution_count": 119,
     "metadata": {},
     "output_type": "execute_result"
    }
   ],
   "source": [
    "df.loc[:,'A']    "
   ]
  },
  {
   "cell_type": "code",
   "execution_count": 120,
   "id": "4c81a325",
   "metadata": {},
   "outputs": [
    {
     "data": {
      "text/plain": [
       "0   -0.772356\n",
       "1    0.767126\n",
       "2    1.023584\n",
       "3   -0.811069\n",
       "4   -0.735619\n",
       "5    0.141610\n",
       "6    0.815488\n",
       "7    2.685583\n",
       "Name: B, dtype: float64"
      ]
     },
     "execution_count": 120,
     "metadata": {},
     "output_type": "execute_result"
    }
   ],
   "source": [
    "df.loc[:,'B']"
   ]
  },
  {
   "cell_type": "code",
   "execution_count": 122,
   "id": "42ad678e",
   "metadata": {},
   "outputs": [
    {
     "data": {
      "text/html": [
       "<div>\n",
       "<style scoped>\n",
       "    .dataframe tbody tr th:only-of-type {\n",
       "        vertical-align: middle;\n",
       "    }\n",
       "\n",
       "    .dataframe tbody tr th {\n",
       "        vertical-align: top;\n",
       "    }\n",
       "\n",
       "    .dataframe thead th {\n",
       "        text-align: right;\n",
       "    }\n",
       "</style>\n",
       "<table border=\"1\" class=\"dataframe\">\n",
       "  <thead>\n",
       "    <tr style=\"text-align: right;\">\n",
       "      <th></th>\n",
       "      <th>A</th>\n",
       "      <th>B</th>\n",
       "      <th>C</th>\n",
       "      <th>D</th>\n",
       "    </tr>\n",
       "  </thead>\n",
       "  <tbody>\n",
       "  </tbody>\n",
       "</table>\n",
       "</div>"
      ],
      "text/plain": [
       "Empty DataFrame\n",
       "Columns: [A, B, C, D]\n",
       "Index: []"
      ]
     },
     "execution_count": 122,
     "metadata": {},
     "output_type": "execute_result"
    }
   ],
   "source": [
    "df.loc['C':'D']"
   ]
  },
  {
   "cell_type": "code",
   "execution_count": 123,
   "id": "6c49d558",
   "metadata": {},
   "outputs": [
    {
     "data": {
      "text/html": [
       "<div>\n",
       "<style scoped>\n",
       "    .dataframe tbody tr th:only-of-type {\n",
       "        vertical-align: middle;\n",
       "    }\n",
       "\n",
       "    .dataframe tbody tr th {\n",
       "        vertical-align: top;\n",
       "    }\n",
       "\n",
       "    .dataframe thead th {\n",
       "        text-align: right;\n",
       "    }\n",
       "</style>\n",
       "<table border=\"1\" class=\"dataframe\">\n",
       "  <thead>\n",
       "    <tr style=\"text-align: right;\">\n",
       "      <th></th>\n",
       "      <th>C</th>\n",
       "      <th>D</th>\n",
       "    </tr>\n",
       "  </thead>\n",
       "  <tbody>\n",
       "    <tr>\n",
       "      <th>0</th>\n",
       "      <td>0.599138</td>\n",
       "      <td>0.306977</td>\n",
       "    </tr>\n",
       "    <tr>\n",
       "      <th>1</th>\n",
       "      <td>0.399563</td>\n",
       "      <td>0.675230</td>\n",
       "    </tr>\n",
       "    <tr>\n",
       "      <th>2</th>\n",
       "      <td>-0.305899</td>\n",
       "      <td>-0.633161</td>\n",
       "    </tr>\n",
       "    <tr>\n",
       "      <th>3</th>\n",
       "      <td>-1.491843</td>\n",
       "      <td>-0.997384</td>\n",
       "    </tr>\n",
       "    <tr>\n",
       "      <th>4</th>\n",
       "      <td>-1.549691</td>\n",
       "      <td>-1.124293</td>\n",
       "    </tr>\n",
       "    <tr>\n",
       "      <th>5</th>\n",
       "      <td>1.324232</td>\n",
       "      <td>0.438780</td>\n",
       "    </tr>\n",
       "    <tr>\n",
       "      <th>6</th>\n",
       "      <td>0.966620</td>\n",
       "      <td>0.892644</td>\n",
       "    </tr>\n",
       "    <tr>\n",
       "      <th>7</th>\n",
       "      <td>-0.096587</td>\n",
       "      <td>-0.277303</td>\n",
       "    </tr>\n",
       "  </tbody>\n",
       "</table>\n",
       "</div>"
      ],
      "text/plain": [
       "          C         D\n",
       "0  0.599138  0.306977\n",
       "1  0.399563  0.675230\n",
       "2 -0.305899 -0.633161\n",
       "3 -1.491843 -0.997384\n",
       "4 -1.549691 -1.124293\n",
       "5  1.324232  0.438780\n",
       "6  0.966620  0.892644\n",
       "7 -0.096587 -0.277303"
      ]
     },
     "execution_count": 123,
     "metadata": {},
     "output_type": "execute_result"
    }
   ],
   "source": [
    "df.loc[:,['C','D']]"
   ]
  },
  {
   "cell_type": "code",
   "execution_count": 124,
   "id": "1683e558",
   "metadata": {},
   "outputs": [
    {
     "data": {
      "text/html": [
       "<div>\n",
       "<style scoped>\n",
       "    .dataframe tbody tr th:only-of-type {\n",
       "        vertical-align: middle;\n",
       "    }\n",
       "\n",
       "    .dataframe tbody tr th {\n",
       "        vertical-align: top;\n",
       "    }\n",
       "\n",
       "    .dataframe thead th {\n",
       "        text-align: right;\n",
       "    }\n",
       "</style>\n",
       "<table border=\"1\" class=\"dataframe\">\n",
       "  <thead>\n",
       "    <tr style=\"text-align: right;\">\n",
       "      <th></th>\n",
       "      <th>B</th>\n",
       "      <th>C</th>\n",
       "      <th>D</th>\n",
       "    </tr>\n",
       "  </thead>\n",
       "  <tbody>\n",
       "    <tr>\n",
       "      <th>0</th>\n",
       "      <td>-0.772356</td>\n",
       "      <td>0.599138</td>\n",
       "      <td>0.306977</td>\n",
       "    </tr>\n",
       "    <tr>\n",
       "      <th>1</th>\n",
       "      <td>0.767126</td>\n",
       "      <td>0.399563</td>\n",
       "      <td>0.675230</td>\n",
       "    </tr>\n",
       "    <tr>\n",
       "      <th>2</th>\n",
       "      <td>1.023584</td>\n",
       "      <td>-0.305899</td>\n",
       "      <td>-0.633161</td>\n",
       "    </tr>\n",
       "    <tr>\n",
       "      <th>3</th>\n",
       "      <td>-0.811069</td>\n",
       "      <td>-1.491843</td>\n",
       "      <td>-0.997384</td>\n",
       "    </tr>\n",
       "    <tr>\n",
       "      <th>4</th>\n",
       "      <td>-0.735619</td>\n",
       "      <td>-1.549691</td>\n",
       "      <td>-1.124293</td>\n",
       "    </tr>\n",
       "    <tr>\n",
       "      <th>5</th>\n",
       "      <td>0.141610</td>\n",
       "      <td>1.324232</td>\n",
       "      <td>0.438780</td>\n",
       "    </tr>\n",
       "    <tr>\n",
       "      <th>6</th>\n",
       "      <td>0.815488</td>\n",
       "      <td>0.966620</td>\n",
       "      <td>0.892644</td>\n",
       "    </tr>\n",
       "    <tr>\n",
       "      <th>7</th>\n",
       "      <td>2.685583</td>\n",
       "      <td>-0.096587</td>\n",
       "      <td>-0.277303</td>\n",
       "    </tr>\n",
       "  </tbody>\n",
       "</table>\n",
       "</div>"
      ],
      "text/plain": [
       "          B         C         D\n",
       "0 -0.772356  0.599138  0.306977\n",
       "1  0.767126  0.399563  0.675230\n",
       "2  1.023584 -0.305899 -0.633161\n",
       "3 -0.811069 -1.491843 -0.997384\n",
       "4 -0.735619 -1.549691 -1.124293\n",
       "5  0.141610  1.324232  0.438780\n",
       "6  0.815488  0.966620  0.892644\n",
       "7  2.685583 -0.096587 -0.277303"
      ]
     },
     "execution_count": 124,
     "metadata": {},
     "output_type": "execute_result"
    }
   ],
   "source": [
    "df.loc[:,['B','C','D']]"
   ]
  },
  {
   "cell_type": "code",
   "execution_count": 127,
   "id": "fed7f437",
   "metadata": {},
   "outputs": [
    {
     "data": {
      "text/plain": [
       "0   -1.669370\n",
       "1   -0.685944\n",
       "2    0.449081\n",
       "3   -0.329997\n",
       "4    1.635966\n",
       "5    0.306685\n",
       "6   -0.138212\n",
       "7    0.174959\n",
       "Name: A, dtype: float64"
      ]
     },
     "execution_count": 127,
     "metadata": {},
     "output_type": "execute_result"
    }
   ],
   "source": [
    "df.iloc[:,0]   # i means index and we can check with index"
   ]
  },
  {
   "cell_type": "code",
   "execution_count": 128,
   "id": "930f28bc",
   "metadata": {},
   "outputs": [
    {
     "data": {
      "text/html": [
       "<div>\n",
       "<style scoped>\n",
       "    .dataframe tbody tr th:only-of-type {\n",
       "        vertical-align: middle;\n",
       "    }\n",
       "\n",
       "    .dataframe tbody tr th {\n",
       "        vertical-align: top;\n",
       "    }\n",
       "\n",
       "    .dataframe thead th {\n",
       "        text-align: right;\n",
       "    }\n",
       "</style>\n",
       "<table border=\"1\" class=\"dataframe\">\n",
       "  <thead>\n",
       "    <tr style=\"text-align: right;\">\n",
       "      <th></th>\n",
       "      <th>A</th>\n",
       "      <th>B</th>\n",
       "      <th>C</th>\n",
       "    </tr>\n",
       "  </thead>\n",
       "  <tbody>\n",
       "    <tr>\n",
       "      <th>0</th>\n",
       "      <td>-1.669370</td>\n",
       "      <td>-0.772356</td>\n",
       "      <td>0.599138</td>\n",
       "    </tr>\n",
       "    <tr>\n",
       "      <th>1</th>\n",
       "      <td>-0.685944</td>\n",
       "      <td>0.767126</td>\n",
       "      <td>0.399563</td>\n",
       "    </tr>\n",
       "    <tr>\n",
       "      <th>2</th>\n",
       "      <td>0.449081</td>\n",
       "      <td>1.023584</td>\n",
       "      <td>-0.305899</td>\n",
       "    </tr>\n",
       "    <tr>\n",
       "      <th>3</th>\n",
       "      <td>-0.329997</td>\n",
       "      <td>-0.811069</td>\n",
       "      <td>-1.491843</td>\n",
       "    </tr>\n",
       "  </tbody>\n",
       "</table>\n",
       "</div>"
      ],
      "text/plain": [
       "          A         B         C\n",
       "0 -1.669370 -0.772356  0.599138\n",
       "1 -0.685944  0.767126  0.399563\n",
       "2  0.449081  1.023584 -0.305899\n",
       "3 -0.329997 -0.811069 -1.491843"
      ]
     },
     "execution_count": 128,
     "metadata": {},
     "output_type": "execute_result"
    }
   ],
   "source": [
    "df.iloc[0:4,0:3]    # 0:4 is a starting no coloum and 0:3 is end no of rows"
   ]
  },
  {
   "cell_type": "code",
   "execution_count": 129,
   "id": "e2d830cd",
   "metadata": {},
   "outputs": [
    {
     "data": {
      "text/html": [
       "<div>\n",
       "<style scoped>\n",
       "    .dataframe tbody tr th:only-of-type {\n",
       "        vertical-align: middle;\n",
       "    }\n",
       "\n",
       "    .dataframe tbody tr th {\n",
       "        vertical-align: top;\n",
       "    }\n",
       "\n",
       "    .dataframe thead th {\n",
       "        text-align: right;\n",
       "    }\n",
       "</style>\n",
       "<table border=\"1\" class=\"dataframe\">\n",
       "  <thead>\n",
       "    <tr style=\"text-align: right;\">\n",
       "      <th></th>\n",
       "      <th>A</th>\n",
       "      <th>B</th>\n",
       "    </tr>\n",
       "  </thead>\n",
       "  <tbody>\n",
       "    <tr>\n",
       "      <th>2</th>\n",
       "      <td>0.449081</td>\n",
       "      <td>1.023584</td>\n",
       "    </tr>\n",
       "    <tr>\n",
       "      <th>3</th>\n",
       "      <td>-0.329997</td>\n",
       "      <td>-0.811069</td>\n",
       "    </tr>\n",
       "    <tr>\n",
       "      <th>4</th>\n",
       "      <td>1.635966</td>\n",
       "      <td>-0.735619</td>\n",
       "    </tr>\n",
       "    <tr>\n",
       "      <th>5</th>\n",
       "      <td>0.306685</td>\n",
       "      <td>0.141610</td>\n",
       "    </tr>\n",
       "  </tbody>\n",
       "</table>\n",
       "</div>"
      ],
      "text/plain": [
       "          A         B\n",
       "2  0.449081  1.023584\n",
       "3 -0.329997 -0.811069\n",
       "4  1.635966 -0.735619\n",
       "5  0.306685  0.141610"
      ]
     },
     "execution_count": 129,
     "metadata": {},
     "output_type": "execute_result"
    }
   ],
   "source": [
    "df.iloc[2:6,0:2]"
   ]
  },
  {
   "cell_type": "code",
   "execution_count": 130,
   "id": "869fa5d5",
   "metadata": {},
   "outputs": [
    {
     "data": {
      "text/plain": [
       "2   -0.633161\n",
       "3   -0.997384\n",
       "4   -1.124293\n",
       "5    0.438780\n",
       "Name: D, dtype: float64"
      ]
     },
     "execution_count": 130,
     "metadata": {},
     "output_type": "execute_result"
    }
   ],
   "source": [
    "df.iloc[2:6,3]"
   ]
  },
  {
   "cell_type": "code",
   "execution_count": 132,
   "id": "b94cf142",
   "metadata": {},
   "outputs": [
    {
     "data": {
      "text/html": [
       "<div>\n",
       "<style scoped>\n",
       "    .dataframe tbody tr th:only-of-type {\n",
       "        vertical-align: middle;\n",
       "    }\n",
       "\n",
       "    .dataframe tbody tr th {\n",
       "        vertical-align: top;\n",
       "    }\n",
       "\n",
       "    .dataframe thead th {\n",
       "        text-align: right;\n",
       "    }\n",
       "</style>\n",
       "<table border=\"1\" class=\"dataframe\">\n",
       "  <thead>\n",
       "    <tr style=\"text-align: right;\">\n",
       "      <th></th>\n",
       "      <th>B</th>\n",
       "      <th>C</th>\n",
       "    </tr>\n",
       "  </thead>\n",
       "  <tbody>\n",
       "    <tr>\n",
       "      <th>3</th>\n",
       "      <td>-0.811069</td>\n",
       "      <td>-1.491843</td>\n",
       "    </tr>\n",
       "    <tr>\n",
       "      <th>4</th>\n",
       "      <td>-0.735619</td>\n",
       "      <td>-1.549691</td>\n",
       "    </tr>\n",
       "    <tr>\n",
       "      <th>5</th>\n",
       "      <td>0.141610</td>\n",
       "      <td>1.324232</td>\n",
       "    </tr>\n",
       "    <tr>\n",
       "      <th>6</th>\n",
       "      <td>0.815488</td>\n",
       "      <td>0.966620</td>\n",
       "    </tr>\n",
       "  </tbody>\n",
       "</table>\n",
       "</div>"
      ],
      "text/plain": [
       "          B         C\n",
       "3 -0.811069 -1.491843\n",
       "4 -0.735619 -1.549691\n",
       "5  0.141610  1.324232\n",
       "6  0.815488  0.966620"
      ]
     },
     "execution_count": 132,
     "metadata": {},
     "output_type": "execute_result"
    }
   ],
   "source": [
    "df.iloc[3:7,1:3]"
   ]
  },
  {
   "cell_type": "code",
   "execution_count": 133,
   "id": "c50b0a9b",
   "metadata": {},
   "outputs": [
    {
     "data": {
      "text/html": [
       "<div>\n",
       "<style scoped>\n",
       "    .dataframe tbody tr th:only-of-type {\n",
       "        vertical-align: middle;\n",
       "    }\n",
       "\n",
       "    .dataframe tbody tr th {\n",
       "        vertical-align: top;\n",
       "    }\n",
       "\n",
       "    .dataframe thead th {\n",
       "        text-align: right;\n",
       "    }\n",
       "</style>\n",
       "<table border=\"1\" class=\"dataframe\">\n",
       "  <thead>\n",
       "    <tr style=\"text-align: right;\">\n",
       "      <th></th>\n",
       "      <th>A</th>\n",
       "      <th>B</th>\n",
       "      <th>C</th>\n",
       "      <th>D</th>\n",
       "    </tr>\n",
       "  </thead>\n",
       "  <tbody>\n",
       "    <tr>\n",
       "      <th>0</th>\n",
       "      <td>-1.669370</td>\n",
       "      <td>-0.772356</td>\n",
       "      <td>0.599138</td>\n",
       "      <td>0.306977</td>\n",
       "    </tr>\n",
       "    <tr>\n",
       "      <th>1</th>\n",
       "      <td>-0.685944</td>\n",
       "      <td>0.767126</td>\n",
       "      <td>0.399563</td>\n",
       "      <td>0.675230</td>\n",
       "    </tr>\n",
       "    <tr>\n",
       "      <th>2</th>\n",
       "      <td>0.449081</td>\n",
       "      <td>1.023584</td>\n",
       "      <td>-0.305899</td>\n",
       "      <td>-0.633161</td>\n",
       "    </tr>\n",
       "    <tr>\n",
       "      <th>3</th>\n",
       "      <td>-0.329997</td>\n",
       "      <td>-0.811069</td>\n",
       "      <td>-1.491843</td>\n",
       "      <td>-0.997384</td>\n",
       "    </tr>\n",
       "    <tr>\n",
       "      <th>4</th>\n",
       "      <td>1.635966</td>\n",
       "      <td>-0.735619</td>\n",
       "      <td>-1.549691</td>\n",
       "      <td>-1.124293</td>\n",
       "    </tr>\n",
       "    <tr>\n",
       "      <th>5</th>\n",
       "      <td>0.306685</td>\n",
       "      <td>0.141610</td>\n",
       "      <td>1.324232</td>\n",
       "      <td>0.438780</td>\n",
       "    </tr>\n",
       "    <tr>\n",
       "      <th>6</th>\n",
       "      <td>-0.138212</td>\n",
       "      <td>0.815488</td>\n",
       "      <td>0.966620</td>\n",
       "      <td>0.892644</td>\n",
       "    </tr>\n",
       "    <tr>\n",
       "      <th>7</th>\n",
       "      <td>0.174959</td>\n",
       "      <td>2.685583</td>\n",
       "      <td>-0.096587</td>\n",
       "      <td>-0.277303</td>\n",
       "    </tr>\n",
       "  </tbody>\n",
       "</table>\n",
       "</div>"
      ],
      "text/plain": [
       "          A         B         C         D\n",
       "0 -1.669370 -0.772356  0.599138  0.306977\n",
       "1 -0.685944  0.767126  0.399563  0.675230\n",
       "2  0.449081  1.023584 -0.305899 -0.633161\n",
       "3 -0.329997 -0.811069 -1.491843 -0.997384\n",
       "4  1.635966 -0.735619 -1.549691 -1.124293\n",
       "5  0.306685  0.141610  1.324232  0.438780\n",
       "6 -0.138212  0.815488  0.966620  0.892644\n",
       "7  0.174959  2.685583 -0.096587 -0.277303"
      ]
     },
     "execution_count": 133,
     "metadata": {},
     "output_type": "execute_result"
    }
   ],
   "source": [
    "df.iloc[:,:]   # show all data"
   ]
  },
  {
   "cell_type": "code",
   "execution_count": 134,
   "id": "9167c062",
   "metadata": {},
   "outputs": [
    {
     "data": {
      "text/plain": [
       "0   -0.772356\n",
       "1    0.767126\n",
       "2    1.023584\n",
       "3   -0.811069\n",
       "4   -0.735619\n",
       "5    0.141610\n",
       "6    0.815488\n",
       "7    2.685583\n",
       "Name: B, dtype: float64"
      ]
     },
     "execution_count": 134,
     "metadata": {},
     "output_type": "execute_result"
    }
   ],
   "source": [
    "df.iloc[:,1]"
   ]
  },
  {
   "cell_type": "code",
   "execution_count": 135,
   "id": "96cbce8a",
   "metadata": {},
   "outputs": [
    {
     "data": {
      "text/plain": [
       "0    0.306977\n",
       "1    0.675230\n",
       "2   -0.633161\n",
       "3   -0.997384\n",
       "4   -1.124293\n",
       "5    0.438780\n",
       "6    0.892644\n",
       "7   -0.277303\n",
       "Name: D, dtype: float64"
      ]
     },
     "execution_count": 135,
     "metadata": {},
     "output_type": "execute_result"
    }
   ],
   "source": [
    "df.iloc[:,3]  # all rows with third coloum"
   ]
  },
  {
   "cell_type": "code",
   "execution_count": 136,
   "id": "2006aaae",
   "metadata": {},
   "outputs": [
    {
     "data": {
      "text/plain": [
       "0    0.599138\n",
       "1    0.399563\n",
       "2   -0.305899\n",
       "3   -1.491843\n",
       "4   -1.549691\n",
       "5    1.324232\n",
       "6    0.966620\n",
       "7   -0.096587\n",
       "Name: C, dtype: float64"
      ]
     },
     "execution_count": 136,
     "metadata": {},
     "output_type": "execute_result"
    }
   ],
   "source": [
    "df.iloc[:,2]"
   ]
  },
  {
   "cell_type": "code",
   "execution_count": 137,
   "id": "3724b79e",
   "metadata": {},
   "outputs": [
    {
     "data": {
      "text/plain": [
       "-1.6693698758629627"
      ]
     },
     "execution_count": 137,
     "metadata": {},
     "output_type": "execute_result"
    }
   ],
   "source": [
    "df.iloc[0,0]"
   ]
  },
  {
   "cell_type": "code",
   "execution_count": 138,
   "id": "ac251ffe",
   "metadata": {},
   "outputs": [
    {
     "data": {
      "text/html": [
       "<div>\n",
       "<style scoped>\n",
       "    .dataframe tbody tr th:only-of-type {\n",
       "        vertical-align: middle;\n",
       "    }\n",
       "\n",
       "    .dataframe tbody tr th {\n",
       "        vertical-align: top;\n",
       "    }\n",
       "\n",
       "    .dataframe thead th {\n",
       "        text-align: right;\n",
       "    }\n",
       "</style>\n",
       "<table border=\"1\" class=\"dataframe\">\n",
       "  <thead>\n",
       "    <tr style=\"text-align: right;\">\n",
       "      <th></th>\n",
       "      <th>C</th>\n",
       "      <th>D</th>\n",
       "    </tr>\n",
       "  </thead>\n",
       "  <tbody>\n",
       "    <tr>\n",
       "      <th>0</th>\n",
       "      <td>0.599138</td>\n",
       "      <td>0.306977</td>\n",
       "    </tr>\n",
       "    <tr>\n",
       "      <th>1</th>\n",
       "      <td>0.399563</td>\n",
       "      <td>0.675230</td>\n",
       "    </tr>\n",
       "    <tr>\n",
       "      <th>2</th>\n",
       "      <td>-0.305899</td>\n",
       "      <td>-0.633161</td>\n",
       "    </tr>\n",
       "    <tr>\n",
       "      <th>3</th>\n",
       "      <td>-1.491843</td>\n",
       "      <td>-0.997384</td>\n",
       "    </tr>\n",
       "    <tr>\n",
       "      <th>4</th>\n",
       "      <td>-1.549691</td>\n",
       "      <td>-1.124293</td>\n",
       "    </tr>\n",
       "    <tr>\n",
       "      <th>5</th>\n",
       "      <td>1.324232</td>\n",
       "      <td>0.438780</td>\n",
       "    </tr>\n",
       "    <tr>\n",
       "      <th>6</th>\n",
       "      <td>0.966620</td>\n",
       "      <td>0.892644</td>\n",
       "    </tr>\n",
       "    <tr>\n",
       "      <th>7</th>\n",
       "      <td>-0.096587</td>\n",
       "      <td>-0.277303</td>\n",
       "    </tr>\n",
       "  </tbody>\n",
       "</table>\n",
       "</div>"
      ],
      "text/plain": [
       "          C         D\n",
       "0  0.599138  0.306977\n",
       "1  0.399563  0.675230\n",
       "2 -0.305899 -0.633161\n",
       "3 -1.491843 -0.997384\n",
       "4 -1.549691 -1.124293\n",
       "5  1.324232  0.438780\n",
       "6  0.966620  0.892644\n",
       "7 -0.096587 -0.277303"
      ]
     },
     "execution_count": 138,
     "metadata": {},
     "output_type": "execute_result"
    }
   ],
   "source": [
    "df.iloc[:,2:]"
   ]
  },
  {
   "cell_type": "code",
   "execution_count": 140,
   "id": "0054d0c9",
   "metadata": {},
   "outputs": [
    {
     "data": {
      "text/html": [
       "<div>\n",
       "<style scoped>\n",
       "    .dataframe tbody tr th:only-of-type {\n",
       "        vertical-align: middle;\n",
       "    }\n",
       "\n",
       "    .dataframe tbody tr th {\n",
       "        vertical-align: top;\n",
       "    }\n",
       "\n",
       "    .dataframe thead th {\n",
       "        text-align: right;\n",
       "    }\n",
       "</style>\n",
       "<table border=\"1\" class=\"dataframe\">\n",
       "  <thead>\n",
       "    <tr style=\"text-align: right;\">\n",
       "      <th></th>\n",
       "      <th>C</th>\n",
       "      <th>D</th>\n",
       "    </tr>\n",
       "  </thead>\n",
       "  <tbody>\n",
       "    <tr>\n",
       "      <th>0</th>\n",
       "      <td>0.599138</td>\n",
       "      <td>0.306977</td>\n",
       "    </tr>\n",
       "    <tr>\n",
       "      <th>1</th>\n",
       "      <td>0.399563</td>\n",
       "      <td>0.675230</td>\n",
       "    </tr>\n",
       "    <tr>\n",
       "      <th>2</th>\n",
       "      <td>-0.305899</td>\n",
       "      <td>-0.633161</td>\n",
       "    </tr>\n",
       "    <tr>\n",
       "      <th>3</th>\n",
       "      <td>-1.491843</td>\n",
       "      <td>-0.997384</td>\n",
       "    </tr>\n",
       "    <tr>\n",
       "      <th>4</th>\n",
       "      <td>-1.549691</td>\n",
       "      <td>-1.124293</td>\n",
       "    </tr>\n",
       "    <tr>\n",
       "      <th>5</th>\n",
       "      <td>1.324232</td>\n",
       "      <td>0.438780</td>\n",
       "    </tr>\n",
       "    <tr>\n",
       "      <th>6</th>\n",
       "      <td>0.966620</td>\n",
       "      <td>0.892644</td>\n",
       "    </tr>\n",
       "    <tr>\n",
       "      <th>7</th>\n",
       "      <td>-0.096587</td>\n",
       "      <td>-0.277303</td>\n",
       "    </tr>\n",
       "  </tbody>\n",
       "</table>\n",
       "</div>"
      ],
      "text/plain": [
       "          C         D\n",
       "0  0.599138  0.306977\n",
       "1  0.399563  0.675230\n",
       "2 -0.305899 -0.633161\n",
       "3 -1.491843 -0.997384\n",
       "4 -1.549691 -1.124293\n",
       "5  1.324232  0.438780\n",
       "6  0.966620  0.892644\n",
       "7 -0.096587 -0.277303"
      ]
     },
     "execution_count": 140,
     "metadata": {},
     "output_type": "execute_result"
    }
   ],
   "source": [
    "df.iloc[:,2:4]"
   ]
  },
  {
   "cell_type": "code",
   "execution_count": 141,
   "id": "9715957c",
   "metadata": {},
   "outputs": [
    {
     "data": {
      "text/html": [
       "<div>\n",
       "<style scoped>\n",
       "    .dataframe tbody tr th:only-of-type {\n",
       "        vertical-align: middle;\n",
       "    }\n",
       "\n",
       "    .dataframe tbody tr th {\n",
       "        vertical-align: top;\n",
       "    }\n",
       "\n",
       "    .dataframe thead th {\n",
       "        text-align: right;\n",
       "    }\n",
       "</style>\n",
       "<table border=\"1\" class=\"dataframe\">\n",
       "  <thead>\n",
       "    <tr style=\"text-align: right;\">\n",
       "      <th></th>\n",
       "      <th>A</th>\n",
       "      <th>B</th>\n",
       "    </tr>\n",
       "  </thead>\n",
       "  <tbody>\n",
       "    <tr>\n",
       "      <th>0</th>\n",
       "      <td>-1.669370</td>\n",
       "      <td>-0.772356</td>\n",
       "    </tr>\n",
       "    <tr>\n",
       "      <th>1</th>\n",
       "      <td>-0.685944</td>\n",
       "      <td>0.767126</td>\n",
       "    </tr>\n",
       "    <tr>\n",
       "      <th>2</th>\n",
       "      <td>0.449081</td>\n",
       "      <td>1.023584</td>\n",
       "    </tr>\n",
       "    <tr>\n",
       "      <th>3</th>\n",
       "      <td>-0.329997</td>\n",
       "      <td>-0.811069</td>\n",
       "    </tr>\n",
       "    <tr>\n",
       "      <th>4</th>\n",
       "      <td>1.635966</td>\n",
       "      <td>-0.735619</td>\n",
       "    </tr>\n",
       "  </tbody>\n",
       "</table>\n",
       "</div>"
      ],
      "text/plain": [
       "          A         B\n",
       "0 -1.669370 -0.772356\n",
       "1 -0.685944  0.767126\n",
       "2  0.449081  1.023584\n",
       "3 -0.329997 -0.811069\n",
       "4  1.635966 -0.735619"
      ]
     },
     "execution_count": 141,
     "metadata": {},
     "output_type": "execute_result"
    }
   ],
   "source": [
    "df.iloc[0:5,0:2]"
   ]
  },
  {
   "cell_type": "code",
   "execution_count": 142,
   "id": "fc91d39b",
   "metadata": {},
   "outputs": [
    {
     "data": {
      "text/html": [
       "<div>\n",
       "<style scoped>\n",
       "    .dataframe tbody tr th:only-of-type {\n",
       "        vertical-align: middle;\n",
       "    }\n",
       "\n",
       "    .dataframe tbody tr th {\n",
       "        vertical-align: top;\n",
       "    }\n",
       "\n",
       "    .dataframe thead th {\n",
       "        text-align: right;\n",
       "    }\n",
       "</style>\n",
       "<table border=\"1\" class=\"dataframe\">\n",
       "  <thead>\n",
       "    <tr style=\"text-align: right;\">\n",
       "      <th></th>\n",
       "      <th>A</th>\n",
       "      <th>B</th>\n",
       "      <th>C</th>\n",
       "    </tr>\n",
       "  </thead>\n",
       "  <tbody>\n",
       "    <tr>\n",
       "      <th>3</th>\n",
       "      <td>-0.329997</td>\n",
       "      <td>-0.811069</td>\n",
       "      <td>-1.491843</td>\n",
       "    </tr>\n",
       "    <tr>\n",
       "      <th>4</th>\n",
       "      <td>1.635966</td>\n",
       "      <td>-0.735619</td>\n",
       "      <td>-1.549691</td>\n",
       "    </tr>\n",
       "    <tr>\n",
       "      <th>5</th>\n",
       "      <td>0.306685</td>\n",
       "      <td>0.141610</td>\n",
       "      <td>1.324232</td>\n",
       "    </tr>\n",
       "    <tr>\n",
       "      <th>6</th>\n",
       "      <td>-0.138212</td>\n",
       "      <td>0.815488</td>\n",
       "      <td>0.966620</td>\n",
       "    </tr>\n",
       "  </tbody>\n",
       "</table>\n",
       "</div>"
      ],
      "text/plain": [
       "          A         B         C\n",
       "3 -0.329997 -0.811069 -1.491843\n",
       "4  1.635966 -0.735619 -1.549691\n",
       "5  0.306685  0.141610  1.324232\n",
       "6 -0.138212  0.815488  0.966620"
      ]
     },
     "execution_count": 142,
     "metadata": {},
     "output_type": "execute_result"
    }
   ],
   "source": [
    "df.iloc[3:7,0:3]"
   ]
  },
  {
   "cell_type": "code",
   "execution_count": 143,
   "id": "78d8098f",
   "metadata": {},
   "outputs": [
    {
     "data": {
      "text/html": [
       "<div>\n",
       "<style scoped>\n",
       "    .dataframe tbody tr th:only-of-type {\n",
       "        vertical-align: middle;\n",
       "    }\n",
       "\n",
       "    .dataframe tbody tr th {\n",
       "        vertical-align: top;\n",
       "    }\n",
       "\n",
       "    .dataframe thead th {\n",
       "        text-align: right;\n",
       "    }\n",
       "</style>\n",
       "<table border=\"1\" class=\"dataframe\">\n",
       "  <thead>\n",
       "    <tr style=\"text-align: right;\">\n",
       "      <th></th>\n",
       "      <th>A</th>\n",
       "      <th>B</th>\n",
       "      <th>C</th>\n",
       "      <th>D</th>\n",
       "    </tr>\n",
       "  </thead>\n",
       "  <tbody>\n",
       "    <tr>\n",
       "      <th>4</th>\n",
       "      <td>1.635966</td>\n",
       "      <td>-0.735619</td>\n",
       "      <td>-1.549691</td>\n",
       "      <td>-1.124293</td>\n",
       "    </tr>\n",
       "    <tr>\n",
       "      <th>5</th>\n",
       "      <td>0.306685</td>\n",
       "      <td>0.141610</td>\n",
       "      <td>1.324232</td>\n",
       "      <td>0.438780</td>\n",
       "    </tr>\n",
       "  </tbody>\n",
       "</table>\n",
       "</div>"
      ],
      "text/plain": [
       "          A         B         C         D\n",
       "4  1.635966 -0.735619 -1.549691 -1.124293\n",
       "5  0.306685  0.141610  1.324232  0.438780"
      ]
     },
     "execution_count": 143,
     "metadata": {},
     "output_type": "execute_result"
    }
   ],
   "source": [
    "df.iloc[4:6]"
   ]
  },
  {
   "cell_type": "code",
   "execution_count": 148,
   "id": "65ec7e8f",
   "metadata": {},
   "outputs": [
    {
     "data": {
      "text/html": [
       "<div>\n",
       "<style scoped>\n",
       "    .dataframe tbody tr th:only-of-type {\n",
       "        vertical-align: middle;\n",
       "    }\n",
       "\n",
       "    .dataframe tbody tr th {\n",
       "        vertical-align: top;\n",
       "    }\n",
       "\n",
       "    .dataframe thead th {\n",
       "        text-align: right;\n",
       "    }\n",
       "</style>\n",
       "<table border=\"1\" class=\"dataframe\">\n",
       "  <thead>\n",
       "    <tr style=\"text-align: right;\">\n",
       "      <th></th>\n",
       "      <th>B</th>\n",
       "      <th>C</th>\n",
       "    </tr>\n",
       "  </thead>\n",
       "  <tbody>\n",
       "    <tr>\n",
       "      <th>4</th>\n",
       "      <td>-0.735619</td>\n",
       "      <td>-1.549691</td>\n",
       "    </tr>\n",
       "    <tr>\n",
       "      <th>5</th>\n",
       "      <td>0.141610</td>\n",
       "      <td>1.324232</td>\n",
       "    </tr>\n",
       "  </tbody>\n",
       "</table>\n",
       "</div>"
      ],
      "text/plain": [
       "          B         C\n",
       "4 -0.735619 -1.549691\n",
       "5  0.141610  1.324232"
      ]
     },
     "execution_count": 148,
     "metadata": {},
     "output_type": "execute_result"
    }
   ],
   "source": [
    "df.iloc[4:6,1:3]"
   ]
  },
  {
   "cell_type": "code",
   "execution_count": 149,
   "id": "05d5c617",
   "metadata": {},
   "outputs": [
    {
     "data": {
      "text/html": [
       "<div>\n",
       "<style scoped>\n",
       "    .dataframe tbody tr th:only-of-type {\n",
       "        vertical-align: middle;\n",
       "    }\n",
       "\n",
       "    .dataframe tbody tr th {\n",
       "        vertical-align: top;\n",
       "    }\n",
       "\n",
       "    .dataframe thead th {\n",
       "        text-align: right;\n",
       "    }\n",
       "</style>\n",
       "<table border=\"1\" class=\"dataframe\">\n",
       "  <thead>\n",
       "    <tr style=\"text-align: right;\">\n",
       "      <th></th>\n",
       "      <th>A</th>\n",
       "      <th>B</th>\n",
       "      <th>C</th>\n",
       "      <th>D</th>\n",
       "    </tr>\n",
       "  </thead>\n",
       "  <tbody>\n",
       "    <tr>\n",
       "      <th>0</th>\n",
       "      <td>-1.669370</td>\n",
       "      <td>-0.772356</td>\n",
       "      <td>0.599138</td>\n",
       "      <td>0.306977</td>\n",
       "    </tr>\n",
       "    <tr>\n",
       "      <th>1</th>\n",
       "      <td>-0.685944</td>\n",
       "      <td>0.767126</td>\n",
       "      <td>0.399563</td>\n",
       "      <td>0.675230</td>\n",
       "    </tr>\n",
       "    <tr>\n",
       "      <th>2</th>\n",
       "      <td>0.449081</td>\n",
       "      <td>1.023584</td>\n",
       "      <td>-0.305899</td>\n",
       "      <td>-0.633161</td>\n",
       "    </tr>\n",
       "    <tr>\n",
       "      <th>3</th>\n",
       "      <td>-0.329997</td>\n",
       "      <td>-0.811069</td>\n",
       "      <td>-1.491843</td>\n",
       "      <td>-0.997384</td>\n",
       "    </tr>\n",
       "    <tr>\n",
       "      <th>4</th>\n",
       "      <td>1.635966</td>\n",
       "      <td>-0.735619</td>\n",
       "      <td>-1.549691</td>\n",
       "      <td>-1.124293</td>\n",
       "    </tr>\n",
       "    <tr>\n",
       "      <th>5</th>\n",
       "      <td>0.306685</td>\n",
       "      <td>0.141610</td>\n",
       "      <td>1.324232</td>\n",
       "      <td>0.438780</td>\n",
       "    </tr>\n",
       "    <tr>\n",
       "      <th>6</th>\n",
       "      <td>-0.138212</td>\n",
       "      <td>0.815488</td>\n",
       "      <td>0.966620</td>\n",
       "      <td>0.892644</td>\n",
       "    </tr>\n",
       "    <tr>\n",
       "      <th>7</th>\n",
       "      <td>0.174959</td>\n",
       "      <td>2.685583</td>\n",
       "      <td>-0.096587</td>\n",
       "      <td>-0.277303</td>\n",
       "    </tr>\n",
       "  </tbody>\n",
       "</table>\n",
       "</div>"
      ],
      "text/plain": [
       "          A         B         C         D\n",
       "0 -1.669370 -0.772356  0.599138  0.306977\n",
       "1 -0.685944  0.767126  0.399563  0.675230\n",
       "2  0.449081  1.023584 -0.305899 -0.633161\n",
       "3 -0.329997 -0.811069 -1.491843 -0.997384\n",
       "4  1.635966 -0.735619 -1.549691 -1.124293\n",
       "5  0.306685  0.141610  1.324232  0.438780\n",
       "6 -0.138212  0.815488  0.966620  0.892644\n",
       "7  0.174959  2.685583 -0.096587 -0.277303"
      ]
     },
     "execution_count": 149,
     "metadata": {},
     "output_type": "execute_result"
    }
   ],
   "source": [
    "df.iloc[0:,0:]   # show all data"
   ]
  },
  {
   "cell_type": "code",
   "execution_count": 150,
   "id": "ae510e45",
   "metadata": {},
   "outputs": [
    {
     "data": {
      "text/html": [
       "<div>\n",
       "<style scoped>\n",
       "    .dataframe tbody tr th:only-of-type {\n",
       "        vertical-align: middle;\n",
       "    }\n",
       "\n",
       "    .dataframe tbody tr th {\n",
       "        vertical-align: top;\n",
       "    }\n",
       "\n",
       "    .dataframe thead th {\n",
       "        text-align: right;\n",
       "    }\n",
       "</style>\n",
       "<table border=\"1\" class=\"dataframe\">\n",
       "  <thead>\n",
       "    <tr style=\"text-align: right;\">\n",
       "      <th></th>\n",
       "      <th>A</th>\n",
       "      <th>B</th>\n",
       "      <th>C</th>\n",
       "    </tr>\n",
       "  </thead>\n",
       "  <tbody>\n",
       "    <tr>\n",
       "      <th>0</th>\n",
       "      <td>-1.669370</td>\n",
       "      <td>-0.772356</td>\n",
       "      <td>0.599138</td>\n",
       "    </tr>\n",
       "    <tr>\n",
       "      <th>1</th>\n",
       "      <td>-0.685944</td>\n",
       "      <td>0.767126</td>\n",
       "      <td>0.399563</td>\n",
       "    </tr>\n",
       "    <tr>\n",
       "      <th>2</th>\n",
       "      <td>0.449081</td>\n",
       "      <td>1.023584</td>\n",
       "      <td>-0.305899</td>\n",
       "    </tr>\n",
       "    <tr>\n",
       "      <th>3</th>\n",
       "      <td>-0.329997</td>\n",
       "      <td>-0.811069</td>\n",
       "      <td>-1.491843</td>\n",
       "    </tr>\n",
       "    <tr>\n",
       "      <th>4</th>\n",
       "      <td>1.635966</td>\n",
       "      <td>-0.735619</td>\n",
       "      <td>-1.549691</td>\n",
       "    </tr>\n",
       "    <tr>\n",
       "      <th>5</th>\n",
       "      <td>0.306685</td>\n",
       "      <td>0.141610</td>\n",
       "      <td>1.324232</td>\n",
       "    </tr>\n",
       "    <tr>\n",
       "      <th>6</th>\n",
       "      <td>-0.138212</td>\n",
       "      <td>0.815488</td>\n",
       "      <td>0.966620</td>\n",
       "    </tr>\n",
       "  </tbody>\n",
       "</table>\n",
       "</div>"
      ],
      "text/plain": [
       "          A         B         C\n",
       "0 -1.669370 -0.772356  0.599138\n",
       "1 -0.685944  0.767126  0.399563\n",
       "2  0.449081  1.023584 -0.305899\n",
       "3 -0.329997 -0.811069 -1.491843\n",
       "4  1.635966 -0.735619 -1.549691\n",
       "5  0.306685  0.141610  1.324232\n",
       "6 -0.138212  0.815488  0.966620"
      ]
     },
     "execution_count": 150,
     "metadata": {},
     "output_type": "execute_result"
    }
   ],
   "source": [
    "df.iloc[:7,:3]"
   ]
  }
 ],
 "metadata": {
  "kernelspec": {
   "display_name": "Python 3 (ipykernel)",
   "language": "python",
   "name": "python3"
  },
  "language_info": {
   "codemirror_mode": {
    "name": "ipython",
    "version": 3
   },
   "file_extension": ".py",
   "mimetype": "text/x-python",
   "name": "python",
   "nbconvert_exporter": "python",
   "pygments_lexer": "ipython3",
   "version": "3.9.12"
  }
 },
 "nbformat": 4,
 "nbformat_minor": 5
}
