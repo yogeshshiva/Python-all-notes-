{
 "cells": [
  {
   "cell_type": "markdown",
   "id": "8dd8c341",
   "metadata": {},
   "source": [
    "# LIST"
   ]
  },
  {
   "cell_type": "code",
   "execution_count": 1,
   "id": "878fa5f5",
   "metadata": {},
   "outputs": [
    {
     "data": {
      "text/plain": [
       "['Mercury', 'Venus', 'Earth', 'Mars']"
      ]
     },
     "execution_count": 1,
     "metadata": {},
     "output_type": "execute_result"
    }
   ],
   "source": [
    "planetlist =   [\"Mercury\", \"Venus\", \"Earth\", \"Mars\"]\n",
    "planetlist"
   ]
  },
  {
   "cell_type": "code",
   "execution_count": 2,
   "id": "b94dcacb",
   "metadata": {},
   "outputs": [
    {
     "data": {
      "text/plain": [
       "4"
      ]
     },
     "execution_count": 2,
     "metadata": {},
     "output_type": "execute_result"
    }
   ],
   "source": [
    "len(planetlist)"
   ]
  },
  {
   "cell_type": "code",
   "execution_count": 3,
   "id": "f8ceeb37",
   "metadata": {},
   "outputs": [
    {
     "data": {
      "text/plain": [
       "['Mercury', 'Venus', 'Earth', 'Mars', 'Saturn']"
      ]
     },
     "execution_count": 3,
     "metadata": {},
     "output_type": "execute_result"
    }
   ],
   "source": [
    "planetlist.append(\"Saturn\")\n",
    "planetlist"
   ]
  },
  {
   "cell_type": "code",
   "execution_count": 4,
   "id": "b4d5459c",
   "metadata": {},
   "outputs": [
    {
     "data": {
      "text/plain": [
       "5"
      ]
     },
     "execution_count": 4,
     "metadata": {},
     "output_type": "execute_result"
    }
   ],
   "source": [
    "len(planetlist)"
   ]
  },
  {
   "cell_type": "code",
   "execution_count": 5,
   "id": "83316355",
   "metadata": {},
   "outputs": [
    {
     "data": {
      "text/plain": [
       "['Mercury', 'Venus', 'Earth', 'Mars', 'Saturn', 'Uranus']"
      ]
     },
     "execution_count": 5,
     "metadata": {},
     "output_type": "execute_result"
    }
   ],
   "source": [
    "planetlist.append(\"Uranus\")\n",
    "planetlist"
   ]
  },
  {
   "cell_type": "code",
   "execution_count": 6,
   "id": "84d544b3",
   "metadata": {},
   "outputs": [
    {
     "data": {
      "text/plain": [
       "3"
      ]
     },
     "execution_count": 6,
     "metadata": {},
     "output_type": "execute_result"
    }
   ],
   "source": [
    "planetlist.index(\"Mars\")"
   ]
  },
  {
   "cell_type": "code",
   "execution_count": 7,
   "id": "1e962a3d",
   "metadata": {},
   "outputs": [
    {
     "data": {
      "text/plain": [
       "['Mercury', 'Venus', 'Galaxy', 'Earth', 'Mars', 'Saturn', 'Uranus']"
      ]
     },
     "execution_count": 7,
     "metadata": {},
     "output_type": "execute_result"
    }
   ],
   "source": [
    "planetlist.insert(2,\"Galaxy\")\n",
    "planetlist"
   ]
  },
  {
   "cell_type": "code",
   "execution_count": 8,
   "id": "b96bb40d",
   "metadata": {},
   "outputs": [
    {
     "data": {
      "text/plain": [
       "2"
      ]
     },
     "execution_count": 8,
     "metadata": {},
     "output_type": "execute_result"
    }
   ],
   "source": [
    "planetlist.index(\"Galaxy\")"
   ]
  },
  {
   "cell_type": "code",
   "execution_count": 9,
   "id": "38d25d9c",
   "metadata": {},
   "outputs": [
    {
     "data": {
      "text/plain": [
       "4"
      ]
     },
     "execution_count": 9,
     "metadata": {},
     "output_type": "execute_result"
    }
   ],
   "source": [
    "planetlist.index('Mars')"
   ]
  },
  {
   "cell_type": "code",
   "execution_count": 10,
   "id": "cd7165e1",
   "metadata": {},
   "outputs": [
    {
     "data": {
      "text/plain": [
       "['Earth', 'Galaxy', 'Mars', 'Mercury', 'Saturn', 'Uranus', 'Venus']"
      ]
     },
     "execution_count": 10,
     "metadata": {},
     "output_type": "execute_result"
    }
   ],
   "source": [
    "planetlist.sort()      # asscending order \n",
    "planetlist"
   ]
  },
  {
   "cell_type": "code",
   "execution_count": 11,
   "id": "a36a1aa8",
   "metadata": {},
   "outputs": [
    {
     "data": {
      "text/plain": [
       "7"
      ]
     },
     "execution_count": 11,
     "metadata": {},
     "output_type": "execute_result"
    }
   ],
   "source": [
    "len(planetlist)"
   ]
  },
  {
   "cell_type": "code",
   "execution_count": 12,
   "id": "9bdb0083",
   "metadata": {},
   "outputs": [
    {
     "data": {
      "text/plain": [
       "['Earth', 'Galaxy', 'Mars', 'Mercury', 'Moon', 'Saturn', 'Uranus', 'Venus']"
      ]
     },
     "execution_count": 12,
     "metadata": {},
     "output_type": "execute_result"
    }
   ],
   "source": [
    "planetlist.insert(4,\"Moon\")\n",
    "planetlist"
   ]
  },
  {
   "cell_type": "code",
   "execution_count": 13,
   "id": "69f60ab0",
   "metadata": {},
   "outputs": [
    {
     "data": {
      "text/plain": [
       "['Venus', 'Uranus', 'Saturn', 'Moon', 'Mercury', 'Mars', 'Galaxy', 'Earth']"
      ]
     },
     "execution_count": 13,
     "metadata": {},
     "output_type": "execute_result"
    }
   ],
   "source": [
    "planetlist.reverse()\n",
    "planetlist"
   ]
  },
  {
   "cell_type": "code",
   "execution_count": 14,
   "id": "e8e87d70",
   "metadata": {},
   "outputs": [
    {
     "data": {
      "text/plain": [
       "['Venus', 'Uranus', 'Saturn', 'Moon', 'Mercury', 'Mars', 'Galaxy']"
      ]
     },
     "execution_count": 14,
     "metadata": {},
     "output_type": "execute_result"
    }
   ],
   "source": [
    "planetlist.pop()\n",
    "planetlist"
   ]
  },
  {
   "cell_type": "code",
   "execution_count": 15,
   "id": "ec06f64f",
   "metadata": {},
   "outputs": [
    {
     "data": {
      "text/plain": [
       "'Galaxy'"
      ]
     },
     "execution_count": 15,
     "metadata": {},
     "output_type": "execute_result"
    }
   ],
   "source": [
    "planetlist.pop()"
   ]
  },
  {
   "cell_type": "code",
   "execution_count": 16,
   "id": "5fd90f32",
   "metadata": {},
   "outputs": [
    {
     "data": {
      "text/plain": [
       "['Venus', 'Uranus', 'Saturn', 'Moon', 'Mercury', 'Mars']"
      ]
     },
     "execution_count": 16,
     "metadata": {},
     "output_type": "execute_result"
    }
   ],
   "source": [
    "planetlist"
   ]
  },
  {
   "cell_type": "code",
   "execution_count": 17,
   "id": "e1beb120",
   "metadata": {},
   "outputs": [
    {
     "data": {
      "text/plain": [
       "['Venus', 'Uranus', 'Moon', 'Mercury', 'Mars']"
      ]
     },
     "execution_count": 17,
     "metadata": {},
     "output_type": "execute_result"
    }
   ],
   "source": [
    "planetlist.pop(2)\n",
    "planetlist"
   ]
  },
  {
   "cell_type": "code",
   "execution_count": 18,
   "id": "4e225376",
   "metadata": {},
   "outputs": [
    {
     "data": {
      "text/plain": [
       "['Venus', 'Uranus', 'Mercury', 'Mars']"
      ]
     },
     "execution_count": 18,
     "metadata": {},
     "output_type": "execute_result"
    }
   ],
   "source": [
    "planetlist.remove(\"Moon\")\n",
    "planetlist"
   ]
  },
  {
   "cell_type": "code",
   "execution_count": 19,
   "id": "23bf0389",
   "metadata": {},
   "outputs": [
    {
     "data": {
      "text/plain": [
       "['Venus', 'Uranus', 'Mercury', 'Mars', 'Pluto']"
      ]
     },
     "execution_count": 19,
     "metadata": {},
     "output_type": "execute_result"
    }
   ],
   "source": [
    "planetlist.append('Pluto')\n",
    "planetlist"
   ]
  },
  {
   "cell_type": "code",
   "execution_count": 20,
   "id": "cd39f2ea",
   "metadata": {},
   "outputs": [
    {
     "data": {
      "text/plain": [
       "['Venus', 'Uranus', 'Mercury', 'Mars', 'Pluto', 'Jupiter', 'Neptune']"
      ]
     },
     "execution_count": 20,
     "metadata": {},
     "output_type": "execute_result"
    }
   ],
   "source": [
    "planetlist.extend([\"Jupiter\", \"Neptune\"])\n",
    "planetlist"
   ]
  },
  {
   "cell_type": "code",
   "execution_count": 21,
   "id": "3eb0f90c",
   "metadata": {},
   "outputs": [
    {
     "data": {
      "text/plain": [
       "7"
      ]
     },
     "execution_count": 21,
     "metadata": {},
     "output_type": "execute_result"
    }
   ],
   "source": [
    "len(planetlist)"
   ]
  },
  {
   "cell_type": "code",
   "execution_count": 22,
   "id": "c09415e9",
   "metadata": {},
   "outputs": [
    {
     "data": {
      "text/plain": [
       "['Venus', 'Uranus', 'Mercury', 'Mars', 'Pluto', 'Jupiter']"
      ]
     },
     "execution_count": 22,
     "metadata": {},
     "output_type": "execute_result"
    }
   ],
   "source": [
    "planetlist.pop()\n",
    "planetlist"
   ]
  },
  {
   "cell_type": "code",
   "execution_count": 23,
   "id": "cd8d6ffe",
   "metadata": {},
   "outputs": [
    {
     "data": {
      "text/plain": [
       "['Venus', 'Uranus', 'Mercury', 'Mars', 'Jupiter']"
      ]
     },
     "execution_count": 23,
     "metadata": {},
     "output_type": "execute_result"
    }
   ],
   "source": [
    "planetlist.pop(4)\n",
    "planetlist"
   ]
  },
  {
   "cell_type": "code",
   "execution_count": 25,
   "id": "f6bca8d0",
   "metadata": {},
   "outputs": [
    {
     "data": {
      "text/plain": [
       "['Venus', 'Uranus', 'Mercury', 'Jupiter']"
      ]
     },
     "execution_count": 25,
     "metadata": {},
     "output_type": "execute_result"
    }
   ],
   "source": [
    "planetlist.remove(\"Mars\")\n",
    "planetlist"
   ]
  },
  {
   "cell_type": "code",
   "execution_count": 26,
   "id": "0fe5bcf6",
   "metadata": {
    "scrolled": true
   },
   "outputs": [
    {
     "data": {
      "text/plain": [
       "4"
      ]
     },
     "execution_count": 26,
     "metadata": {},
     "output_type": "execute_result"
    }
   ],
   "source": [
    "len(planetlist)"
   ]
  },
  {
   "cell_type": "code",
   "execution_count": 27,
   "id": "cd6b6010",
   "metadata": {},
   "outputs": [
    {
     "data": {
      "text/plain": [
       "[]"
      ]
     },
     "execution_count": 27,
     "metadata": {},
     "output_type": "execute_result"
    }
   ],
   "source": [
    "planetlist.clear()\n",
    "planetlist"
   ]
  },
  {
   "cell_type": "code",
   "execution_count": 28,
   "id": "104509e4",
   "metadata": {},
   "outputs": [
    {
     "data": {
      "text/plain": [
       "['xyz']"
      ]
     },
     "execution_count": 28,
     "metadata": {},
     "output_type": "execute_result"
    }
   ],
   "source": [
    "planetlist.append(\"xyz\")\n",
    "planetlist"
   ]
  },
  {
   "cell_type": "code",
   "execution_count": 29,
   "id": "1e27d340",
   "metadata": {},
   "outputs": [
    {
     "data": {
      "text/plain": [
       "['xyz', 'Galaxy']"
      ]
     },
     "execution_count": 29,
     "metadata": {},
     "output_type": "execute_result"
    }
   ],
   "source": [
    "planetlist.append(\"Galaxy\")\n",
    "planetlist"
   ]
  },
  {
   "cell_type": "code",
   "execution_count": 34,
   "id": "379ccb97",
   "metadata": {},
   "outputs": [
    {
     "data": {
      "text/plain": [
       "['xyz', 'Galaxy', 'Moon', 'Moon', 'Sun', 'Rose', 'Lily', 'Sun']"
      ]
     },
     "execution_count": 34,
     "metadata": {},
     "output_type": "execute_result"
    }
   ],
   "source": [
    "planetlist.append(\"Sun\")\n",
    "planetlist"
   ]
  },
  {
   "cell_type": "code",
   "execution_count": 32,
   "id": "09ca43d0",
   "metadata": {},
   "outputs": [
    {
     "data": {
      "text/plain": [
       "['xyz', 'Galaxy', 'Moon', 'Moon', 'Sun', 'Rose', 'Lily']"
      ]
     },
     "execution_count": 32,
     "metadata": {},
     "output_type": "execute_result"
    }
   ],
   "source": [
    "planetlist.extend([\"Rose\", \"Lily\"])\n",
    "planetlist"
   ]
  },
  {
   "cell_type": "code",
   "execution_count": 33,
   "id": "225dcf5a",
   "metadata": {},
   "outputs": [
    {
     "data": {
      "text/plain": [
       "'Sun'"
      ]
     },
     "execution_count": 33,
     "metadata": {},
     "output_type": "execute_result"
    }
   ],
   "source": [
    "planetlist[4]"
   ]
  },
  {
   "cell_type": "code",
   "execution_count": 36,
   "id": "9c854d3e",
   "metadata": {},
   "outputs": [
    {
     "data": {
      "text/plain": [
       "['xyz', 'Galaxy', 'Moon', 'Moon', 'Sun', 'Rose', 'Lily', 'Sun']"
      ]
     },
     "execution_count": 36,
     "metadata": {},
     "output_type": "execute_result"
    }
   ],
   "source": [
    "planetlist"
   ]
  },
  {
   "cell_type": "code",
   "execution_count": 37,
   "id": "59a07697",
   "metadata": {},
   "outputs": [
    {
     "data": {
      "text/plain": [
       "['xyz', 'Galaxy', 'Moon', 'Moon', 'Satellite', 'Rose', 'Lily', 'Sun']"
      ]
     },
     "execution_count": 37,
     "metadata": {},
     "output_type": "execute_result"
    }
   ],
   "source": [
    "planetlist[4] = \"Satellite\"   # that's why list is mutable\n",
    "planetlist"
   ]
  },
  {
   "cell_type": "code",
   "execution_count": 38,
   "id": "32c75dd3",
   "metadata": {},
   "outputs": [
    {
     "data": {
      "text/plain": [
       "[]"
      ]
     },
     "execution_count": 38,
     "metadata": {},
     "output_type": "execute_result"
    }
   ],
   "source": [
    "planetlist.clear()\n",
    "planetlist"
   ]
  },
  {
   "cell_type": "code",
   "execution_count": 39,
   "id": "f3536f91",
   "metadata": {},
   "outputs": [],
   "source": [
    "del planetlist"
   ]
  },
  {
   "cell_type": "code",
   "execution_count": 40,
   "id": "58409206",
   "metadata": {},
   "outputs": [
    {
     "ename": "NameError",
     "evalue": "name 'planetlist' is not defined",
     "output_type": "error",
     "traceback": [
      "\u001b[1;31m---------------------------------------------------------------------------\u001b[0m",
      "\u001b[1;31mNameError\u001b[0m                                 Traceback (most recent call last)",
      "Input \u001b[1;32mIn [40]\u001b[0m, in \u001b[0;36m<cell line: 1>\u001b[1;34m()\u001b[0m\n\u001b[1;32m----> 1\u001b[0m \u001b[43mplanetlist\u001b[49m\n",
      "\u001b[1;31mNameError\u001b[0m: name 'planetlist' is not defined"
     ]
    }
   ],
   "source": [
    "planetlist  # here error because we delete planetlist that's why this code give error"
   ]
  },
  {
   "cell_type": "code",
   "execution_count": 41,
   "id": "08920e1f",
   "metadata": {},
   "outputs": [
    {
     "data": {
      "text/plain": [
       "[45, 78, 90, 34, 44]"
      ]
     },
     "execution_count": 41,
     "metadata": {},
     "output_type": "execute_result"
    }
   ],
   "source": [
    "testlist1 = [45, 78, 90, 34, 44]\n",
    "testlist1"
   ]
  },
  {
   "cell_type": "code",
   "execution_count": 42,
   "id": "34c9be95",
   "metadata": {},
   "outputs": [
    {
     "data": {
      "text/plain": [
       "90"
      ]
     },
     "execution_count": 42,
     "metadata": {},
     "output_type": "execute_result"
    }
   ],
   "source": [
    "testlist1[2]"
   ]
  },
  {
   "cell_type": "code",
   "execution_count": 44,
   "id": "77a75750",
   "metadata": {},
   "outputs": [
    {
     "data": {
      "text/plain": [
       "[45, 78, 200, 34, 44]"
      ]
     },
     "execution_count": 44,
     "metadata": {},
     "output_type": "execute_result"
    }
   ],
   "source": [
    "testlist1[2] = 200  # here value is change that's why list is mutable\n",
    "testlist1"
   ]
  },
  {
   "cell_type": "code",
   "execution_count": 45,
   "id": "e58665df",
   "metadata": {},
   "outputs": [],
   "source": [
    "testlist1.clear()"
   ]
  },
  {
   "cell_type": "code",
   "execution_count": 46,
   "id": "6d0b8d64",
   "metadata": {},
   "outputs": [
    {
     "data": {
      "text/plain": [
       "[]"
      ]
     },
     "execution_count": 46,
     "metadata": {},
     "output_type": "execute_result"
    }
   ],
   "source": [
    "testlist1"
   ]
  },
  {
   "cell_type": "code",
   "execution_count": 47,
   "id": "d43ea235",
   "metadata": {},
   "outputs": [],
   "source": [
    "del testlist1"
   ]
  },
  {
   "cell_type": "code",
   "execution_count": 48,
   "id": "9d3fb235",
   "metadata": {},
   "outputs": [
    {
     "ename": "NameError",
     "evalue": "name 'testlist1' is not defined",
     "output_type": "error",
     "traceback": [
      "\u001b[1;31m---------------------------------------------------------------------------\u001b[0m",
      "\u001b[1;31mNameError\u001b[0m                                 Traceback (most recent call last)",
      "Input \u001b[1;32mIn [48]\u001b[0m, in \u001b[0;36m<cell line: 1>\u001b[1;34m()\u001b[0m\n\u001b[1;32m----> 1\u001b[0m \u001b[43mtestlist1\u001b[49m\n",
      "\u001b[1;31mNameError\u001b[0m: name 'testlist1' is not defined"
     ]
    }
   ],
   "source": [
    "testlist1  # here also we delete testlist1 that's why this code give error."
   ]
  },
  {
   "cell_type": "code",
   "execution_count": 49,
   "id": "504fa0cf",
   "metadata": {},
   "outputs": [
    {
     "data": {
      "text/plain": [
       "['Mouse', 'Laptop', 'Mobile']"
      ]
     },
     "execution_count": 49,
     "metadata": {},
     "output_type": "execute_result"
    }
   ],
   "source": [
    "list1= [\"Mouse\", \"Laptop\", \"Mobile\"]\n",
    "list1"
   ]
  },
  {
   "cell_type": "code",
   "execution_count": 50,
   "id": "1297f548",
   "metadata": {},
   "outputs": [
    {
     "data": {
      "text/plain": [
       "['Mouse', 'Lenovo', 'Laptop', 'Mobile']"
      ]
     },
     "execution_count": 50,
     "metadata": {},
     "output_type": "execute_result"
    }
   ],
   "source": [
    "list1.insert(1,\"Lenovo\")\n",
    "list1"
   ]
  }
 ],
 "metadata": {
  "kernelspec": {
   "display_name": "Python 3 (ipykernel)",
   "language": "python",
   "name": "python3"
  },
  "language_info": {
   "codemirror_mode": {
    "name": "ipython",
    "version": 3
   },
   "file_extension": ".py",
   "mimetype": "text/x-python",
   "name": "python",
   "nbconvert_exporter": "python",
   "pygments_lexer": "ipython3",
   "version": "3.9.12"
  }
 },
 "nbformat": 4,
 "nbformat_minor": 5
}
