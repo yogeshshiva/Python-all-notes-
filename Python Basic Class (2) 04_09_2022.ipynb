{
 "cells": [
  {
   "cell_type": "code",
   "execution_count": 3,
   "id": "4b85a944",
   "metadata": {},
   "outputs": [
    {
     "name": "stdout",
     "output_type": "stream",
     "text": [
      "john\n"
     ]
    }
   ],
   "source": [
    "name = \"john\"\n",
    "print(name)"
   ]
  },
  {
   "cell_type": "code",
   "execution_count": 4,
   "id": "b9d0f7e2",
   "metadata": {},
   "outputs": [
    {
     "name": "stdout",
     "output_type": "stream",
     "text": [
      "<class 'str'>\n"
     ]
    }
   ],
   "source": [
    "print(type(name))"
   ]
  },
  {
   "cell_type": "code",
   "execution_count": 6,
   "id": "defabc0e",
   "metadata": {},
   "outputs": [],
   "source": [
    "age = 14"
   ]
  },
  {
   "cell_type": "code",
   "execution_count": 7,
   "id": "bbe8e1a7",
   "metadata": {},
   "outputs": [
    {
     "data": {
      "text/plain": [
       "14"
      ]
     },
     "execution_count": 7,
     "metadata": {},
     "output_type": "execute_result"
    }
   ],
   "source": [
    "age"
   ]
  },
  {
   "cell_type": "code",
   "execution_count": 8,
   "id": "124853cd",
   "metadata": {},
   "outputs": [
    {
     "name": "stdout",
     "output_type": "stream",
     "text": [
      "<class 'int'>\n"
     ]
    }
   ],
   "source": [
    "print(type(age))"
   ]
  },
  {
   "cell_type": "code",
   "execution_count": 9,
   "id": "085e7f69",
   "metadata": {},
   "outputs": [],
   "source": [
    "fees = 5800.52"
   ]
  },
  {
   "cell_type": "code",
   "execution_count": 10,
   "id": "a293b52d",
   "metadata": {},
   "outputs": [
    {
     "name": "stdout",
     "output_type": "stream",
     "text": [
      "<class 'float'>\n"
     ]
    }
   ],
   "source": [
    "print(type(fees))"
   ]
  },
  {
   "cell_type": "code",
   "execution_count": 13,
   "id": "f21d3a9c",
   "metadata": {},
   "outputs": [
    {
     "data": {
      "text/plain": [
       "int"
      ]
     },
     "execution_count": 13,
     "metadata": {},
     "output_type": "execute_result"
    }
   ],
   "source": [
    "a = 5\n",
    "type(a)"
   ]
  },
  {
   "cell_type": "markdown",
   "id": "ad3c891e",
   "metadata": {},
   "source": [
    "Type Casting"
   ]
  },
  {
   "cell_type": "code",
   "execution_count": 17,
   "id": "6028bc02",
   "metadata": {},
   "outputs": [
    {
     "name": "stdout",
     "output_type": "stream",
     "text": [
      "<class 'float'>\n",
      "5\n",
      "5.0\n"
     ]
    }
   ],
   "source": [
    "a = 5               # This is Type Casting.\n",
    "b = float(a)\n",
    "print(type(b))\n",
    "print(a)\n",
    "print(b)"
   ]
  },
  {
   "cell_type": "code",
   "execution_count": 20,
   "id": "12458ee0",
   "metadata": {},
   "outputs": [
    {
     "name": "stdout",
     "output_type": "stream",
     "text": [
      "5245\n",
      "<class 'int'>\n",
      "<class 'float'>\n"
     ]
    }
   ],
   "source": [
    "fee = 5245.525\n",
    "a = int(fee)\n",
    "print(a)\n",
    "print(type(a))\n",
    "print(type(fee))"
   ]
  },
  {
   "cell_type": "code",
   "execution_count": 21,
   "id": "b38a77c1",
   "metadata": {},
   "outputs": [
    {
     "name": "stdout",
     "output_type": "stream",
     "text": [
      "<class 'int'>\n"
     ]
    }
   ],
   "source": [
    "p = '78'\n",
    "s = int(p)\n",
    "print(type(s))"
   ]
  },
  {
   "cell_type": "markdown",
   "id": "98058bce",
   "metadata": {},
   "source": [
    "User Input"
   ]
  },
  {
   "cell_type": "code",
   "execution_count": 31,
   "id": "078ac4ae",
   "metadata": {},
   "outputs": [
    {
     "name": "stdout",
     "output_type": "stream",
     "text": [
      "Enter value.\n",
      "89\n"
     ]
    }
   ],
   "source": [
    "a = input(\"Enter value.\\n\")"
   ]
  },
  {
   "cell_type": "code",
   "execution_count": 32,
   "id": "20b2bdf2",
   "metadata": {},
   "outputs": [
    {
     "data": {
      "text/plain": [
       "'89'"
      ]
     },
     "execution_count": 32,
     "metadata": {},
     "output_type": "execute_result"
    }
   ],
   "source": [
    "a"
   ]
  },
  {
   "cell_type": "code",
   "execution_count": 33,
   "id": "e1df785d",
   "metadata": {},
   "outputs": [
    {
     "data": {
      "text/plain": [
       "str"
      ]
     },
     "execution_count": 33,
     "metadata": {},
     "output_type": "execute_result"
    }
   ],
   "source": [
    "type(a)"
   ]
  },
  {
   "cell_type": "code",
   "execution_count": 39,
   "id": "49c41ade",
   "metadata": {},
   "outputs": [
    {
     "name": "stdout",
     "output_type": "stream",
     "text": [
      "Enter any City name\n",
      "New York\n"
     ]
    }
   ],
   "source": [
    "city = input(\"Enter any City name\\n\")"
   ]
  },
  {
   "cell_type": "code",
   "execution_count": 41,
   "id": "1e804498",
   "metadata": {},
   "outputs": [
    {
     "name": "stdout",
     "output_type": "stream",
     "text": [
      "Enter any country name\n",
      "India\n"
     ]
    }
   ],
   "source": [
    "country = input(\"Enter any country name\\n\")"
   ]
  },
  {
   "cell_type": "code",
   "execution_count": 46,
   "id": "bdcb8495",
   "metadata": {},
   "outputs": [
    {
     "name": "stdout",
     "output_type": "stream",
     "text": [
      "Enter any number\n",
      "1\n"
     ]
    },
    {
     "data": {
      "text/plain": [
       "str"
      ]
     },
     "execution_count": 46,
     "metadata": {},
     "output_type": "execute_result"
    }
   ],
   "source": [
    "x = input(\"Enter any number\\n\")\n",
    "type(x)"
   ]
  },
  {
   "cell_type": "code",
   "execution_count": 47,
   "id": "f24a286f",
   "metadata": {},
   "outputs": [
    {
     "name": "stdout",
     "output_type": "stream",
     "text": [
      "Enter first number.\n",
      "20\n",
      "Entery second number.\n",
      "50\n",
      "2050\n"
     ]
    }
   ],
   "source": [
    "x = input(\"Enter first number.\\n\")   # This is concatination.\n",
    "y = input(\"Entery second number.\\n\")\n",
    "z = x + y\n",
    "print(z)"
   ]
  },
  {
   "cell_type": "code",
   "execution_count": 49,
   "id": "9ccb6820",
   "metadata": {},
   "outputs": [
    {
     "name": "stdout",
     "output_type": "stream",
     "text": [
      "Enter first number.\n",
      "50\n",
      "Enter second number.\n",
      "20\n",
      "70\n"
     ]
    }
   ],
   "source": [
    "x = int(input(\"Enter first number.\\n\"))\n",
    "y = int(input(\"Enter second number.\\n\"))\n",
    "z = x+y\n",
    "print(z)"
   ]
  },
  {
   "cell_type": "markdown",
   "id": "1708a4d5",
   "metadata": {},
   "source": [
    "area of rectangle by user input"
   ]
  },
  {
   "cell_type": "code",
   "execution_count": 50,
   "id": "2cf2f1dc",
   "metadata": {},
   "outputs": [
    {
     "name": "stdout",
     "output_type": "stream",
     "text": [
      "40000\n"
     ]
    }
   ],
   "source": [
    "length = 800\n",
    "breadth = 50\n",
    "area = length * breadth\n",
    "print(area)"
   ]
  },
  {
   "cell_type": "code",
   "execution_count": 51,
   "id": "1f6590aa",
   "metadata": {},
   "outputs": [
    {
     "name": "stdout",
     "output_type": "stream",
     "text": [
      "Enter length of rectangle.800\n",
      "Enter breadth of rectangle.50\n",
      "The area of rectangle is  40000\n",
      "The area of rectangle with length = 800 breadth 50 is 40000\n"
     ]
    }
   ],
   "source": [
    "length = int(input(\"Enter length of rectangle.\"))\n",
    "breadth = int(input(\"Enter breadth of rectangle.\"))\n",
    "area = length * breadth\n",
    "print(\"The area of rectangle is \",area)\n",
    "print(\"The area of rectangle with length =\",length,\"breadth\",breadth,\"is\",area)"
   ]
  },
  {
   "cell_type": "markdown",
   "id": "2c63e4e8",
   "metadata": {},
   "source": [
    "Area of circle by User input"
   ]
  },
  {
   "cell_type": "markdown",
   "id": "9df7049b",
   "metadata": {},
   "source": [
    "pi = 3.14\n",
    "radius = radius **2\n",
    "area of circle = pi rsquare"
   ]
  },
  {
   "cell_type": "code",
   "execution_count": null,
   "id": "d794f14c",
   "metadata": {},
   "outputs": [],
   "source": [
    "radius = 45\n",
    "value of pie = 3.14\n",
    "find area of circle ?"
   ]
  },
  {
   "cell_type": "code",
   "execution_count": 53,
   "id": "66dcf1aa",
   "metadata": {},
   "outputs": [
    {
     "name": "stdout",
     "output_type": "stream",
     "text": [
      "The area of circle = 6358.5\n"
     ]
    }
   ],
   "source": [
    "radius = 45\n",
    "pie = 3.14\n",
    "\n",
    "area_of_circle = pie * (radius**2)\n",
    "print(\"The area of circle =\",area_of_circle)"
   ]
  },
  {
   "cell_type": "code",
   "execution_count": 54,
   "id": "ccc3a521",
   "metadata": {},
   "outputs": [
    {
     "name": "stdout",
     "output_type": "stream",
     "text": [
      "Enter radius of circle.56\n",
      "The area of circle = 9847.04\n"
     ]
    }
   ],
   "source": [
    "radius = int(input(\"Enter radius of circle.\"))\n",
    "pie = 3.14\n",
    "\n",
    "area_of_circle = pie * (radius**2)\n",
    "print(\"The area of circle =\",area_of_circle)"
   ]
  },
  {
   "cell_type": "markdown",
   "id": "c1e697d1",
   "metadata": {},
   "source": [
    "circumference of circle is 2pieR"
   ]
  },
  {
   "cell_type": "code",
   "execution_count": 55,
   "id": "ef1c6c59",
   "metadata": {},
   "outputs": [
    {
     "name": "stdout",
     "output_type": "stream",
     "text": [
      "Enter radius of circumference.\n",
      "12\n",
      "The circumference of circle is = 75.36\n"
     ]
    }
   ],
   "source": [
    "radius = int(input(\"Enter circumference of circle.\\n\"))\n",
    "pie = 3.14\n",
    "\n",
    "area_of_circumference = 2 * pie * radius\n",
    "\n",
    "print(\"The circumference of circle is =\",area_of_circumference)"
   ]
  },
  {
   "cell_type": "markdown",
   "id": "8c3324c8",
   "metadata": {},
   "source": [
    "Perimeter of circle is 2 * (length * bredth)"
   ]
  },
  {
   "cell_type": "code",
   "execution_count": 57,
   "id": "2e67d2f0",
   "metadata": {},
   "outputs": [
    {
     "name": "stdout",
     "output_type": "stream",
     "text": [
      "Enter length of rectangle.\n",
      "60\n",
      "Enter breadth of rectangle.\n",
      "40\n",
      "The perimeter of rectangle is = 4800\n"
     ]
    }
   ],
   "source": [
    "length = int(input(\"Enter length of rectangle.\\n\"))\n",
    "breadth = int(input(\"Enter breadth of rectangle.\\n\"))\n",
    "\n",
    "perimeter_of_rectangle = 2 * (length * breadth)\n",
    "print(\"The perimeter of rectangle is =\",perimeter_of_rectangle)"
   ]
  },
  {
   "cell_type": "markdown",
   "id": "51aec10d",
   "metadata": {},
   "source": [
    "# Data Structure In Python"
   ]
  },
  {
   "cell_type": "markdown",
   "id": "dd54d7c9",
   "metadata": {},
   "source": [
    "Data Structures:      \n",
    "    1) list   \n",
    "    2) tuple   \n",
    "    3) dictionary   \n",
    "    4) sets   "
   ]
  },
  {
   "cell_type": "markdown",
   "id": "515e2a29",
   "metadata": {},
   "source": [
    "# LIST"
   ]
  },
  {
   "cell_type": "code",
   "execution_count": 58,
   "id": "abe2fa42",
   "metadata": {},
   "outputs": [
    {
     "name": "stdout",
     "output_type": "stream",
     "text": [
      "[1, 2, 3]\n"
     ]
    }
   ],
   "source": [
    "list1 = [1,2,3]        # here same data type so this is homogenous list.\n",
    "print(list1)"
   ]
  },
  {
   "cell_type": "code",
   "execution_count": 59,
   "id": "0cec023f",
   "metadata": {},
   "outputs": [
    {
     "name": "stdout",
     "output_type": "stream",
     "text": [
      "<class 'list'>\n",
      "[10, 20, 30, 40, 50]\n"
     ]
    }
   ],
   "source": [
    "list2 = [10,20,30,40,50]      # homogenous list\n",
    "print(type(list2))\n",
    "print(list2)"
   ]
  },
  {
   "cell_type": "code",
   "execution_count": 61,
   "id": "b60ceb3c",
   "metadata": {},
   "outputs": [
    {
     "name": "stdout",
     "output_type": "stream",
     "text": [
      "[12.3, 45.6, 34.2, 88.5, 78.4]\n",
      "<class 'list'>\n"
     ]
    }
   ],
   "source": [
    "list3 = [12.3, 45.6, 34.2, 88.5, 78.4]    # homogenous list\n",
    "print(list3)\n",
    "print(type(list3))"
   ]
  },
  {
   "cell_type": "code",
   "execution_count": 62,
   "id": "187a8a6c",
   "metadata": {},
   "outputs": [
    {
     "name": "stdout",
     "output_type": "stream",
     "text": [
      "['a', 'b', 'c', 'd']\n",
      "<class 'list'>\n"
     ]
    }
   ],
   "source": [
    "list4 = ['a', 'b', 'c', 'd']    # homogenous list\n",
    "print(list4)\n",
    "print(type(list4))"
   ]
  },
  {
   "cell_type": "code",
   "execution_count": 63,
   "id": "a931c995",
   "metadata": {},
   "outputs": [
    {
     "name": "stdout",
     "output_type": "stream",
     "text": [
      "[12, 67, 56.9, 34.2, 90.3, 'Apple', 'Moon', True]\n",
      "<class 'list'>\n"
     ]
    }
   ],
   "source": [
    "list5 = [12, 67, 56.9, 34.2, 90.3, 'Apple', 'Moon', True]   # hetrogenous list\n",
    "print(list5)\n",
    "print(type(list5))"
   ]
  },
  {
   "cell_type": "code",
   "execution_count": 64,
   "id": "50a1d9cf",
   "metadata": {},
   "outputs": [
    {
     "name": "stdout",
     "output_type": "stream",
     "text": [
      "['Apple', 'Mango', 'Banana', 'Melon', 'Pineapple', 'Grapes', 'Papaya']\n",
      "<class 'list'>\n"
     ]
    }
   ],
   "source": [
    "fruitlist = [\"Apple\", \"Mango\", \"Banana\", \"Melon\", \"Pineapple\", \"Grapes\", \"Papaya\"]\n",
    "print(fruitlist)\n",
    "print(type(fruitlist))"
   ]
  },
  {
   "cell_type": "code",
   "execution_count": 65,
   "id": "aa096d20",
   "metadata": {},
   "outputs": [
    {
     "data": {
      "text/plain": [
       "[10, 20, 30, 40, 50]"
      ]
     },
     "execution_count": 65,
     "metadata": {},
     "output_type": "execute_result"
    }
   ],
   "source": [
    "list2"
   ]
  },
  {
   "cell_type": "markdown",
   "id": "067476bc",
   "metadata": {},
   "source": [
    "INDEXING"
   ]
  },
  {
   "cell_type": "code",
   "execution_count": 66,
   "id": "d6e7d7c7",
   "metadata": {},
   "outputs": [
    {
     "data": {
      "text/plain": [
       "10"
      ]
     },
     "execution_count": 66,
     "metadata": {},
     "output_type": "execute_result"
    }
   ],
   "source": [
    "list2[0]"
   ]
  },
  {
   "cell_type": "code",
   "execution_count": 67,
   "id": "79f1d5d2",
   "metadata": {},
   "outputs": [
    {
     "data": {
      "text/plain": [
       "20"
      ]
     },
     "execution_count": 67,
     "metadata": {},
     "output_type": "execute_result"
    }
   ],
   "source": [
    "list2[1]"
   ]
  },
  {
   "cell_type": "code",
   "execution_count": 68,
   "id": "3b3413e0",
   "metadata": {},
   "outputs": [
    {
     "data": {
      "text/plain": [
       "30"
      ]
     },
     "execution_count": 68,
     "metadata": {},
     "output_type": "execute_result"
    }
   ],
   "source": [
    "list2[2]"
   ]
  },
  {
   "cell_type": "code",
   "execution_count": 70,
   "id": "f125bfbd",
   "metadata": {},
   "outputs": [
    {
     "data": {
      "text/plain": [
       "['Apple', 'Mango', 'Banana', 'Melon', 'Pineapple', 'Grapes', 'Papaya']"
      ]
     },
     "execution_count": 70,
     "metadata": {},
     "output_type": "execute_result"
    }
   ],
   "source": [
    "fruitlist"
   ]
  },
  {
   "cell_type": "code",
   "execution_count": 71,
   "id": "68d609a2",
   "metadata": {},
   "outputs": [
    {
     "data": {
      "text/plain": [
       "'Apple'"
      ]
     },
     "execution_count": 71,
     "metadata": {},
     "output_type": "execute_result"
    }
   ],
   "source": [
    "fruitlist[0]"
   ]
  },
  {
   "cell_type": "code",
   "execution_count": 72,
   "id": "f278f4cc",
   "metadata": {},
   "outputs": [
    {
     "data": {
      "text/plain": [
       "'Mango'"
      ]
     },
     "execution_count": 72,
     "metadata": {},
     "output_type": "execute_result"
    }
   ],
   "source": [
    "fruitlist[1]"
   ]
  },
  {
   "cell_type": "code",
   "execution_count": 73,
   "id": "28f914e8",
   "metadata": {},
   "outputs": [
    {
     "data": {
      "text/plain": [
       "'Banana'"
      ]
     },
     "execution_count": 73,
     "metadata": {},
     "output_type": "execute_result"
    }
   ],
   "source": [
    "fruitlist[2]"
   ]
  },
  {
   "cell_type": "code",
   "execution_count": 74,
   "id": "afe95d72",
   "metadata": {},
   "outputs": [
    {
     "data": {
      "text/plain": [
       "'Grapes'"
      ]
     },
     "execution_count": 74,
     "metadata": {},
     "output_type": "execute_result"
    }
   ],
   "source": [
    "fruitlist[5]"
   ]
  },
  {
   "cell_type": "markdown",
   "id": "3181bdfb",
   "metadata": {},
   "source": [
    "above they all are positive indexing"
   ]
  },
  {
   "cell_type": "markdown",
   "id": "d9636c56",
   "metadata": {},
   "source": [
    "negative indexing is given below"
   ]
  },
  {
   "cell_type": "code",
   "execution_count": 75,
   "id": "eb4e9b56",
   "metadata": {},
   "outputs": [
    {
     "data": {
      "text/plain": [
       "'Papaya'"
      ]
     },
     "execution_count": 75,
     "metadata": {},
     "output_type": "execute_result"
    }
   ],
   "source": [
    "fruitlist[-1]"
   ]
  },
  {
   "cell_type": "code",
   "execution_count": 76,
   "id": "3557d24c",
   "metadata": {},
   "outputs": [
    {
     "data": {
      "text/plain": [
       "'Grapes'"
      ]
     },
     "execution_count": 76,
     "metadata": {},
     "output_type": "execute_result"
    }
   ],
   "source": [
    "fruitlist[-2]"
   ]
  },
  {
   "cell_type": "code",
   "execution_count": 77,
   "id": "2f229af6",
   "metadata": {},
   "outputs": [
    {
     "data": {
      "text/plain": [
       "'Melon'"
      ]
     },
     "execution_count": 77,
     "metadata": {},
     "output_type": "execute_result"
    }
   ],
   "source": [
    "fruitlist[-4]"
   ]
  },
  {
   "cell_type": "code",
   "execution_count": 78,
   "id": "6c43dc5f",
   "metadata": {},
   "outputs": [
    {
     "data": {
      "text/plain": [
       "'Mango'"
      ]
     },
     "execution_count": 78,
     "metadata": {},
     "output_type": "execute_result"
    }
   ],
   "source": [
    "fruitlist[-6]"
   ]
  },
  {
   "cell_type": "markdown",
   "id": "548a83e2",
   "metadata": {},
   "source": [
    "# SLICING"
   ]
  },
  {
   "cell_type": "code",
   "execution_count": 79,
   "id": "bedcd185",
   "metadata": {},
   "outputs": [
    {
     "data": {
      "text/plain": [
       "['Apple', 'Mango', 'Banana', 'Melon', 'Pineapple', 'Grapes', 'Papaya']"
      ]
     },
     "execution_count": 79,
     "metadata": {},
     "output_type": "execute_result"
    }
   ],
   "source": [
    "fruitlist"
   ]
  },
  {
   "cell_type": "code",
   "execution_count": 80,
   "id": "95c84dc3",
   "metadata": {},
   "outputs": [
    {
     "data": {
      "text/plain": [
       "['Apple']"
      ]
     },
     "execution_count": 80,
     "metadata": {},
     "output_type": "execute_result"
    }
   ],
   "source": [
    "fruitlist[0:1]"
   ]
  },
  {
   "cell_type": "code",
   "execution_count": 81,
   "id": "2f51751d",
   "metadata": {},
   "outputs": [
    {
     "data": {
      "text/plain": [
       "['Apple', 'Mango']"
      ]
     },
     "execution_count": 81,
     "metadata": {},
     "output_type": "execute_result"
    }
   ],
   "source": [
    "fruitlist[0:2]"
   ]
  },
  {
   "cell_type": "code",
   "execution_count": 82,
   "id": "16cf2348",
   "metadata": {},
   "outputs": [
    {
     "data": {
      "text/plain": [
       "['Apple', 'Mango', 'Banana']"
      ]
     },
     "execution_count": 82,
     "metadata": {},
     "output_type": "execute_result"
    }
   ],
   "source": [
    "fruitlist[0:3]"
   ]
  },
  {
   "cell_type": "code",
   "execution_count": 83,
   "id": "4c361f59",
   "metadata": {},
   "outputs": [
    {
     "data": {
      "text/plain": [
       "['Apple', 'Mango', 'Banana', 'Melon', 'Pineapple', 'Grapes']"
      ]
     },
     "execution_count": 83,
     "metadata": {},
     "output_type": "execute_result"
    }
   ],
   "source": [
    "fruitlist[0:6]"
   ]
  },
  {
   "cell_type": "code",
   "execution_count": 84,
   "id": "49606ea5",
   "metadata": {},
   "outputs": [
    {
     "data": {
      "text/plain": [
       "['Apple', 'Mango', 'Banana', 'Melon', 'Pineapple', 'Grapes', 'Papaya']"
      ]
     },
     "execution_count": 84,
     "metadata": {},
     "output_type": "execute_result"
    }
   ],
   "source": [
    "fruitlist[:]"
   ]
  },
  {
   "cell_type": "code",
   "execution_count": 85,
   "id": "9c70e55e",
   "metadata": {},
   "outputs": [
    {
     "data": {
      "text/plain": [
       "['Mango', 'Banana', 'Melon', 'Pineapple']"
      ]
     },
     "execution_count": 85,
     "metadata": {},
     "output_type": "execute_result"
    }
   ],
   "source": [
    "fruitlist[1:5]"
   ]
  },
  {
   "cell_type": "code",
   "execution_count": 86,
   "id": "0bf073c7",
   "metadata": {},
   "outputs": [
    {
     "data": {
      "text/plain": [
       "['Banana', 'Melon', 'Pineapple', 'Grapes']"
      ]
     },
     "execution_count": 86,
     "metadata": {},
     "output_type": "execute_result"
    }
   ],
   "source": [
    "fruitlist[2:6]"
   ]
  },
  {
   "cell_type": "code",
   "execution_count": 87,
   "id": "ee9881f0",
   "metadata": {},
   "outputs": [
    {
     "data": {
      "text/plain": [
       "['Melon', 'Pineapple']"
      ]
     },
     "execution_count": 87,
     "metadata": {},
     "output_type": "execute_result"
    }
   ],
   "source": [
    "fruitlist[3:5]"
   ]
  },
  {
   "cell_type": "markdown",
   "id": "80612858",
   "metadata": {},
   "source": [
    "negative slicing"
   ]
  },
  {
   "cell_type": "code",
   "execution_count": 88,
   "id": "7a2e7aaf",
   "metadata": {},
   "outputs": [
    {
     "data": {
      "text/plain": [
       "['Banana', 'Melon', 'Pineapple', 'Grapes']"
      ]
     },
     "execution_count": 88,
     "metadata": {},
     "output_type": "execute_result"
    }
   ],
   "source": [
    "fruitlist[-5:-1]"
   ]
  },
  {
   "cell_type": "code",
   "execution_count": 92,
   "id": "61f21e7f",
   "metadata": {},
   "outputs": [
    {
     "data": {
      "text/plain": [
       "['Mango', 'Banana']"
      ]
     },
     "execution_count": 92,
     "metadata": {},
     "output_type": "execute_result"
    }
   ],
   "source": [
    "fruitlist[-6:-4]"
   ]
  },
  {
   "cell_type": "code",
   "execution_count": 93,
   "id": "ff08a5e5",
   "metadata": {},
   "outputs": [
    {
     "data": {
      "text/plain": [
       "['Mango', 'Banana', 'Melon', 'Pineapple']"
      ]
     },
     "execution_count": 93,
     "metadata": {},
     "output_type": "execute_result"
    }
   ],
   "source": [
    "fruitlist[-6:-2]"
   ]
  },
  {
   "cell_type": "code",
   "execution_count": 95,
   "id": "9b3a5e03",
   "metadata": {},
   "outputs": [
    {
     "data": {
      "text/plain": [
       "['Mango', 'Banana', 'Melon', 'Pineapple', 'Grapes', 'Papaya']"
      ]
     },
     "execution_count": 95,
     "metadata": {},
     "output_type": "execute_result"
    }
   ],
   "source": [
    "fruitlist[-6:]"
   ]
  },
  {
   "cell_type": "code",
   "execution_count": 96,
   "id": "0a7bc10c",
   "metadata": {},
   "outputs": [
    {
     "data": {
      "text/plain": [
       "['Apple', 'Mango', 'Banana', 'Melon', 'Pineapple', 'Grapes']"
      ]
     },
     "execution_count": 96,
     "metadata": {},
     "output_type": "execute_result"
    }
   ],
   "source": [
    "fruitlist[:-1]"
   ]
  },
  {
   "cell_type": "code",
   "execution_count": null,
   "id": "46c99976",
   "metadata": {},
   "outputs": [],
   "source": []
  }
 ],
 "metadata": {
  "kernelspec": {
   "display_name": "Python 3 (ipykernel)",
   "language": "python",
   "name": "python3"
  },
  "language_info": {
   "codemirror_mode": {
    "name": "ipython",
    "version": 3
   },
   "file_extension": ".py",
   "mimetype": "text/x-python",
   "name": "python",
   "nbconvert_exporter": "python",
   "pygments_lexer": "ipython3",
   "version": "3.9.12"
  }
 },
 "nbformat": 4,
 "nbformat_minor": 5
}
