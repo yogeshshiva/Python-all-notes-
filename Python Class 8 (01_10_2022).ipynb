{
 "cells": [
  {
   "cell_type": "markdown",
   "id": "044dcf2a",
   "metadata": {},
   "source": [
    "# Map"
   ]
  },
  {
   "cell_type": "code",
   "execution_count": 1,
   "id": "581a2224",
   "metadata": {},
   "outputs": [
    {
     "data": {
      "text/plain": [
       "[3, 4, 5, 6]"
      ]
     },
     "execution_count": 1,
     "metadata": {},
     "output_type": "execute_result"
    }
   ],
   "source": [
    "list1 = [1, 2, 3, 4]\n",
    "list(map(lambda x:x+2,list1))"
   ]
  },
  {
   "cell_type": "code",
   "execution_count": 3,
   "id": "26f372a8",
   "metadata": {},
   "outputs": [
    {
     "data": {
      "text/plain": [
       "[625, 1024, 2025, 4225]"
      ]
     },
     "execution_count": 3,
     "metadata": {},
     "output_type": "execute_result"
    }
   ],
   "source": [
    "list2 = [25, 32, 45, 65]\n",
    "list(map(lambda x:x**2,list2))"
   ]
  },
  {
   "cell_type": "code",
   "execution_count": 4,
   "id": "5b61147f",
   "metadata": {},
   "outputs": [
    {
     "data": {
      "text/plain": [
       "[20, 40, 60]"
      ]
     },
     "execution_count": 4,
     "metadata": {},
     "output_type": "execute_result"
    }
   ],
   "source": [
    "list3=[10, 20, 30]\n",
    "list(map(lambda p:p*2,list3))"
   ]
  },
  {
   "cell_type": "code",
   "execution_count": 9,
   "id": "cb76b18e",
   "metadata": {},
   "outputs": [
    {
     "data": {
      "text/plain": [
       "[11.5, 27.0, 42.5, 22.0]"
      ]
     },
     "execution_count": 9,
     "metadata": {},
     "output_type": "execute_result"
    }
   ],
   "source": [
    "list4 = [23, 54, 85, 44]\n",
    "list(map(lambda x:x/2,list4))"
   ]
  },
  {
   "cell_type": "code",
   "execution_count": 11,
   "id": "1bb281d8",
   "metadata": {},
   "outputs": [
    {
     "data": {
      "text/plain": [
       "[11, 27, 42, 22]"
      ]
     },
     "execution_count": 11,
     "metadata": {},
     "output_type": "execute_result"
    }
   ],
   "source": [
    "list5 = [23, 54, 85, 44]\n",
    "list(map(lambda x:x//2,list5))"
   ]
  },
  {
   "cell_type": "code",
   "execution_count": 12,
   "id": "606d9743",
   "metadata": {},
   "outputs": [
    {
     "name": "stdout",
     "output_type": "stream",
     "text": [
      "[95.36000000000001, 97.7, 99.14, 100.4, 103.64]\n"
     ]
    }
   ],
   "source": [
    "Clist = [35.2, 36.5, 37.3, 38, 39.8]\n",
    "f = list(map(lambda x:(9/5)*x + 32,Clist))\n",
    "print(f)"
   ]
  },
  {
   "cell_type": "code",
   "execution_count": 13,
   "id": "4d152e2d",
   "metadata": {},
   "outputs": [
    {
     "name": "stdout",
     "output_type": "stream",
     "text": [
      "[35.20000000000001, 36.5, 37.300000000000004, 38.00000000000001, 39.800000000000004]\n"
     ]
    }
   ],
   "source": [
    "c = list(map(lambda x: (5/9)*(x-32),f))\n",
    "print(c)"
   ]
  },
  {
   "cell_type": "code",
   "execution_count": 14,
   "id": "0ac306c5",
   "metadata": {},
   "outputs": [
    {
     "data": {
      "text/plain": [
       "[35.2, 36.5, 37.3, 38.0, 39.8]"
      ]
     },
     "execution_count": 14,
     "metadata": {},
     "output_type": "execute_result"
    }
   ],
   "source": [
    "m = [round(p,2)for p in c]   #round function gave me only one decimal value\n",
    "m"
   ]
  },
  {
   "cell_type": "code",
   "execution_count": 15,
   "id": "1ac206f4",
   "metadata": {},
   "outputs": [
    {
     "data": {
      "text/plain": [
       "[35.2, 36.5, 37.3, 38.0, 39.8]"
      ]
     },
     "execution_count": 15,
     "metadata": {},
     "output_type": "execute_result"
    }
   ],
   "source": [
    "newclist = [round(x,2)for x in c]\n",
    "newclist"
   ]
  },
  {
   "cell_type": "code",
   "execution_count": 16,
   "id": "db45dbaf",
   "metadata": {},
   "outputs": [
    {
     "data": {
      "text/plain": [
       "['35.20', '36.50', '37.30', '38.00', '39.80']"
      ]
     },
     "execution_count": 16,
     "metadata": {},
     "output_type": "execute_result"
    }
   ],
   "source": [
    "newlist = ['%.2f'%j for j in c]    # if we use .2f then this is give me 2 decimal value\n",
    "newlist"
   ]
  },
  {
   "cell_type": "code",
   "execution_count": 17,
   "id": "de28633b",
   "metadata": {},
   "outputs": [
    {
     "data": {
      "text/plain": [
       "[35.2, 36.5, 37.3, 38.0, 39.8]"
      ]
     },
     "execution_count": 17,
     "metadata": {},
     "output_type": "execute_result"
    }
   ],
   "source": [
    "m = [round(p,2) for p in c]\n",
    "m"
   ]
  },
  {
   "cell_type": "code",
   "execution_count": 18,
   "id": "aca6fbb4",
   "metadata": {},
   "outputs": [
    {
     "data": {
      "text/plain": [
       "['35.200', '36.500', '37.300', '38.000', '39.800']"
      ]
     },
     "execution_count": 18,
     "metadata": {},
     "output_type": "execute_result"
    }
   ],
   "source": [
    "newlist = ['%.3f'%j for j in c]     # if we use .3f then this is give me 3 decimal value\n",
    "newlist"
   ]
  },
  {
   "cell_type": "markdown",
   "id": "a975b0d0",
   "metadata": {},
   "source": [
    "# filter function"
   ]
  },
  {
   "cell_type": "markdown",
   "id": "0389cdde",
   "metadata": {},
   "source": [
    "filter() function                       \n",
    "it returns the items where function is true.           \n",
    "if none of the element meets condition, it will return nothing. In the code below, we are checking if value is greater than 2.              "
   ]
  },
  {
   "cell_type": "code",
   "execution_count": 19,
   "id": "95431587",
   "metadata": {},
   "outputs": [
    {
     "data": {
      "text/plain": [
       "[3, 4, 5, 6, 7]"
      ]
     },
     "execution_count": 19,
     "metadata": {},
     "output_type": "execute_result"
    }
   ],
   "source": [
    "mylist = [1, 2, 3, 4, 5, 6, 7]\n",
    "list(filter(lambda x:x>2,mylist))"
   ]
  },
  {
   "cell_type": "code",
   "execution_count": 20,
   "id": "a3146d80",
   "metadata": {},
   "outputs": [
    {
     "data": {
      "text/plain": [
       "[2, 4, 6, 8, 10]"
      ]
     },
     "execution_count": 20,
     "metadata": {},
     "output_type": "execute_result"
    }
   ],
   "source": [
    "even = lambda x:x%2==0\n",
    "list(filter(even,range(2,11)))"
   ]
  },
  {
   "cell_type": "code",
   "execution_count": 21,
   "id": "fabf482e",
   "metadata": {},
   "outputs": [
    {
     "data": {
      "text/plain": [
       "[2, 4, 6, 8, 10]"
      ]
     },
     "execution_count": 21,
     "metadata": {},
     "output_type": "execute_result"
    }
   ],
   "source": [
    "# you can do it by list comprehension\n",
    "\n",
    "[x for x in range(2,11) if x%2==0]"
   ]
  }
 ],
 "metadata": {
  "kernelspec": {
   "display_name": "Python 3 (ipykernel)",
   "language": "python",
   "name": "python3"
  },
  "language_info": {
   "codemirror_mode": {
    "name": "ipython",
    "version": 3
   },
   "file_extension": ".py",
   "mimetype": "text/x-python",
   "name": "python",
   "nbconvert_exporter": "python",
   "pygments_lexer": "ipython3",
   "version": "3.9.12"
  }
 },
 "nbformat": 4,
 "nbformat_minor": 5
}
